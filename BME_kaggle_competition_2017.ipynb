{
 "cells": [
  {
   "cell_type": "code",
   "execution_count": 2,
   "metadata": {},
   "outputs": [
    {
     "name": "stdout",
     "output_type": "stream",
     "text": [
      "['', '/home/longa/anaconda3/lib/python36.zip', '/home/longa/anaconda3/lib/python3.6', '/home/longa/anaconda3/lib/python3.6/lib-dynload', '/home/longa/anaconda3/lib/python3.6/site-packages', '/home/longa/anaconda3/lib/python3.6/site-packages/xgboost-0.71-py3.6.egg', '/home/longa/anaconda3/lib/python3.6/site-packages/IPython/extensions', '/home/longa/.ipython']\n"
     ]
    }
   ],
   "source": [
    "import sys\n",
    "print(sys.path)"
   ]
  },
  {
   "cell_type": "code",
   "execution_count": 3,
   "metadata": {},
   "outputs": [],
   "source": [
    "import pandas as pd\n",
    "import numpy as np\n",
    "import datetime as dt\n",
    "import os.path\n",
    "import pandas\n",
    "import time\n",
    "import xgboost as xgb\n",
    "import sys\n",
    "import matplotlib.pyplot as plt\n",
    "import io\n",
    "import re\n",
    "import sys\n",
    "import itertools\n",
    "from sklearn.model_selection import GridSearchCV\n",
    "from sklearn.model_selection import StratifiedKFold"
   ]
  },
  {
   "cell_type": "code",
   "execution_count": 4,
   "metadata": {},
   "outputs": [],
   "source": [
    "from IPython.display import clear_output\n",
    "%load_ext memory_profiler\n",
    "%matplotlib inline"
   ]
  },
  {
   "cell_type": "code",
   "execution_count": 4,
   "metadata": {},
   "outputs": [],
   "source": [
    "df = pd.read_csv(\"/home/longa/03_tarolo/BME/dap/nagyhazi/autos_training_final.csv\",sep='|')"
   ]
  },
  {
   "cell_type": "code",
   "execution_count": 6,
   "metadata": {},
   "outputs": [
    {
     "data": {
      "text/plain": [
       "(250152, 20)"
      ]
     },
     "execution_count": 6,
     "metadata": {},
     "output_type": "execute_result"
    }
   ],
   "source": [
    "df.shape"
   ]
  },
  {
   "cell_type": "code",
   "execution_count": 7,
   "metadata": {},
   "outputs": [
    {
     "data": {
      "text/html": [
       "<div>\n",
       "<style scoped>\n",
       "    .dataframe tbody tr th:only-of-type {\n",
       "        vertical-align: middle;\n",
       "    }\n",
       "\n",
       "    .dataframe tbody tr th {\n",
       "        vertical-align: top;\n",
       "    }\n",
       "\n",
       "    .dataframe thead th {\n",
       "        text-align: right;\n",
       "    }\n",
       "</style>\n",
       "<table border=\"1\" class=\"dataframe\">\n",
       "  <thead>\n",
       "    <tr style=\"text-align: right;\">\n",
       "      <th></th>\n",
       "      <th>dateCrawled</th>\n",
       "      <th>name</th>\n",
       "      <th>seller</th>\n",
       "      <th>offerType</th>\n",
       "      <th>vehicleType</th>\n",
       "      <th>yearOfRegistration</th>\n",
       "      <th>gearbox</th>\n",
       "      <th>powerPS</th>\n",
       "      <th>model</th>\n",
       "      <th>kilometer</th>\n",
       "      <th>monthOfRegistration</th>\n",
       "      <th>fuelType</th>\n",
       "      <th>brand</th>\n",
       "      <th>notRepairedDamage</th>\n",
       "      <th>dateCreated</th>\n",
       "      <th>nrOfPictures</th>\n",
       "      <th>postalCode</th>\n",
       "      <th>lastSeen</th>\n",
       "      <th>id</th>\n",
       "      <th>label</th>\n",
       "    </tr>\n",
       "  </thead>\n",
       "  <tbody>\n",
       "    <tr>\n",
       "      <th>0</th>\n",
       "      <td>2016-03-14 12:52:21</td>\n",
       "      <td>Jeep_Grand_Cherokee_'Overland'</td>\n",
       "      <td>privat</td>\n",
       "      <td>Angebot</td>\n",
       "      <td>suv</td>\n",
       "      <td>2004.0</td>\n",
       "      <td>automatik</td>\n",
       "      <td>163.0</td>\n",
       "      <td>grand</td>\n",
       "      <td>125000.0</td>\n",
       "      <td>8.0</td>\n",
       "      <td>diesel</td>\n",
       "      <td>jeep</td>\n",
       "      <td>NaN</td>\n",
       "      <td>2016-03-14 00:00:00</td>\n",
       "      <td>0.0</td>\n",
       "      <td>90480.0</td>\n",
       "      <td>2016-04-05 12:47:46</td>\n",
       "      <td>3.0</td>\n",
       "      <td>1</td>\n",
       "    </tr>\n",
       "    <tr>\n",
       "      <th>1</th>\n",
       "      <td>2016-03-17 16:54:04</td>\n",
       "      <td>GOLF_4_1_4__3T?RER</td>\n",
       "      <td>privat</td>\n",
       "      <td>Angebot</td>\n",
       "      <td>kleinwagen</td>\n",
       "      <td>2001.0</td>\n",
       "      <td>manuell</td>\n",
       "      <td>75.0</td>\n",
       "      <td>golf</td>\n",
       "      <td>150000.0</td>\n",
       "      <td>6.0</td>\n",
       "      <td>benzin</td>\n",
       "      <td>volkswagen</td>\n",
       "      <td>nein</td>\n",
       "      <td>2016-03-17 00:00:00</td>\n",
       "      <td>0.0</td>\n",
       "      <td>91074.0</td>\n",
       "      <td>2016-03-17 17:40:17</td>\n",
       "      <td>4.0</td>\n",
       "      <td>0</td>\n",
       "    </tr>\n",
       "    <tr>\n",
       "      <th>2</th>\n",
       "      <td>2016-04-04 17:36:23</td>\n",
       "      <td>BMW_316i___e36_Limousine___Bastlerfahrzeug__Ex...</td>\n",
       "      <td>privat</td>\n",
       "      <td>Angebot</td>\n",
       "      <td>limousine</td>\n",
       "      <td>1995.0</td>\n",
       "      <td>manuell</td>\n",
       "      <td>102.0</td>\n",
       "      <td>3er</td>\n",
       "      <td>150000.0</td>\n",
       "      <td>10.0</td>\n",
       "      <td>benzin</td>\n",
       "      <td>bmw</td>\n",
       "      <td>ja</td>\n",
       "      <td>2016-04-04 00:00:00</td>\n",
       "      <td>0.0</td>\n",
       "      <td>33775.0</td>\n",
       "      <td>2016-04-06 19:17:07</td>\n",
       "      <td>6.0</td>\n",
       "      <td>0</td>\n",
       "    </tr>\n",
       "  </tbody>\n",
       "</table>\n",
       "</div>"
      ],
      "text/plain": [
       "           dateCrawled                                               name  \\\n",
       "0  2016-03-14 12:52:21                     Jeep_Grand_Cherokee_'Overland'   \n",
       "1  2016-03-17 16:54:04                                 GOLF_4_1_4__3T?RER   \n",
       "2  2016-04-04 17:36:23  BMW_316i___e36_Limousine___Bastlerfahrzeug__Ex...   \n",
       "\n",
       "   seller offerType vehicleType  yearOfRegistration    gearbox  powerPS  \\\n",
       "0  privat   Angebot         suv              2004.0  automatik    163.0   \n",
       "1  privat   Angebot  kleinwagen              2001.0    manuell     75.0   \n",
       "2  privat   Angebot   limousine              1995.0    manuell    102.0   \n",
       "\n",
       "   model  kilometer  monthOfRegistration fuelType       brand  \\\n",
       "0  grand   125000.0                  8.0   diesel        jeep   \n",
       "1   golf   150000.0                  6.0   benzin  volkswagen   \n",
       "2    3er   150000.0                 10.0   benzin         bmw   \n",
       "\n",
       "  notRepairedDamage          dateCreated  nrOfPictures  postalCode  \\\n",
       "0               NaN  2016-03-14 00:00:00           0.0     90480.0   \n",
       "1              nein  2016-03-17 00:00:00           0.0     91074.0   \n",
       "2                ja  2016-04-04 00:00:00           0.0     33775.0   \n",
       "\n",
       "              lastSeen   id  label  \n",
       "0  2016-04-05 12:47:46  3.0      1  \n",
       "1  2016-03-17 17:40:17  4.0      0  \n",
       "2  2016-04-06 19:17:07  6.0      0  "
      ]
     },
     "execution_count": 7,
     "metadata": {},
     "output_type": "execute_result"
    }
   ],
   "source": [
    "pd.set_option('display.max_columns', None) \n",
    "df.head(3)"
   ]
  },
  {
   "cell_type": "markdown",
   "metadata": {},
   "source": [
    "### var: dateCrawled "
   ]
  },
  {
   "cell_type": "code",
   "execution_count": 8,
   "metadata": {},
   "outputs": [],
   "source": [
    "df['dateCrawled'] = pd.to_datetime(df['dateCrawled'],format = \"%Y/%m/%d %H:%M:%S\")"
   ]
  },
  {
   "cell_type": "code",
   "execution_count": 9,
   "metadata": {},
   "outputs": [
    {
     "data": {
      "text/plain": [
       "count                  250152\n",
       "unique                 207851\n",
       "top       2016-03-22 14:50:05\n",
       "freq                        5\n",
       "first     2016-03-05 14:06:23\n",
       "last      2016-04-07 14:36:58\n",
       "Name: dateCrawled, dtype: object"
      ]
     },
     "execution_count": 9,
     "metadata": {},
     "output_type": "execute_result"
    }
   ],
   "source": [
    "df['dateCrawled'].describe()"
   ]
  },
  {
   "cell_type": "code",
   "execution_count": 12,
   "metadata": {
    "scrolled": true
   },
   "outputs": [
    {
     "data": {
      "text/html": [
       "<div>\n",
       "<style scoped>\n",
       "    .dataframe tbody tr th:only-of-type {\n",
       "        vertical-align: middle;\n",
       "    }\n",
       "\n",
       "    .dataframe tbody tr th {\n",
       "        vertical-align: top;\n",
       "    }\n",
       "\n",
       "    .dataframe thead th {\n",
       "        text-align: right;\n",
       "    }\n",
       "</style>\n",
       "<table border=\"1\" class=\"dataframe\">\n",
       "  <thead>\n",
       "    <tr style=\"text-align: right;\">\n",
       "      <th></th>\n",
       "      <th>dateCrawled</th>\n",
       "      <th>name</th>\n",
       "      <th>seller</th>\n",
       "      <th>offerType</th>\n",
       "      <th>vehicleType</th>\n",
       "      <th>yearOfRegistration</th>\n",
       "      <th>gearbox</th>\n",
       "      <th>powerPS</th>\n",
       "      <th>model</th>\n",
       "      <th>kilometer</th>\n",
       "      <th>monthOfRegistration</th>\n",
       "      <th>fuelType</th>\n",
       "      <th>brand</th>\n",
       "      <th>notRepairedDamage</th>\n",
       "      <th>dateCreated</th>\n",
       "      <th>nrOfPictures</th>\n",
       "      <th>postalCode</th>\n",
       "      <th>lastSeen</th>\n",
       "      <th>id</th>\n",
       "      <th>label</th>\n",
       "    </tr>\n",
       "  </thead>\n",
       "  <tbody>\n",
       "    <tr>\n",
       "      <th>0</th>\n",
       "      <td>2016-03-14 12:52:21</td>\n",
       "      <td>Jeep_Grand_Cherokee_'Overland'</td>\n",
       "      <td>privat</td>\n",
       "      <td>Angebot</td>\n",
       "      <td>suv</td>\n",
       "      <td>2004.0</td>\n",
       "      <td>automatik</td>\n",
       "      <td>163.0</td>\n",
       "      <td>grand</td>\n",
       "      <td>125000.0</td>\n",
       "      <td>8.0</td>\n",
       "      <td>diesel</td>\n",
       "      <td>jeep</td>\n",
       "      <td>NaN</td>\n",
       "      <td>2016-03-14 00:00:00</td>\n",
       "      <td>0.0</td>\n",
       "      <td>90480.0</td>\n",
       "      <td>2016-04-05 12:47:46</td>\n",
       "      <td>3.0</td>\n",
       "      <td>1</td>\n",
       "    </tr>\n",
       "    <tr>\n",
       "      <th>1</th>\n",
       "      <td>2016-03-17 16:54:04</td>\n",
       "      <td>GOLF_4_1_4__3T?RER</td>\n",
       "      <td>privat</td>\n",
       "      <td>Angebot</td>\n",
       "      <td>kleinwagen</td>\n",
       "      <td>2001.0</td>\n",
       "      <td>manuell</td>\n",
       "      <td>75.0</td>\n",
       "      <td>golf</td>\n",
       "      <td>150000.0</td>\n",
       "      <td>6.0</td>\n",
       "      <td>benzin</td>\n",
       "      <td>volkswagen</td>\n",
       "      <td>nein</td>\n",
       "      <td>2016-03-17 00:00:00</td>\n",
       "      <td>0.0</td>\n",
       "      <td>91074.0</td>\n",
       "      <td>2016-03-17 17:40:17</td>\n",
       "      <td>4.0</td>\n",
       "      <td>0</td>\n",
       "    </tr>\n",
       "    <tr>\n",
       "      <th>2</th>\n",
       "      <td>2016-04-04 17:36:23</td>\n",
       "      <td>BMW_316i___e36_Limousine___Bastlerfahrzeug__Ex...</td>\n",
       "      <td>privat</td>\n",
       "      <td>Angebot</td>\n",
       "      <td>limousine</td>\n",
       "      <td>1995.0</td>\n",
       "      <td>manuell</td>\n",
       "      <td>102.0</td>\n",
       "      <td>3er</td>\n",
       "      <td>150000.0</td>\n",
       "      <td>10.0</td>\n",
       "      <td>benzin</td>\n",
       "      <td>bmw</td>\n",
       "      <td>ja</td>\n",
       "      <td>2016-04-04 00:00:00</td>\n",
       "      <td>0.0</td>\n",
       "      <td>33775.0</td>\n",
       "      <td>2016-04-06 19:17:07</td>\n",
       "      <td>6.0</td>\n",
       "      <td>0</td>\n",
       "    </tr>\n",
       "  </tbody>\n",
       "</table>\n",
       "</div>"
      ],
      "text/plain": [
       "          dateCrawled                                               name  \\\n",
       "0 2016-03-14 12:52:21                     Jeep_Grand_Cherokee_'Overland'   \n",
       "1 2016-03-17 16:54:04                                 GOLF_4_1_4__3T?RER   \n",
       "2 2016-04-04 17:36:23  BMW_316i___e36_Limousine___Bastlerfahrzeug__Ex...   \n",
       "\n",
       "   seller offerType vehicleType  yearOfRegistration    gearbox  powerPS  \\\n",
       "0  privat   Angebot         suv              2004.0  automatik    163.0   \n",
       "1  privat   Angebot  kleinwagen              2001.0    manuell     75.0   \n",
       "2  privat   Angebot   limousine              1995.0    manuell    102.0   \n",
       "\n",
       "   model  kilometer  monthOfRegistration fuelType       brand  \\\n",
       "0  grand   125000.0                  8.0   diesel        jeep   \n",
       "1   golf   150000.0                  6.0   benzin  volkswagen   \n",
       "2    3er   150000.0                 10.0   benzin         bmw   \n",
       "\n",
       "  notRepairedDamage          dateCreated  nrOfPictures  postalCode  \\\n",
       "0               NaN  2016-03-14 00:00:00           0.0     90480.0   \n",
       "1              nein  2016-03-17 00:00:00           0.0     91074.0   \n",
       "2                ja  2016-04-04 00:00:00           0.0     33775.0   \n",
       "\n",
       "              lastSeen   id  label  \n",
       "0  2016-04-05 12:47:46  3.0      1  \n",
       "1  2016-03-17 17:40:17  4.0      0  \n",
       "2  2016-04-06 19:17:07  6.0      0  "
      ]
     },
     "execution_count": 12,
     "metadata": {},
     "output_type": "execute_result"
    }
   ],
   "source": [
    "pd.set_option('display.max_columns', None) \n",
    "df.head(3)"
   ]
  },
  {
   "cell_type": "markdown",
   "metadata": {},
   "source": [
    "### var: name"
   ]
  },
  {
   "cell_type": "code",
   "execution_count": 13,
   "metadata": {},
   "outputs": [
    {
     "data": {
      "text/plain": [
       "count          250152\n",
       "unique         162475\n",
       "top       Ford_Fiesta\n",
       "freq              468\n",
       "Name: name, dtype: object"
      ]
     },
     "execution_count": 13,
     "metadata": {},
     "output_type": "execute_result"
    }
   ],
   "source": [
    "df.loc[:,'name'].describe()"
   ]
  },
  {
   "cell_type": "code",
   "execution_count": 14,
   "metadata": {},
   "outputs": [],
   "source": [
    "from collections import Counter"
   ]
  },
  {
   "cell_type": "code",
   "execution_count": 15,
   "metadata": {},
   "outputs": [
    {
     "data": {
      "text/plain": [
       "162475"
      ]
     },
     "execution_count": 15,
     "metadata": {},
     "output_type": "execute_result"
    }
   ],
   "source": [
    "df_name_full_countr = Counter(df.loc[:,'name'])\n",
    "df_name_full_countr = pd.Series(df_name_full_countr).sort_values(ascending=False)\n",
    "len(df_name_full_countr)"
   ]
  },
  {
   "cell_type": "code",
   "execution_count": 16,
   "metadata": {},
   "outputs": [
    {
     "data": {
      "text/plain": [
       "Ford_Fiesta            468\n",
       "Opel_Corsa             446\n",
       "BMW_318i               437\n",
       "Volkswagen_Golf_1.4    432\n",
       "BMW_316i               360\n",
       "dtype: int64"
      ]
     },
     "execution_count": 16,
     "metadata": {},
     "output_type": "execute_result"
    }
   ],
   "source": [
    "df_name_full_countr[df_name_full_countr > 100][0:5]"
   ]
  },
  {
   "cell_type": "code",
   "execution_count": 17,
   "metadata": {},
   "outputs": [
    {
     "data": {
      "text/plain": [
       "250152"
      ]
     },
     "execution_count": 17,
     "metadata": {},
     "output_type": "execute_result"
    }
   ],
   "source": [
    "df_name = df.loc[:,'name'].tolist()\n",
    "len(df_name)"
   ]
  },
  {
   "cell_type": "code",
   "execution_count": 18,
   "metadata": {},
   "outputs": [
    {
     "data": {
      "text/plain": [
       "250152"
      ]
     },
     "execution_count": 18,
     "metadata": {},
     "output_type": "execute_result"
    }
   ],
   "source": [
    "df_name_uniq = df.loc[:,'name'].tolist()\n",
    "t = [(x.lower()) for x in df_name]\n",
    "cml = [\"'\",\"!\",\"#\",\"$\",\"%\",\"&\",\"*\",\"+\",\"/\",\"~\",\"|\",\";\",\" \"]\n",
    "for m in cml:\n",
    "    t = [x.replace(m,\" \") for x in t]\n",
    "len(t)"
   ]
  },
  {
   "cell_type": "code",
   "execution_count": 19,
   "metadata": {},
   "outputs": [
    {
     "data": {
      "text/plain": [
       "250152"
      ]
     },
     "execution_count": 19,
     "metadata": {},
     "output_type": "execute_result"
    }
   ],
   "source": [
    "t2 = [x.replace(\"benz\",\"\") for x in t2]\n",
    "t2 = [x.replace(\"romeo\",\"\") for x in t2]\n",
    "t2 = [x.replace(\"20_v\",\"20v\") for x in t2]\n",
    "t2 = [x.replace(\"12_v\",\"12v\") for x in t2]\n",
    "t2 = [x.replace(\"1_hand\",\"1.hand\") for x in t2]\n",
    "t2 = [x.replace(\"2._hand\",\"2.hand\") for x in t2]\n",
    "t2 = [x.replace(\"2_hand\",\"2.hand\") for x in t2]\n",
    "t2 = [x.replace(\"neu.\",\"neu\") for x in t2]\n",
    "t2 = [x.replace(\"golf4\",\"golf\") for x in t2]\n",
    "t2 = [x.replace(\"3.0tdi\",\"3.0_tdi\") for x in t2]\n",
    "t2 = [x.replace(\"neues\",\"neue\") for x in t2]\n",
    "t2 = [x.replace(\"2.5tdi\",\"2.5 tdi\") for x in t2]\n",
    "t2 = [x.replace(\"sportfahrwerk\",\"sport\") for x in t2]\n",
    "t2 = [x.replace(\"1.8l\",\"1.8\") for x in t2]\n",
    "t2 = [x.replace(\"2.2i\",\"2.0\") for x in t2\n",
    "t2 = [x.replace(\"neuer\",\"neue\") for x in t2]\n",
    "t2 = [x.replace(\"new\",\"neue\") for x in t2]\n",
    "t2 = [x.replace(\"1.6i\",\"1.6\") for x in t2]\n",
    "t2 = [x.replace(\"2.0t\",\"2.0\") for x in t2]\n",
    "t2 = [x.replace(\"neuem\",\"neue\") for x in t2]\n",
    "t2 = [x.replace(\"sportline\",\"sport\") for x in t2]\n",
    "t2 = [x.replace(\"klimaanlage\",\"klima\") for x in t2]\n",
    "t2 = [x.replace(\"klimaautomatik\",\"klima\") for x in t2]\n",
    "t2 = [x.replace(\"citro?n\",\"citroen\") for x in t2]\n",
    "t2 = [x.replace(\"vw\",\"volkswagen\") for x in t2]\n",
    "t2 = [x.replace(\"tuv.\",\"tuev\") for x in t2]\n",
    "t2 = [x.replace(\"cabriolet\",\"cabrio\") for x in t2]\n",
    "t2 = [x.replace(\"limousineusine\",\"limousine\") for x in t2]\n",
    "t2 = [x.replace(\"aut.\",\"automatik\") for x in t2]\n",
    "t2 = [x.split('_') for x in t2]\n",
    "len(t2)"
   ]
  },
  {
   "cell_type": "code",
   "execution_count": 20,
   "metadata": {},
   "outputs": [],
   "source": [
    "def rvil(xl,str1,str2):\n",
    "    return [x.replace(str1,str2) for x in xl]\n",
    "t2 = [rvil(x,\"mercedes\",\"mercedes_benz\") for x in t2]\n",
    "t2 = [rvil(x,\"alfa\",\"alfa_romeo\") for x in t2]"
   ]
  },
  {
   "cell_type": "code",
   "execution_count": 21,
   "metadata": {},
   "outputs": [],
   "source": [
    "def string_in_row(string,inplist):\n",
    "    if string in inplist:\n",
    "        return True\n",
    "    else:\n",
    "        return False"
   ]
  },
  {
   "cell_type": "code",
   "execution_count": 23,
   "metadata": {},
   "outputs": [],
   "source": [
    "df_blist = ['km','ps','auto','in','fach','dpf','an','zum','zu','und','bis','benz',\n",
    "            '17','16','verkaufen','verkaufe','mit','oder','sitzer', 'fuer','motor','cc','euro',\n",
    "            'baujahr','moeglich','viele','zulassung','unfall','ausschlachten','sitze','8fach','2016','2017'\n",
    "           ]"
   ]
  },
  {
   "cell_type": "code",
   "execution_count": 24,
   "metadata": {},
   "outputs": [],
   "source": [
    "df_brands = df['brand'].unique().tolist()"
   ]
  },
  {
   "cell_type": "code",
   "execution_count": 25,
   "metadata": {},
   "outputs": [],
   "source": [
    "df_name_string_lt = list(itertools.chain.from_iterable(t2))\n",
    "df_name_string_lt = [x.strip() for x in df_name_string_lt]\n",
    "df_name_string_lt = [x for x in df_name_string_lt if len(x)>1]\n",
    "df_name_string_lt = [x for x in df_name_string_lt if x not in df_brands]\n",
    "df_name_string_lt = [x for x in df_name_string_lt if x not in df_blist]"
   ]
  },
  {
   "cell_type": "code",
   "execution_count": 26,
   "metadata": {},
   "outputs": [
    {
     "data": {
      "text/plain": [
       "False"
      ]
     },
     "execution_count": 26,
     "metadata": {},
     "output_type": "execute_result"
    }
   ],
   "source": [
    "\"euro\" in df_name_string_lt"
   ]
  },
  {
   "cell_type": "code",
   "execution_count": 27,
   "metadata": {
    "scrolled": false
   },
   "outputs": [
    {
     "data": {
      "text/plain": [
       "297"
      ]
     },
     "execution_count": 27,
     "metadata": {},
     "output_type": "execute_result"
    }
   ],
   "source": [
    "#pd.set_option('display.max_rows', None)\n",
    "df_name_string_count1 = Counter(df_name_string_lt)\n",
    "df_name_string_count1 = pd.Series(df_name_string_count1).sort_values(ascending=False)\n",
    "df_name_string_count1 = df_name_string_count1[df_name_string_count1 > 500]\n",
    "len(df_name_string_count1)"
   ]
  },
  {
   "cell_type": "code",
   "execution_count": 28,
   "metadata": {},
   "outputs": [],
   "source": [
    "df_vehtype = df['vehicleType'].unique().tolist()\n",
    "df_model = df['model'].unique().tolist()"
   ]
  },
  {
   "cell_type": "code",
   "execution_count": 29,
   "metadata": {},
   "outputs": [],
   "source": [
    "df_name_string_lt2 = [x for x in df_name_string_lt if x not in df_vehtype]\n",
    "df_name_string_lt2 = [x for x in df_name_string_lt2 if x not in df_model]"
   ]
  },
  {
   "cell_type": "code",
   "execution_count": 30,
   "metadata": {},
   "outputs": [
    {
     "data": {
      "text/plain": [
       "230"
      ]
     },
     "execution_count": 30,
     "metadata": {},
     "output_type": "execute_result"
    }
   ],
   "source": [
    "#pd.set_option('display.max_rows', None)\n",
    "df_name_string_count12 = Counter(df_name_string_lt2)\n",
    "df_name_string_count12 = pd.Series(df_name_string_count12).sort_values(ascending=False)\n",
    "df_name_string_count12 = df_name_string_count12[df_name_string_count12 > 500]\n",
    "len(df_name_string_count12)"
   ]
  },
  {
   "cell_type": "code",
   "execution_count": 32,
   "metadata": {
    "scrolled": true
   },
   "outputs": [
    {
     "data": {
      "text/plain": [
       "tuev                  26734\n",
       "tdi                   24774\n",
       "2.0                   19702\n",
       "1.6                   13788\n",
       "1.4                   11658\n",
       "automatik             11346\n",
       "klima                 10729\n",
       "neu                   10305\n",
       "16v                    9627\n",
       "sport                  9357\n",
       "1.2                    8577\n",
       "1.9                    8299\n",
       "cdi                    7963\n",
       "top                    7817\n",
       "1.8                    7649\n",
       "edition                6311\n",
       "navi                   6042\n",
       "avant                  5282\n",
       "zustand                5226\n",
       "variant                4939\n",
       "touring                4567\n",
       "leder                  4509\n",
       "quattro                4265\n",
       "ahk                    4096\n",
       "diesel                 4007\n",
       "xenon                  3967\n",
       "3.0                    3896\n",
       "line                   3731\n",
       "1.0                    3551\n",
       "200                    3505\n",
       "dsg                    3341\n",
       "tsi                    3097\n",
       "highline               3024\n",
       "lpg                    3007\n",
       "comfortline            2945\n",
       "tronic                 2913\n",
       "avantgarde             2831\n",
       "sehr                   2752\n",
       "gepflegt               2736\n",
       "elegance               2686\n",
       "206                    2632\n",
       "tdci                   2622\n",
       "1.hand                 2602\n",
       "cdti                   2571\n",
       "320                    2544\n",
       "bj                     2436\n",
       "paket                  2433\n",
       "220                    2329\n",
       "6v                     2266\n",
       "caravan                2261\n",
       "2.2                    2170\n",
       "kompressor             2158\n",
       "scheckheft             2129\n",
       "turbo                  2116\n",
       "7g                     2087\n",
       "classic                2083\n",
       "2.5                    2076\n",
       "180                    2071\n",
       "gti                    2045\n",
       "bastler                1996\n",
       "320d                   1987\n",
       "neue                   1968\n",
       "turnier                1915\n",
       "t4                     1816\n",
       "1.3                    1800\n",
       "316i                   1787\n",
       "hdi                    1774\n",
       "tausch                 1758\n",
       "318i                   1756\n",
       "voll                   1736\n",
       "dci                    1716\n",
       "sportback              1683\n",
       "plus                   1672\n",
       "tfsi                   1669\n",
       "6n                     1654\n",
       "bereift                1652\n",
       "style                  1638\n",
       "trendline              1631\n",
       "combi                  1614\n",
       "schwarz                1582\n",
       "ambiente               1554\n",
       "e36                    1504\n",
       "320i                   1474\n",
       "vollausstattung        1456\n",
       "servo                  1445\n",
       "klasse                 1428\n",
       "bluemotion             1410\n",
       "e46                    1399\n",
       "gruene                 1397\n",
       "amg                    1387\n",
       "plakette               1384\n",
       "12v                    1353\n",
       "gepflegter             1338\n",
       "pdc                    1336\n",
       "comfort                1329\n",
       "fsi                    1305\n",
       "75                     1275\n",
       "multivan               1262\n",
       "nur                    1260\n",
       "ambition               1248\n",
       "suche                  1248\n",
       "facelift               1237\n",
       "8v                     1236\n",
       "compact                1232\n",
       "blueefficiency         1221\n",
       "110                    1214\n",
       "2.hand                 1207\n",
       "4x4                    1177\n",
       "titanium               1162\n",
       "alu                    1159\n",
       "sportpaket             1126\n",
       "ohne                   1121\n",
       "ghia                   1120\n",
       "sitzheizung            1098\n",
       "gt                     1083\n",
       "exclusive              1083\n",
       "fahrbereit             1077\n",
       "guter                  1071\n",
       "4motion                1057\n",
       "garantie               1025\n",
       "ausstattung            1022\n",
       "530d                    998\n",
       "super                   993\n",
       "t5                      991\n",
       "tiptronic               980\n",
       "350                     964\n",
       "standheizung            963\n",
       "schiebedach             956\n",
       "tausche                 947\n",
       "2.4                     944\n",
       "jahre                   943\n",
       "wenig                   939\n",
       "1.1                     937\n",
       "tuerer                  931\n",
       "technology              917\n",
       "trend                   908\n",
       "fap                     900\n",
       "1.5                     892\n",
       "max                     888\n",
       "230                     879\n",
       "307                     876\n",
       "1.7                     874\n",
       "525d                    857\n",
       "aus                     855\n",
       "2018                    851\n",
       "bastlerfahrzeug         842\n",
       "multitronic             837\n",
       "ci                      827\n",
       "2.7                     824\n",
       "170                     810\n",
       "zoll                    807\n",
       "kein                    807\n",
       "60                      804\n",
       "140                     801\n",
       "panorama                794\n",
       "207                     789\n",
       "ml                      785\n",
       "520i                    779\n",
       "crdi                    778\n",
       "gasanlage               778\n",
       "gegen                   774\n",
       "lkw                     765\n",
       "passion                 761\n",
       "cd                      760\n",
       "gang                    731\n",
       "hu                      723\n",
       "2000                    723\n",
       "tempomat                723\n",
       "ein                     722\n",
       "motorschaden            720\n",
       "golf6                   713\n",
       "silber                  712\n",
       "280                     707\n",
       "318                     703\n",
       "323                     687\n",
       "tuev au                 685\n",
       "160                     683\n",
       "4matic                  679\n",
       "lang                    669\n",
       "e39                     666\n",
       "unfallfrei              666\n",
       "verkauf                 666\n",
       "zahnriemen              663\n",
       "150                     660\n",
       "twin                    659\n",
       "gut                     655\n",
       "liter                   645\n",
       "tuerig                  645\n",
       "original                643\n",
       "116i                    633\n",
       "alufelgen               632\n",
       "schoener                630\n",
       "grandtour               630\n",
       "sw                      625\n",
       "106                     624\n",
       "x3                      620\n",
       "scheckheftgepflegt      610\n",
       "x5                      608\n",
       "tuning                  604\n",
       "dti                     600\n",
       "270                     598\n",
       "eco                     597\n",
       "iner                    596\n",
       "325i                    593\n",
       "tourer                  581\n",
       "523i                    566\n",
       "mein                    558\n",
       "fahrzeug                557\n",
       "118d                    556\n",
       "blue                    556\n",
       "modell                  553\n",
       "8l                      549\n",
       "blau                    549\n",
       "anhaengerkupplung       548\n",
       "dynamique               548\n",
       "mx                      546\n",
       "faltdach                542\n",
       "b5                      535\n",
       "attraction              534\n",
       "ii                      529\n",
       "316                     527\n",
       "au                      521\n",
       "tuv                     520\n",
       "rs                      518\n",
       "190                     510\n",
       "iii                     509\n",
       "active                  507\n",
       "18                      507\n",
       "9n                      502\n",
       "cosmo                   501\n",
       "dtype: int64"
      ]
     },
     "execution_count": 32,
     "metadata": {},
     "output_type": "execute_result"
    }
   ],
   "source": [
    "pd.set_option('display.max_rows', 1500)\n",
    "df_name_string_count12"
   ]
  },
  {
   "cell_type": "code",
   "execution_count": 33,
   "metadata": {},
   "outputs": [],
   "source": [
    "pd.set_option('display.max_rows', 50)"
   ]
  },
  {
   "cell_type": "raw",
   "metadata": {},
   "source": [
    "len(pd.DataFrame(t2).loc[[string_in_row('automatik',r) for r in t2],:])"
   ]
  },
  {
   "cell_type": "raw",
   "metadata": {},
   "source": [
    "pd.DataFrame(t2).loc[[string_in_row('suv',r) for r in t2],:]"
   ]
  },
  {
   "cell_type": "raw",
   "metadata": {},
   "source": [
    "df.loc[22333,:]"
   ]
  },
  {
   "cell_type": "code",
   "execution_count": 34,
   "metadata": {},
   "outputs": [
    {
     "data": {
      "text/plain": [
       "297"
      ]
     },
     "execution_count": 34,
     "metadata": {},
     "output_type": "execute_result"
    }
   ],
   "source": [
    "df_vehicletype = dict(zip(df.loc[:,'vehicleType'].unique().tolist(),range(len(df.loc[:,'vehicleType'].unique().tolist()))))\n",
    "del df_vehicletype[np.nan]\n",
    "list(df_vehicletype.keys())\n",
    "fin_wrd_lt = df_name_string_count1.index.values.tolist()\n",
    "len(fin_wrd_lt)"
   ]
  },
  {
   "cell_type": "code",
   "execution_count": 35,
   "metadata": {},
   "outputs": [
    {
     "data": {
      "text/plain": [
       "301"
      ]
     },
     "execution_count": 35,
     "metadata": {},
     "output_type": "execute_result"
    }
   ],
   "source": [
    "for vt in list(df_vehicletype.keys()):\n",
    "    if vt not in fin_wrd_lt:\n",
    "        fin_wrd_lt.append(vt)\n",
    "len(fin_wrd_lt)"
   ]
  },
  {
   "cell_type": "code",
   "execution_count": 36,
   "metadata": {},
   "outputs": [
    {
     "data": {
      "text/plain": [
       "['diesel', 'benzin', 'lpg', 'andere', 'hybrid', 'cng', 'elektro']"
      ]
     },
     "execution_count": 36,
     "metadata": {},
     "output_type": "execute_result"
    }
   ],
   "source": [
    "df_fuelType = dict(zip(df.loc[:,'fuelType'].unique().tolist(),range(len(df.loc[:,'fuelType'].unique().tolist()))))\n",
    "del df_fuelType[np.nan]\n",
    "list(df_fuelType.keys())"
   ]
  },
  {
   "cell_type": "code",
   "execution_count": 37,
   "metadata": {},
   "outputs": [
    {
     "data": {
      "text/plain": [
       "301"
      ]
     },
     "execution_count": 37,
     "metadata": {},
     "output_type": "execute_result"
    }
   ],
   "source": [
    "len(fin_wrd_lt)"
   ]
  },
  {
   "cell_type": "code",
   "execution_count": 38,
   "metadata": {},
   "outputs": [
    {
     "data": {
      "text/plain": [
       "305"
      ]
     },
     "execution_count": 38,
     "metadata": {},
     "output_type": "execute_result"
    }
   ],
   "source": [
    "for vt in list(df_fuelType.keys()):\n",
    "    if vt not in fin_wrd_lt:\n",
    "        fin_wrd_lt.append(vt)\n",
    "len(fin_wrd_lt)"
   ]
  },
  {
   "cell_type": "code",
   "execution_count": 39,
   "metadata": {},
   "outputs": [],
   "source": [
    "for nstr in fin_wrd_lt:\n",
    "    df.loc[:,nstr] = np.float32(0)\n",
    "    df.loc[[string_in_row(nstr,r) for r in t2],nstr] = np.float32(1)"
   ]
  },
  {
   "cell_type": "code",
   "execution_count": 40,
   "metadata": {},
   "outputs": [],
   "source": [
    "del df['name']"
   ]
  },
  {
   "cell_type": "markdown",
   "metadata": {},
   "source": [
    "### var: seller"
   ]
  },
  {
   "cell_type": "code",
   "execution_count": 41,
   "metadata": {},
   "outputs": [
    {
     "data": {
      "text/plain": [
       "{'privat': 0, 'gewerblich': 1}"
      ]
     },
     "execution_count": 41,
     "metadata": {},
     "output_type": "execute_result"
    }
   ],
   "source": [
    "df_seller = dict(zip(df.loc[:,'seller'].unique().tolist(),range(len(df.loc[:,'seller'].unique().tolist()))))\n",
    "df_seller"
   ]
  },
  {
   "cell_type": "code",
   "execution_count": 42,
   "metadata": {},
   "outputs": [],
   "source": [
    "df.loc[:,'seller'] = df.loc[:,'seller'].replace(df_seller).astype(dtype=np.float32)"
   ]
  },
  {
   "cell_type": "markdown",
   "metadata": {},
   "source": [
    "### var: offerType"
   ]
  },
  {
   "cell_type": "code",
   "execution_count": 43,
   "metadata": {},
   "outputs": [
    {
     "data": {
      "text/plain": [
       "{'Angebot': 0, 'Gesuch': 1}"
      ]
     },
     "execution_count": 43,
     "metadata": {},
     "output_type": "execute_result"
    }
   ],
   "source": [
    "df_offertype = dict(zip(df.loc[:,'offerType'].unique().tolist(),range(len(df.loc[:,'offerType'].unique().tolist()))))\n",
    "df_offertype"
   ]
  },
  {
   "cell_type": "code",
   "execution_count": 44,
   "metadata": {},
   "outputs": [],
   "source": [
    "df.loc[:,'offerType'] = df.loc[:,'offerType'].replace(df_offertype).astype(dtype=np.float32)"
   ]
  },
  {
   "cell_type": "code",
   "execution_count": 45,
   "metadata": {},
   "outputs": [
    {
     "data": {
      "text/plain": [
       "0"
      ]
     },
     "execution_count": 45,
     "metadata": {},
     "output_type": "execute_result"
    }
   ],
   "source": [
    "sum(df.loc[:,'offerType'].isnull())"
   ]
  },
  {
   "cell_type": "markdown",
   "metadata": {},
   "source": [
    "### var: brand"
   ]
  },
  {
   "cell_type": "code",
   "execution_count": 46,
   "metadata": {},
   "outputs": [
    {
     "name": "stdout",
     "output_type": "stream",
     "text": [
      "{'jeep': 0, 'volkswagen': 1, 'bmw': 2, 'peugeot': 3, 'mazda': 4, 'renault': 5, 'ford': 6, 'seat': 7, 'mercedes_benz': 8, 'honda': 9, 'fiat': 10, 'opel': 11, 'smart': 12, 'hyundai': 13, 'sonstige_autos': 14, 'alfa_romeo': 15, 'mitsubishi': 16, 'audi': 17, 'kia': 18, 'volvo': 19, 'skoda': 20, 'nissan': 21, 'citroen': 22, 'toyota': 23, 'chevrolet': 24, 'dacia': 25, 'suzuki': 26, 'daihatsu': 27, 'mini': 28, 'chrysler': 29, 'porsche': 30, 'rover': 31, 'lancia': 32, 'daewoo': 33, 'subaru': 34, 'jaguar': 35, 'saab': 36, 'land_rover': 37, 'trabant': 38, 'lada': 39}\n"
     ]
    }
   ],
   "source": [
    "df_brand = dict(zip(df.loc[:,'brand'].unique().tolist(),range(len(df.loc[:,'brand'].unique().tolist()))))\n",
    "print(df_brand)"
   ]
  },
  {
   "cell_type": "code",
   "execution_count": 47,
   "metadata": {},
   "outputs": [
    {
     "data": {
      "text/plain": [
       "0"
      ]
     },
     "execution_count": 47,
     "metadata": {},
     "output_type": "execute_result"
    }
   ],
   "source": [
    "sum(df.loc[:,'brand'].isnull())"
   ]
  },
  {
   "cell_type": "code",
   "execution_count": 48,
   "metadata": {},
   "outputs": [],
   "source": [
    "df.loc[:,'helper'] = np.float32(1)"
   ]
  },
  {
   "cell_type": "code",
   "execution_count": 49,
   "metadata": {},
   "outputs": [
    {
     "data": {
      "text/html": [
       "<div>\n",
       "<style scoped>\n",
       "    .dataframe tbody tr th:only-of-type {\n",
       "        vertical-align: middle;\n",
       "    }\n",
       "\n",
       "    .dataframe tbody tr th {\n",
       "        vertical-align: top;\n",
       "    }\n",
       "\n",
       "    .dataframe thead th {\n",
       "        text-align: right;\n",
       "    }\n",
       "</style>\n",
       "<table border=\"1\" class=\"dataframe\">\n",
       "  <thead>\n",
       "    <tr style=\"text-align: right;\">\n",
       "      <th></th>\n",
       "      <th>helper</th>\n",
       "    </tr>\n",
       "    <tr>\n",
       "      <th>brand</th>\n",
       "      <th></th>\n",
       "    </tr>\n",
       "  </thead>\n",
       "  <tbody>\n",
       "    <tr>\n",
       "      <th>lada</th>\n",
       "      <td>41.0</td>\n",
       "    </tr>\n",
       "    <tr>\n",
       "      <th>lancia</th>\n",
       "      <td>135.0</td>\n",
       "    </tr>\n",
       "    <tr>\n",
       "      <th>land_rover</th>\n",
       "      <td>235.0</td>\n",
       "    </tr>\n",
       "    <tr>\n",
       "      <th>jaguar</th>\n",
       "      <td>249.0</td>\n",
       "    </tr>\n",
       "    <tr>\n",
       "      <th>subaru</th>\n",
       "      <td>257.0</td>\n",
       "    </tr>\n",
       "  </tbody>\n",
       "</table>\n",
       "</div>"
      ],
      "text/plain": [
       "            helper\n",
       "brand             \n",
       "lada          41.0\n",
       "lancia       135.0\n",
       "land_rover   235.0\n",
       "jaguar       249.0\n",
       "subaru       257.0"
      ]
     },
     "execution_count": 49,
     "metadata": {},
     "output_type": "execute_result"
    }
   ],
   "source": [
    "pd.set_option('display.max_rows', 40)\n",
    "pd.pivot_table(df,values='helper',index=['brand'],columns=[],aggfunc=np.sum).sort_values(by='helper',ascending=True)[0:5]"
   ]
  },
  {
   "cell_type": "code",
   "execution_count": 50,
   "metadata": {},
   "outputs": [],
   "source": [
    "pd.set_option('display.max_rows', 10)"
   ]
  },
  {
   "cell_type": "code",
   "execution_count": 51,
   "metadata": {},
   "outputs": [],
   "source": [
    "for nstr in list(df_brand.keys()):\n",
    "    df.loc[:,nstr] = np.float32(0)\n",
    "    df.loc[df.loc[:,'brand'] == nstr,nstr] = np.float32(1)"
   ]
  },
  {
   "cell_type": "code",
   "execution_count": 52,
   "metadata": {},
   "outputs": [
    {
     "data": {
      "text/html": [
       "<div>\n",
       "<style scoped>\n",
       "    .dataframe tbody tr th:only-of-type {\n",
       "        vertical-align: middle;\n",
       "    }\n",
       "\n",
       "    .dataframe tbody tr th {\n",
       "        vertical-align: top;\n",
       "    }\n",
       "\n",
       "    .dataframe thead th {\n",
       "        text-align: right;\n",
       "    }\n",
       "</style>\n",
       "<table border=\"1\" class=\"dataframe\">\n",
       "  <thead>\n",
       "    <tr style=\"text-align: right;\">\n",
       "      <th></th>\n",
       "      <th>brand</th>\n",
       "      <th>honda</th>\n",
       "    </tr>\n",
       "  </thead>\n",
       "  <tbody>\n",
       "    <tr>\n",
       "      <th>15</th>\n",
       "      <td>honda</td>\n",
       "      <td>1.0</td>\n",
       "    </tr>\n",
       "    <tr>\n",
       "      <th>44</th>\n",
       "      <td>honda</td>\n",
       "      <td>1.0</td>\n",
       "    </tr>\n",
       "    <tr>\n",
       "      <th>75</th>\n",
       "      <td>honda</td>\n",
       "      <td>1.0</td>\n",
       "    </tr>\n",
       "  </tbody>\n",
       "</table>\n",
       "</div>"
      ],
      "text/plain": [
       "    brand  honda\n",
       "15  honda    1.0\n",
       "44  honda    1.0\n",
       "75  honda    1.0"
      ]
     },
     "execution_count": 52,
     "metadata": {},
     "output_type": "execute_result"
    }
   ],
   "source": [
    "df[['brand','honda']][df.brand == 'honda'].head(3)"
   ]
  },
  {
   "cell_type": "code",
   "execution_count": 53,
   "metadata": {},
   "outputs": [],
   "source": [
    "del df['helper']"
   ]
  },
  {
   "cell_type": "code",
   "execution_count": 54,
   "metadata": {},
   "outputs": [],
   "source": [
    "del df['brand']"
   ]
  },
  {
   "cell_type": "markdown",
   "metadata": {},
   "source": [
    "### var: vehicleType"
   ]
  },
  {
   "cell_type": "code",
   "execution_count": 55,
   "metadata": {},
   "outputs": [
    {
     "data": {
      "text/plain": [
       "{'suv': 0,\n",
       " 'kleinwagen': 1,\n",
       " 'limousine': 2,\n",
       " 'cabrio': 3,\n",
       " 'kombi': 4,\n",
       " 'bus': 6,\n",
       " 'andere': 7,\n",
       " 'coupe': 8}"
      ]
     },
     "execution_count": 55,
     "metadata": {},
     "output_type": "execute_result"
    }
   ],
   "source": [
    "df_vehicletype = dict(zip(df.loc[:,'vehicleType'].unique().tolist(),range(len(df.loc[:,'vehicleType'].unique().tolist()))))\n",
    "del df_vehicletype[np.nan]\n",
    "df_vehicletype"
   ]
  },
  {
   "cell_type": "code",
   "execution_count": 56,
   "metadata": {},
   "outputs": [],
   "source": [
    "for nstr in list(df_vehicletype.keys()):\n",
    "    df.loc[df.loc[:,'vehicleType'] == nstr,nstr] = np.float32(1)"
   ]
  },
  {
   "cell_type": "code",
   "execution_count": 57,
   "metadata": {},
   "outputs": [],
   "source": [
    "del df['vehicleType']"
   ]
  },
  {
   "cell_type": "markdown",
   "metadata": {},
   "source": [
    "### var: yearOfRegistration"
   ]
  },
  {
   "cell_type": "code",
   "execution_count": 58,
   "metadata": {},
   "outputs": [
    {
     "data": {
      "text/plain": [
       "count    250152.000000\n",
       "mean       2003.580735\n",
       "std           8.046080\n",
       "min        1000.000000\n",
       "25%        1999.000000\n",
       "50%        2003.000000\n",
       "75%        2008.000000\n",
       "max        2018.000000\n",
       "Name: yearOfRegistration, dtype: float64"
      ]
     },
     "execution_count": 58,
     "metadata": {},
     "output_type": "execute_result"
    }
   ],
   "source": [
    "df.loc[:,'yearOfRegistration'].describe()"
   ]
  },
  {
   "cell_type": "code",
   "execution_count": 59,
   "metadata": {},
   "outputs": [],
   "source": [
    "df.loc[\n",
    "    df.loc[:,'yearOfRegistration'] < 1678,'yearOfRegistration'\n",
    "] = 1678"
   ]
  },
  {
   "cell_type": "code",
   "execution_count": 60,
   "metadata": {},
   "outputs": [
    {
     "data": {
      "text/plain": [
       "count    250152.000000\n",
       "mean       2003.591576\n",
       "std           7.094311\n",
       "min        1678.000000\n",
       "25%        1999.000000\n",
       "50%        2003.000000\n",
       "75%        2008.000000\n",
       "max        2018.000000\n",
       "Name: yearOfRegistration, dtype: float64"
      ]
     },
     "execution_count": 60,
     "metadata": {},
     "output_type": "execute_result"
    }
   ],
   "source": [
    "df.loc[:,'yearOfRegistration'].describe()"
   ]
  },
  {
   "cell_type": "code",
   "execution_count": 61,
   "metadata": {},
   "outputs": [
    {
     "data": {
      "text/plain": [
       "0"
      ]
     },
     "execution_count": 61,
     "metadata": {},
     "output_type": "execute_result"
    }
   ],
   "source": [
    "sum(df.loc[:,'yearOfRegistration'].isnull())"
   ]
  },
  {
   "cell_type": "markdown",
   "metadata": {},
   "source": [
    "### var: monthOfRegistration"
   ]
  },
  {
   "cell_type": "code",
   "execution_count": 62,
   "metadata": {
    "scrolled": true
   },
   "outputs": [
    {
     "data": {
      "text/plain": [
       "count    250152.000000\n",
       "mean          5.754329\n",
       "std           3.706684\n",
       "min           0.000000\n",
       "25%           3.000000\n",
       "50%           6.000000\n",
       "75%           9.000000\n",
       "max          12.000000\n",
       "Name: monthOfRegistration, dtype: float64"
      ]
     },
     "execution_count": 62,
     "metadata": {},
     "output_type": "execute_result"
    }
   ],
   "source": [
    "df.loc[:,'monthOfRegistration'].describe()"
   ]
  },
  {
   "cell_type": "code",
   "execution_count": 63,
   "metadata": {},
   "outputs": [
    {
     "data": {
      "text/plain": [
       "0"
      ]
     },
     "execution_count": 63,
     "metadata": {},
     "output_type": "execute_result"
    }
   ],
   "source": [
    "sum(df.loc[:,'monthOfRegistration'].isnull())"
   ]
  },
  {
   "cell_type": "code",
   "execution_count": 64,
   "metadata": {},
   "outputs": [],
   "source": [
    "df.loc[df.loc[:,'monthOfRegistration'] == 0,'monthOfRegistration'] = 1"
   ]
  },
  {
   "cell_type": "markdown",
   "metadata": {},
   "source": [
    "### var:  Registration"
   ]
  },
  {
   "cell_type": "code",
   "execution_count": 65,
   "metadata": {},
   "outputs": [],
   "source": [
    "from datetime import date"
   ]
  },
  {
   "cell_type": "code",
   "execution_count": 66,
   "metadata": {},
   "outputs": [],
   "source": [
    "df['Registration'] = df.loc[:,'yearOfRegistration'].astype(dtype=np.int16).map(str) + '-' + df.loc[:,'monthOfRegistration'].astype(dtype=np.int16).map(str) + '-' + '1 00:00:00'"
   ]
  },
  {
   "cell_type": "code",
   "execution_count": 67,
   "metadata": {},
   "outputs": [],
   "source": [
    "df['Registration'] = df['Registration'].apply(lambda x: pd.to_datetime(dt.datetime.strptime(x,\"%Y-%m-%d %H:%M:%S\"),format = \"%Y-%m-%d %H:%M:%S\"))"
   ]
  },
  {
   "cell_type": "code",
   "execution_count": 68,
   "metadata": {},
   "outputs": [
    {
     "data": {
      "text/plain": [
       "count                  250152\n",
       "unique                    687\n",
       "top       2000-01-01 00:00:00\n",
       "freq                     4641\n",
       "first     1678-01-01 00:00:00\n",
       "last      2018-12-01 00:00:00\n",
       "Name: Registration, dtype: object"
      ]
     },
     "execution_count": 68,
     "metadata": {},
     "output_type": "execute_result"
    }
   ],
   "source": [
    "df['Registration'].describe()"
   ]
  },
  {
   "cell_type": "code",
   "execution_count": 69,
   "metadata": {},
   "outputs": [
    {
     "data": {
      "text/plain": [
       "count                  250152\n",
       "unique                 207851\n",
       "top       2016-03-22 14:50:05\n",
       "freq                        5\n",
       "first     2016-03-05 14:06:23\n",
       "last      2016-04-07 14:36:58\n",
       "Name: dateCrawled, dtype: object"
      ]
     },
     "execution_count": 69,
     "metadata": {},
     "output_type": "execute_result"
    }
   ],
   "source": [
    "df['dateCrawled'].describe()"
   ]
  },
  {
   "cell_type": "code",
   "execution_count": 70,
   "metadata": {},
   "outputs": [],
   "source": [
    "df4 = df['dateCrawled'] - df['Registration']"
   ]
  },
  {
   "cell_type": "code",
   "execution_count": 71,
   "metadata": {},
   "outputs": [
    {
     "data": {
      "text/plain": [
       "count                          250152\n",
       "mean        4461 days 22:43:44.706227\n",
       "std         2581 days 12:06:13.688851\n",
       "min      -89986 days +15:21:29.290448\n",
       "25%         2809 days 13:16:58.250000\n",
       "50%         4492 days 19:53:10.500000\n",
       "75%                6078 days 13:01:47\n",
       "max               38810 days 00:36:17\n",
       "dtype: object"
      ]
     },
     "execution_count": 71,
     "metadata": {},
     "output_type": "execute_result"
    }
   ],
   "source": [
    "df4.describe()"
   ]
  },
  {
   "cell_type": "code",
   "execution_count": 72,
   "metadata": {},
   "outputs": [],
   "source": [
    "ddict = {}\n",
    "n = 0\n",
    "for n in range(len(df['dateCrawled'])):\n",
    "    t = df['dateCrawled'][n] - df['Registration'][n]\n",
    "    ddict[n] = t.days"
   ]
  },
  {
   "cell_type": "code",
   "execution_count": 73,
   "metadata": {},
   "outputs": [],
   "source": [
    "pds_ddict = pd.Series(ddict)"
   ]
  },
  {
   "cell_type": "code",
   "execution_count": 74,
   "metadata": {
    "scrolled": true
   },
   "outputs": [
    {
     "data": {
      "text/plain": [
       "Timedelta('2730 days 10:38:04')"
      ]
     },
     "execution_count": 74,
     "metadata": {},
     "output_type": "execute_result"
    }
   ],
   "source": [
    "df['dateCrawled'][11005] - df['Registration'][11005]"
   ]
  },
  {
   "cell_type": "code",
   "execution_count": 75,
   "metadata": {},
   "outputs": [
    {
     "data": {
      "text/plain": [
       "2730"
      ]
     },
     "execution_count": 75,
     "metadata": {},
     "output_type": "execute_result"
    }
   ],
   "source": [
    "pds_ddict[11005]"
   ]
  },
  {
   "cell_type": "code",
   "execution_count": 76,
   "metadata": {},
   "outputs": [],
   "source": [
    "df['Registration'] = pds_ddict.astype(dtype=np.float32)"
   ]
  },
  {
   "cell_type": "code",
   "execution_count": 77,
   "metadata": {},
   "outputs": [],
   "source": [
    "unique, counts = np.unique(df.loc[:,'Registration'],return_counts=True)"
   ]
  },
  {
   "cell_type": "code",
   "execution_count": 78,
   "metadata": {},
   "outputs": [
    {
     "data": {
      "text/plain": [
       "array([  -1001.,    -999.,    -998., ...,  123529.,  123536.,  123539.], dtype=float32)"
      ]
     },
     "execution_count": 78,
     "metadata": {},
     "output_type": "execute_result"
    }
   ],
   "source": [
    "np.set_printoptions(suppress=True)\n",
    "unique"
   ]
  },
  {
   "cell_type": "code",
   "execution_count": 79,
   "metadata": {},
   "outputs": [
    {
     "data": {
      "text/plain": [
       "[<matplotlib.lines.Line2D at 0x7f40686c8f98>]"
      ]
     },
     "execution_count": 79,
     "metadata": {},
     "output_type": "execute_result"
    },
    {
     "data": {
      "image/png": "[encoded data removed]",
      "text/plain": [
       "<Figure size 432x288 with 1 Axes>"
      ]
     },
     "metadata": {},
     "output_type": "display_data"
    }
   ],
   "source": [
    "plt.plot(unique[0:1000],counts[0:1000])"
   ]
  },
  {
   "cell_type": "code",
   "execution_count": 80,
   "metadata": {},
   "outputs": [],
   "source": [
    "del df['yearOfRegistration']\n",
    "del df['monthOfRegistration']"
   ]
  },
  {
   "cell_type": "markdown",
   "metadata": {},
   "source": [
    "### var: gearbox"
   ]
  },
  {
   "cell_type": "code",
   "execution_count": 81,
   "metadata": {},
   "outputs": [
    {
     "data": {
      "text/plain": [
       "dict_keys(['automatik', 'manuell', nan])"
      ]
     },
     "execution_count": 81,
     "metadata": {},
     "output_type": "execute_result"
    }
   ],
   "source": [
    "df_gearbox = dict(zip(df.loc[:,'gearbox'].unique().tolist(),range(len(df.loc[:,'gearbox'].unique().tolist()))))\n",
    "df_gearbox.keys()"
   ]
  },
  {
   "cell_type": "code",
   "execution_count": 82,
   "metadata": {},
   "outputs": [],
   "source": [
    "del df_gearbox[np.nan]"
   ]
  },
  {
   "cell_type": "code",
   "execution_count": 83,
   "metadata": {},
   "outputs": [
    {
     "data": {
      "text/plain": [
       "13064"
      ]
     },
     "execution_count": 83,
     "metadata": {},
     "output_type": "execute_result"
    }
   ],
   "source": [
    "sum(df.loc[:,'gearbox'].isnull())"
   ]
  },
  {
   "cell_type": "code",
   "execution_count": 84,
   "metadata": {},
   "outputs": [],
   "source": [
    "for nstr in list(df_gearbox.keys()):\n",
    "    if nstr in df.columns.values.tolist():\n",
    "        df.loc[df.loc[:,'gearbox'] == nstr,nstr] = np.float32(1)\n",
    "    else:\n",
    "        df[nstr] = np.float32(0)\n",
    "        df.loc[df.loc[:,'gearbox'] == nstr,nstr] = np.float32(1)"
   ]
  },
  {
   "cell_type": "code",
   "execution_count": 85,
   "metadata": {},
   "outputs": [],
   "source": [
    "del df['gearbox']"
   ]
  },
  {
   "cell_type": "markdown",
   "metadata": {},
   "source": [
    "### var: powerPS"
   ]
  },
  {
   "cell_type": "code",
   "execution_count": 86,
   "metadata": {},
   "outputs": [
    {
     "data": {
      "text/plain": [
       "count    250152.000000\n",
       "mean        115.637776\n",
       "std         186.713848\n",
       "min           0.000000\n",
       "25%          71.000000\n",
       "50%         105.000000\n",
       "75%         150.000000\n",
       "max       20000.000000\n",
       "Name: powerPS, dtype: float64"
      ]
     },
     "execution_count": 86,
     "metadata": {},
     "output_type": "execute_result"
    }
   ],
   "source": [
    "df.loc[:,'powerPS'].describe()"
   ]
  },
  {
   "cell_type": "code",
   "execution_count": 87,
   "metadata": {},
   "outputs": [
    {
     "data": {
      "text/plain": [
       "0"
      ]
     },
     "execution_count": 87,
     "metadata": {},
     "output_type": "execute_result"
    }
   ],
   "source": [
    "sum(df.loc[:,'powerPS'].isnull())"
   ]
  },
  {
   "cell_type": "code",
   "execution_count": 88,
   "metadata": {},
   "outputs": [
    {
     "data": {
      "text/plain": [
       "27072"
      ]
     },
     "execution_count": 88,
     "metadata": {},
     "output_type": "execute_result"
    }
   ],
   "source": [
    "len(df.loc[df.loc[:,'powerPS'] < 30,:])"
   ]
  },
  {
   "cell_type": "code",
   "execution_count": 89,
   "metadata": {},
   "outputs": [
    {
     "data": {
      "text/plain": [
       "73"
      ]
     },
     "execution_count": 89,
     "metadata": {},
     "output_type": "execute_result"
    }
   ],
   "source": [
    "len(df.loc[df.loc[:,'powerPS'] > 2200,:])"
   ]
  },
  {
   "cell_type": "code",
   "execution_count": 90,
   "metadata": {},
   "outputs": [
    {
     "data": {
      "text/plain": [
       "[<matplotlib.lines.Line2D at 0x7f405cc62668>]"
      ]
     },
     "execution_count": 90,
     "metadata": {},
     "output_type": "execute_result"
    },
    {
     "data": {
      "image/png": "[encoded data removed]",
      "text/plain": [
       "<Figure size 432x288 with 1 Axes>"
      ]
     },
     "metadata": {},
     "output_type": "display_data"
    }
   ],
   "source": [
    "unique, counts = np.unique(df.loc[:,'powerPS'].values,return_counts=True)\n",
    "plt.plot(unique[0:300],counts[0:300])"
   ]
  },
  {
   "cell_type": "code",
   "execution_count": 91,
   "metadata": {},
   "outputs": [
    {
     "data": {
      "text/plain": [
       "0         163.0\n",
       "1          75.0\n",
       "2         102.0\n",
       "3         109.0\n",
       "4         101.0\n",
       "          ...  \n",
       "250147      0.0\n",
       "250148    101.0\n",
       "250149    102.0\n",
       "250150    100.0\n",
       "250151    320.0\n",
       "Name: powerPS, Length: 250152, dtype: float64"
      ]
     },
     "execution_count": 91,
     "metadata": {},
     "output_type": "execute_result"
    }
   ],
   "source": [
    "df.loc[:,'powerPS']"
   ]
  },
  {
   "cell_type": "code",
   "execution_count": 92,
   "metadata": {},
   "outputs": [],
   "source": [
    "df.loc[:,'powerPS'] = df.loc[:,'powerPS'].astype(dtype=np.float32)"
   ]
  },
  {
   "cell_type": "code",
   "execution_count": 93,
   "metadata": {},
   "outputs": [],
   "source": [
    "df.loc[df.loc[:,'powerPS'] < 30,'powerPS'] = np.nan\n",
    "df.loc[df.loc[:,'powerPS'] > 2200,'powerPS'] = np.nan"
   ]
  },
  {
   "cell_type": "code",
   "execution_count": 94,
   "metadata": {},
   "outputs": [
    {
     "data": {
      "text/plain": [
       "27145"
      ]
     },
     "execution_count": 94,
     "metadata": {},
     "output_type": "execute_result"
    }
   ],
   "source": [
    "sum(df.loc[:,'powerPS'].isnull())"
   ]
  },
  {
   "cell_type": "markdown",
   "metadata": {},
   "source": [
    "### var: model"
   ]
  },
  {
   "cell_type": "code",
   "execution_count": 95,
   "metadata": {},
   "outputs": [
    {
     "data": {
      "text/plain": [
       "dict_keys(['grand', 'golf', '3er', '2_reihe', '3_reihe', 'passat', 'polo', 'twingo', 'c_max', 'arosa', 'andere', '5er', 'civic', 'punto', 'e_klasse', 'kadett', 'fortwo', 'clio', '1er', 'b_klasse', 'signum', 'astra', nan, 'jetta', 'fiesta', 'vito', '156', 'escort', 'c_klasse', 'a4', 'ka', 'a1', 'insignia', 'transporter', 'focus', 'tt', '7er', '80', '147', '100', 'meriva', 'z_reihe', 'sorento', 'v40', 'ibiza', 'mustang', 'eos', 'fabia', 'a6', 'getz', 'almera', 'megane', 'lupo', 'a3', 'r19', 'zafira', 'caddy', 'mondeo', 'colt', 'vectra', 'berlingo', 'm_klasse', 'tiguan', 'i_reihe', 'corsa', 'espace', 'sharan', '6_reihe', 'a_klasse', 'touran', 'up', 'scenic', 'kangoo', '5_reihe', 'yeti', 'octavia', 'rx_reihe', 'matiz', 'panda', 'c1', 'touareg', 'logan', 'spider', 'omega', 'cuore', 's_max', 'modus', 'x_reihe', 'a5', 'galaxy', 'viano', '1_reihe', 'c4', 'avensis', 'sl', 'q5', 'kaefer', 'santa', 'cooper', 'leon', 'sportage', '500', 'a8', 'glk', 'laguna', 'clk', 'primera', 's_klasse', 'a2', 'one', 'scirocco', '159', 'qashqai', 'carisma', 'accord', 'corolla', 'phaeton', 'cordoba', 'verso', 'swift', 'rav', 'kuga', 'picanto', 'micra', 'boxster', 'superb', 'stilo', 'alhambra', '911', 'slk', 'mx_reihe', 'm_reihe', 'transit', 'ypsilon', 'galant', 'justy', 'beetle', 'c3', 'agila', 'duster', '4_reihe', 'v50', 'c_reihe', 'v_klasse', 'rio', 'yaris', 'seicento', 'cc', 'carnival', 'forfour', 'sprinter', 'jazz', 'ptcruiser', 'bora', 'q3', 'cr_reihe', 'xc_reihe', 'spark', 'v70', 'impreza', 'ducato', 'x_trail', 'toledo', 'altea', 'calibra', 'bravo', 'c5', 'ceed', 'cl', 'fox', 'q7', 'combo', 's_type', 'captiva', 'fusion', 'cayenne', 'c2', 'range_rover_evoque', 'freelander', 'aygo', 'tigra', 'sandero', 'note', '90', 'mii', '900', 'lancer', 'forester', '601', 'pajero', 'cx_reihe', 'voyager', 'sirion', 'roadster', 's60', 'clubman', 'vivaro', 'lanos', 'tucson', 'auris', 'cherokee', 'jimny', 'roomster', 'x_type', '850', 'citigo', 'crossfire', 'juke', 'outlander', 'doblo', 'move', 'v60', '145', '6er', 'lybra', 'niva', 'antara', 'b_max', '300c', 'kalos', 'exeo', 'discovery', 'aveo', 'range_rover_sport', 'nubira', 'croma', 'legacy', 'wrangler', 'navara', 'gl', 'lodgy', 'amarok', 'g_klasse', 'defender', 'musa'])"
      ]
     },
     "execution_count": 95,
     "metadata": {},
     "output_type": "execute_result"
    }
   ],
   "source": [
    "df_model = dict(zip(df.loc[:,'model'].unique().tolist(),range(len(df.loc[:,'model'].unique().tolist()))))\n",
    "df_model.keys()"
   ]
  },
  {
   "cell_type": "code",
   "execution_count": 96,
   "metadata": {},
   "outputs": [
    {
     "data": {
      "text/plain": [
       "12644"
      ]
     },
     "execution_count": 96,
     "metadata": {},
     "output_type": "execute_result"
    }
   ],
   "source": [
    "sum(df.loc[:,'model'].isnull())"
   ]
  },
  {
   "cell_type": "code",
   "execution_count": 97,
   "metadata": {},
   "outputs": [],
   "source": [
    "del df_model[np.nan]"
   ]
  },
  {
   "cell_type": "code",
   "execution_count": 98,
   "metadata": {},
   "outputs": [],
   "source": [
    "for nstr in list(df_model.keys()):\n",
    "    if nstr in df.columns.values.tolist():\n",
    "        df.loc[df.loc[:,'model'] == nstr,nstr] = np.float32(1)\n",
    "    else:\n",
    "        df[nstr] = np.float32(0)\n",
    "        df.loc[df.loc[:,'model'] == nstr,nstr] = np.float32(1)"
   ]
  },
  {
   "cell_type": "code",
   "execution_count": 99,
   "metadata": {},
   "outputs": [],
   "source": [
    "del df['model']"
   ]
  },
  {
   "cell_type": "markdown",
   "metadata": {},
   "source": [
    "### var: kilometer"
   ]
  },
  {
   "cell_type": "code",
   "execution_count": 100,
   "metadata": {},
   "outputs": [
    {
     "data": {
      "text/plain": [
       "count    250152.000000\n",
       "mean     126487.275736\n",
       "std       39336.796341\n",
       "min        5000.000000\n",
       "25%      125000.000000\n",
       "50%      150000.000000\n",
       "75%      150000.000000\n",
       "max      150000.000000\n",
       "Name: kilometer, dtype: float64"
      ]
     },
     "execution_count": 100,
     "metadata": {},
     "output_type": "execute_result"
    }
   ],
   "source": [
    "df.loc[:,'kilometer'].describe()"
   ]
  },
  {
   "cell_type": "code",
   "execution_count": 101,
   "metadata": {},
   "outputs": [
    {
     "data": {
      "text/plain": [
       "0"
      ]
     },
     "execution_count": 101,
     "metadata": {},
     "output_type": "execute_result"
    }
   ],
   "source": [
    "sum(df.loc[:,'kilometer'].isnull())"
   ]
  },
  {
   "cell_type": "code",
   "execution_count": 102,
   "metadata": {},
   "outputs": [
    {
     "data": {
      "text/plain": [
       "[<matplotlib.lines.Line2D at 0x7f406b2ae2e8>]"
      ]
     },
     "execution_count": 102,
     "metadata": {},
     "output_type": "execute_result"
    },
    {
     "data": {
      "image/png": "[encoded data removed]",
      "text/plain": [
       "<Figure size 432x288 with 1 Axes>"
      ]
     },
     "metadata": {},
     "output_type": "display_data"
    }
   ],
   "source": [
    "unique, counts = np.unique(df.loc[:,'kilometer'].values,return_counts=True)\n",
    "plt.plot(unique,counts)"
   ]
  },
  {
   "cell_type": "code",
   "execution_count": 103,
   "metadata": {},
   "outputs": [],
   "source": [
    "df.loc[:,'kilometer'] = df.loc[:,'kilometer'].astype(dtype=np.float32)"
   ]
  },
  {
   "cell_type": "markdown",
   "metadata": {},
   "source": [
    "### var: fuelType"
   ]
  },
  {
   "cell_type": "code",
   "execution_count": 104,
   "metadata": {},
   "outputs": [
    {
     "data": {
      "text/plain": [
       "dict_keys(['diesel', 'benzin', nan, 'lpg', 'andere', 'hybrid', 'cng', 'elektro'])"
      ]
     },
     "execution_count": 104,
     "metadata": {},
     "output_type": "execute_result"
    }
   ],
   "source": [
    "df_fuelType = dict(zip(df.loc[:,'fuelType'].unique().tolist(),range(len(df.loc[:,'fuelType'].unique().tolist()))))\n",
    "df_fuelType.keys()"
   ]
  },
  {
   "cell_type": "code",
   "execution_count": 105,
   "metadata": {},
   "outputs": [
    {
     "data": {
      "text/plain": [
       "21620"
      ]
     },
     "execution_count": 105,
     "metadata": {},
     "output_type": "execute_result"
    }
   ],
   "source": [
    "sum(df.loc[:,'fuelType'].isnull())"
   ]
  },
  {
   "cell_type": "code",
   "execution_count": 106,
   "metadata": {},
   "outputs": [],
   "source": [
    "del df_fuelType[np.nan]"
   ]
  },
  {
   "cell_type": "code",
   "execution_count": 107,
   "metadata": {},
   "outputs": [],
   "source": [
    "for nstr in list(df_fuelType.keys()):\n",
    "    if nstr in df.columns.values.tolist():\n",
    "        df.loc[df.loc[:,'fuelType'] == nstr,nstr] = np.float32(1)\n",
    "    else:\n",
    "        df[nstr] = np.float32(0)\n",
    "        df.loc[df.loc[:,'fuelType'] == nstr,nstr] = np.float32(1)"
   ]
  },
  {
   "cell_type": "code",
   "execution_count": 108,
   "metadata": {},
   "outputs": [],
   "source": [
    "del df['fuelType']"
   ]
  },
  {
   "cell_type": "markdown",
   "metadata": {},
   "source": [
    "### var: notRepairedDamage"
   ]
  },
  {
   "cell_type": "code",
   "execution_count": 109,
   "metadata": {},
   "outputs": [
    {
     "data": {
      "text/plain": [
       "{nan: 0, 'nein': 1, 'ja': 2}"
      ]
     },
     "execution_count": 109,
     "metadata": {},
     "output_type": "execute_result"
    }
   ],
   "source": [
    "df_notRepairedDamage = dict(zip(df.loc[:,'notRepairedDamage'].unique().tolist(),range(len(df.loc[:,'notRepairedDamage'].unique().tolist()))))\n",
    "df_notRepairedDamage"
   ]
  },
  {
   "cell_type": "code",
   "execution_count": 110,
   "metadata": {},
   "outputs": [
    {
     "data": {
      "text/plain": [
       "47821"
      ]
     },
     "execution_count": 110,
     "metadata": {},
     "output_type": "execute_result"
    }
   ],
   "source": [
    "sum(df.loc[:,'notRepairedDamage'].isnull())"
   ]
  },
  {
   "cell_type": "code",
   "execution_count": 111,
   "metadata": {},
   "outputs": [
    {
     "data": {
      "text/plain": [
       "{'nein': 0, 'ja': 1}"
      ]
     },
     "execution_count": 111,
     "metadata": {},
     "output_type": "execute_result"
    }
   ],
   "source": [
    "df_notRepairedDamage = dict(zip(df.loc[:,'notRepairedDamage'].dropna().unique().tolist(),range(len(df.loc[:,'notRepairedDamage'].dropna().unique().tolist()))))\n",
    "df_notRepairedDamage"
   ]
  },
  {
   "cell_type": "code",
   "execution_count": 112,
   "metadata": {},
   "outputs": [],
   "source": [
    "df.loc[:,'notRepairedDamage'] = df.loc[:,'notRepairedDamage'].replace(df_notRepairedDamage)"
   ]
  },
  {
   "cell_type": "code",
   "execution_count": 113,
   "metadata": {},
   "outputs": [],
   "source": [
    "df.loc[:,'notRepairedDamage'] = df.loc[:,'notRepairedDamage'].astype(dtype=np.float32)"
   ]
  },
  {
   "cell_type": "markdown",
   "metadata": {},
   "source": [
    "### var: dateCreated"
   ]
  },
  {
   "cell_type": "code",
   "execution_count": 114,
   "metadata": {},
   "outputs": [],
   "source": [
    "df['dateCreated'] = pd.to_datetime(df['dateCreated'],format = \"%Y/%m/%d %H:%M:%S\")"
   ]
  },
  {
   "cell_type": "code",
   "execution_count": 115,
   "metadata": {},
   "outputs": [
    {
     "data": {
      "text/plain": [
       "count                  250152\n",
       "unique                    108\n",
       "top       2016-04-03 00:00:00\n",
       "freq                     9775\n",
       "first     2014-03-10 00:00:00\n",
       "last      2016-04-07 00:00:00\n",
       "Name: dateCreated, dtype: object"
      ]
     },
     "execution_count": 115,
     "metadata": {},
     "output_type": "execute_result"
    }
   ],
   "source": [
    "df['dateCreated'].describe()"
   ]
  },
  {
   "cell_type": "code",
   "execution_count": 116,
   "metadata": {},
   "outputs": [
    {
     "data": {
      "text/plain": [
       "0"
      ]
     },
     "execution_count": 116,
     "metadata": {},
     "output_type": "execute_result"
    }
   ],
   "source": [
    "sum(df.loc[:,'dateCreated'].isnull())"
   ]
  },
  {
   "cell_type": "code",
   "execution_count": 117,
   "metadata": {},
   "outputs": [],
   "source": [
    "df_dateCreated = df['dateCreated'] - df['dateCrawled']\n",
    "df_dateCreated = df_dateCreated.dt.days"
   ]
  },
  {
   "cell_type": "code",
   "execution_count": 118,
   "metadata": {},
   "outputs": [
    {
     "data": {
      "text/plain": [
       "count    250152.000000\n",
       "mean         -1.090381\n",
       "std           2.380388\n",
       "min        -738.000000\n",
       "25%          -1.000000\n",
       "50%          -1.000000\n",
       "75%          -1.000000\n",
       "max          -1.000000\n",
       "dtype: float64"
      ]
     },
     "execution_count": 118,
     "metadata": {},
     "output_type": "execute_result"
    }
   ],
   "source": [
    "df_dateCreated.describe()"
   ]
  },
  {
   "cell_type": "code",
   "execution_count": 119,
   "metadata": {},
   "outputs": [
    {
     "data": {
      "text/plain": [
       "[<matplotlib.lines.Line2D at 0x7f406ae76898>]"
      ]
     },
     "execution_count": 119,
     "metadata": {},
     "output_type": "execute_result"
    },
    {
     "data": {
      "image/png": "[encoded data removed]",
      "text/plain": [
       "<Figure size 432x288 with 1 Axes>"
      ]
     },
     "metadata": {},
     "output_type": "display_data"
    }
   ],
   "source": [
    "unique, counts = np.unique(df_dateCreated.dropna().values,return_counts=True)\n",
    "plt.plot(unique,counts)"
   ]
  },
  {
   "cell_type": "code",
   "execution_count": 120,
   "metadata": {},
   "outputs": [
    {
     "data": {
      "text/plain": [
       "[<matplotlib.lines.Line2D at 0x7f406b1a4f28>]"
      ]
     },
     "execution_count": 120,
     "metadata": {},
     "output_type": "execute_result"
    },
    {
     "data": {
      "image/png": "[encoded data removed]",
      "text/plain": [
       "<Figure size 432x288 with 1 Axes>"
      ]
     },
     "metadata": {},
     "output_type": "display_data"
    }
   ],
   "source": [
    "plt.plot(unique[70:],counts[70:])"
   ]
  },
  {
   "cell_type": "code",
   "execution_count": 121,
   "metadata": {
    "scrolled": true
   },
   "outputs": [
    {
     "data": {
      "text/plain": [
       "array([-738, -370, -287, -240, -212, -193, -179, -144, -135, -125, -119,\n",
       "       -114, -110, -105, -104,  -95,  -94,  -93,  -86,  -82,  -74,  -70,\n",
       "        -69,  -68,  -67,  -65,  -62,  -60,  -59,  -58,  -57,  -56,  -55,\n",
       "        -53,  -52,  -50,  -49,  -48,  -47,  -45,  -44,  -43,  -42,  -41,\n",
       "        -40,  -39,  -38,  -37,  -36,  -35,  -34,  -33,  -32,  -31,  -30,\n",
       "        -29,  -28,  -27,  -26,  -25,  -24,  -23,  -22,  -21,  -20,  -19,\n",
       "        -18,  -17,  -16,  -15,  -14,  -13,  -12,  -11,  -10,   -9,   -8,\n",
       "         -7,   -6,   -5,   -4,   -3,   -2,   -1])"
      ]
     },
     "execution_count": 121,
     "metadata": {},
     "output_type": "execute_result"
    }
   ],
   "source": [
    "unique"
   ]
  },
  {
   "cell_type": "code",
   "execution_count": 122,
   "metadata": {},
   "outputs": [],
   "source": [
    "df.loc[:,'dateCreated'] = df_dateCreated.astype(dtype=np.float32)"
   ]
  },
  {
   "cell_type": "markdown",
   "metadata": {},
   "source": [
    "### var: nrOfPictures"
   ]
  },
  {
   "cell_type": "code",
   "execution_count": 123,
   "metadata": {},
   "outputs": [
    {
     "data": {
      "text/plain": [
       "count    250152.0\n",
       "mean          0.0\n",
       "std           0.0\n",
       "min           0.0\n",
       "25%           0.0\n",
       "50%           0.0\n",
       "75%           0.0\n",
       "max           0.0\n",
       "Name: nrOfPictures, dtype: float64"
      ]
     },
     "execution_count": 123,
     "metadata": {},
     "output_type": "execute_result"
    }
   ],
   "source": [
    "df.loc[:,'nrOfPictures'].describe()"
   ]
  },
  {
   "cell_type": "code",
   "execution_count": 124,
   "metadata": {},
   "outputs": [
    {
     "data": {
      "text/plain": [
       "0"
      ]
     },
     "execution_count": 124,
     "metadata": {},
     "output_type": "execute_result"
    }
   ],
   "source": [
    "sum(df.loc[:,'dateCreated'].isnull())"
   ]
  },
  {
   "cell_type": "markdown",
   "metadata": {},
   "source": [
    "### var: postalCode"
   ]
  },
  {
   "cell_type": "code",
   "execution_count": 125,
   "metadata": {},
   "outputs": [
    {
     "data": {
      "text/plain": [
       "count    250152.000000\n",
       "mean      50835.661574\n",
       "std       25762.073567\n",
       "min        1067.000000\n",
       "25%       30519.000000\n",
       "50%       49610.000000\n",
       "75%       71522.000000\n",
       "max       99998.000000\n",
       "Name: postalCode, dtype: float64"
      ]
     },
     "execution_count": 125,
     "metadata": {},
     "output_type": "execute_result"
    }
   ],
   "source": [
    "df.loc[:,'postalCode'].describe()"
   ]
  },
  {
   "cell_type": "code",
   "execution_count": 126,
   "metadata": {},
   "outputs": [
    {
     "data": {
      "text/plain": [
       "8068"
      ]
     },
     "execution_count": 126,
     "metadata": {},
     "output_type": "execute_result"
    }
   ],
   "source": [
    "df_postalCode = dict(zip(df.loc[:,'postalCode'].unique().tolist(),range(len(df.loc[:,'postalCode'].unique().tolist()))))\n",
    "len(df_postalCode)"
   ]
  },
  {
   "cell_type": "code",
   "execution_count": 127,
   "metadata": {},
   "outputs": [],
   "source": [
    "df2head = ['country code','postal code','place name','admin name1','admin code1','admin name2',\n",
    "'admin code2','admin name3','admin code3','latitude','longitude','accuracy']"
   ]
  },
  {
   "cell_type": "code",
   "execution_count": 128,
   "metadata": {},
   "outputs": [
    {
     "data": {
      "text/html": [
       "<div>\n",
       "<style scoped>\n",
       "    .dataframe tbody tr th:only-of-type {\n",
       "        vertical-align: middle;\n",
       "    }\n",
       "\n",
       "    .dataframe tbody tr th {\n",
       "        vertical-align: top;\n",
       "    }\n",
       "\n",
       "    .dataframe thead th {\n",
       "        text-align: right;\n",
       "    }\n",
       "</style>\n",
       "<table border=\"1\" class=\"dataframe\">\n",
       "  <thead>\n",
       "    <tr style=\"text-align: right;\">\n",
       "      <th></th>\n",
       "      <th>country code</th>\n",
       "      <th>postal code</th>\n",
       "      <th>place name</th>\n",
       "      <th>admin name1</th>\n",
       "      <th>admin code1</th>\n",
       "      <th>admin name2</th>\n",
       "      <th>admin code2</th>\n",
       "      <th>admin name3</th>\n",
       "      <th>admin code3</th>\n",
       "      <th>latitude</th>\n",
       "      <th>longitude</th>\n",
       "      <th>accuracy</th>\n",
       "    </tr>\n",
       "  </thead>\n",
       "  <tbody>\n",
       "    <tr>\n",
       "      <th>0</th>\n",
       "      <td>DE</td>\n",
       "      <td>1945</td>\n",
       "      <td>Grünewald</td>\n",
       "      <td>Brandenburg</td>\n",
       "      <td>BB</td>\n",
       "      <td>NaN</td>\n",
       "      <td>0</td>\n",
       "      <td>Landkreis Oberspreewald-Lausitz</td>\n",
       "      <td>12066</td>\n",
       "      <td>51.400</td>\n",
       "      <td>14.0000</td>\n",
       "      <td>NaN</td>\n",
       "    </tr>\n",
       "    <tr>\n",
       "      <th>1</th>\n",
       "      <td>DE</td>\n",
       "      <td>1945</td>\n",
       "      <td>Lindenau</td>\n",
       "      <td>Brandenburg</td>\n",
       "      <td>BB</td>\n",
       "      <td>NaN</td>\n",
       "      <td>0</td>\n",
       "      <td>Landkreis Oberspreewald-Lausitz</td>\n",
       "      <td>12066</td>\n",
       "      <td>51.400</td>\n",
       "      <td>13.7333</td>\n",
       "      <td>NaN</td>\n",
       "    </tr>\n",
       "    <tr>\n",
       "      <th>2</th>\n",
       "      <td>DE</td>\n",
       "      <td>1945</td>\n",
       "      <td>Hohenbocka</td>\n",
       "      <td>Brandenburg</td>\n",
       "      <td>BB</td>\n",
       "      <td>NaN</td>\n",
       "      <td>0</td>\n",
       "      <td>Landkreis Oberspreewald-Lausitz</td>\n",
       "      <td>12066</td>\n",
       "      <td>51.431</td>\n",
       "      <td>14.0098</td>\n",
       "      <td>NaN</td>\n",
       "    </tr>\n",
       "  </tbody>\n",
       "</table>\n",
       "</div>"
      ],
      "text/plain": [
       "  country code  postal code  place name  admin name1 admin code1 admin name2  \\\n",
       "0           DE         1945   Grünewald  Brandenburg          BB         NaN   \n",
       "1           DE         1945    Lindenau  Brandenburg          BB         NaN   \n",
       "2           DE         1945  Hohenbocka  Brandenburg          BB         NaN   \n",
       "\n",
       "   admin code2                      admin name3  admin code3  latitude  \\\n",
       "0            0  Landkreis Oberspreewald-Lausitz        12066    51.400   \n",
       "1            0  Landkreis Oberspreewald-Lausitz        12066    51.400   \n",
       "2            0  Landkreis Oberspreewald-Lausitz        12066    51.431   \n",
       "\n",
       "   longitude  accuracy  \n",
       "0    14.0000       NaN  \n",
       "1    13.7333       NaN  \n",
       "2    14.0098       NaN  "
      ]
     },
     "execution_count": 128,
     "metadata": {},
     "output_type": "execute_result"
    }
   ],
   "source": [
    "df2 = pd.read_csv(\"/home/longa/03_tarolo/BME/dap/nagyhazi/DE.txt\",sep='\\t',names=df2head)\n",
    "df2.head(3)"
   ]
  },
  {
   "cell_type": "code",
   "execution_count": 129,
   "metadata": {
    "scrolled": true
   },
   "outputs": [],
   "source": [
    "depostaldict = dict(zip(df2.loc[:,'postal code'].values.tolist(),df2.loc[:,'admin name1'].values.tolist()))"
   ]
  },
  {
   "cell_type": "code",
   "execution_count": 130,
   "metadata": {
    "scrolled": true
   },
   "outputs": [],
   "source": [
    "df_postalCode_temp = df.loc[:,'postalCode'].replace(depostaldict)"
   ]
  },
  {
   "cell_type": "code",
   "execution_count": 131,
   "metadata": {},
   "outputs": [],
   "source": [
    "count = []\n",
    "items = []\n",
    "for item in df_postalCode_temp.unique().tolist():\n",
    "    count.append(len(df_postalCode_temp[df_postalCode_temp == item]))\n",
    "    items.append(item)"
   ]
  },
  {
   "cell_type": "code",
   "execution_count": 132,
   "metadata": {
    "scrolled": true
   },
   "outputs": [
    {
     "data": {
      "text/plain": [
       "{'Bayern': 37016,\n",
       " 'Nordrhein-Westfalen': 60133,\n",
       " 'Rheinland-Pfalz': 14466,\n",
       " 'Niedersachsen': 29141,\n",
       " 'Hessen': 22803,\n",
       " 'Sachsen-Anhalt': 4879,\n",
       " 'Baden-Württemberg': 28506,\n",
       " 'Sachsen': 7457,\n",
       " 'Berlin': 10517,\n",
       " 'Mecklenburg-Vorpommern': 3822,\n",
       " 'Hamburg': 4689,\n",
       " 'Schleswig-Holstein': 9707,\n",
       " 'Thüringen': 4538,\n",
       " 'Saarland': 4264,\n",
       " 'Brandenburg': 5901,\n",
       " 'Bremen': 2181,\n",
       " 6868.0: 9,\n",
       " 99095.0: 13,\n",
       " 6485.0: 10,\n",
       " 99090.0: 11,\n",
       " 15712.0: 22,\n",
       " 39217.0: 5,\n",
       " 87567.0: 3,\n",
       " 15713.0: 10,\n",
       " 99898.0: 1,\n",
       " 85045.0: 1,\n",
       " 96529.0: 4,\n",
       " 12058.0: 1,\n",
       " 1068.0: 1,\n",
       " 27632.0: 28,\n",
       " 6772.0: 6,\n",
       " 85071.0: 1,\n",
       " 9434.0: 3,\n",
       " 30176.0: 2,\n",
       " 7558.0: 1}"
      ]
     },
     "execution_count": 132,
     "metadata": {},
     "output_type": "execute_result"
    }
   ],
   "source": [
    "df2_postdict = dict(zip(items,count))\n",
    "df2_postdict"
   ]
  },
  {
   "cell_type": "code",
   "execution_count": 133,
   "metadata": {
    "scrolled": true
   },
   "outputs": [
    {
     "data": {
      "text/plain": [
       "{'Bayern': 37016,\n",
       " 'Nordrhein-Westfalen': 60133,\n",
       " 'Rheinland-Pfalz': 14466,\n",
       " 'Niedersachsen': 29141,\n",
       " 'Hessen': 22803,\n",
       " 'Sachsen-Anhalt': 4879,\n",
       " 'Baden-Württemberg': 28506,\n",
       " 'Sachsen': 7457,\n",
       " 'Berlin': 10517,\n",
       " 'Mecklenburg-Vorpommern': 3822,\n",
       " 'Hamburg': 4689,\n",
       " 'Schleswig-Holstein': 9707,\n",
       " 'Thüringen': 4538,\n",
       " 'Saarland': 4264,\n",
       " 'Brandenburg': 5901,\n",
       " 'Bremen': 2181,\n",
       " 6868.0: 9,\n",
       " 99095.0: 13,\n",
       " 6485.0: 10,\n",
       " 99090.0: 11,\n",
       " 15712.0: 22,\n",
       " 39217.0: 5,\n",
       " 87567.0: 3,\n",
       " 15713.0: 10,\n",
       " 99898.0: 1,\n",
       " 85045.0: 1,\n",
       " 96529.0: 4,\n",
       " 12058.0: 1,\n",
       " 1068.0: 1,\n",
       " 27632.0: 28,\n",
       " 6772.0: 6,\n",
       " 85071.0: 1,\n",
       " 9434.0: 3,\n",
       " 30176.0: 2,\n",
       " 7558.0: 1}"
      ]
     },
     "execution_count": 133,
     "metadata": {},
     "output_type": "execute_result"
    }
   ],
   "source": [
    "df2_postdict"
   ]
  },
  {
   "cell_type": "code",
   "execution_count": 134,
   "metadata": {},
   "outputs": [],
   "source": [
    "df2_postdict_df = pd.DataFrame(list(df2_postdict.items()),columns=['place','sum'])"
   ]
  },
  {
   "cell_type": "code",
   "execution_count": 135,
   "metadata": {},
   "outputs": [],
   "source": [
    "postcerr = df2_postdict_df.loc[df2_postdict_df.loc[:,'sum'] < 50,'place'].values.tolist()\n",
    "depostaldict2 = dict(zip(postcerr,[np.nan for x in range(len(postcerr))]))"
   ]
  },
  {
   "cell_type": "code",
   "execution_count": 136,
   "metadata": {},
   "outputs": [],
   "source": [
    "df_postalCode_temp = df_postalCode_temp.replace(depostaldict2)"
   ]
  },
  {
   "cell_type": "code",
   "execution_count": 137,
   "metadata": {},
   "outputs": [],
   "source": [
    "count = []\n",
    "items = []\n",
    "for item in df_postalCode_temp.unique().tolist():\n",
    "    count.append(len(df_postalCode_temp[df_postalCode_temp == item]))\n",
    "    items.append(item)"
   ]
  },
  {
   "cell_type": "code",
   "execution_count": 138,
   "metadata": {},
   "outputs": [
    {
     "data": {
      "text/plain": [
       "{'Bayern': 37016,\n",
       " 'Nordrhein-Westfalen': 60133,\n",
       " 'Rheinland-Pfalz': 14466,\n",
       " 'Niedersachsen': 29141,\n",
       " 'Hessen': 22803,\n",
       " 'Sachsen-Anhalt': 4879,\n",
       " 'Baden-Württemberg': 28506,\n",
       " 'Sachsen': 7457,\n",
       " 'Berlin': 10517,\n",
       " 'Mecklenburg-Vorpommern': 3822,\n",
       " 'Hamburg': 4689,\n",
       " 'Schleswig-Holstein': 9707,\n",
       " 'Thüringen': 4538,\n",
       " 'Saarland': 4264,\n",
       " 'Brandenburg': 5901,\n",
       " 'Bremen': 2181,\n",
       " nan: 0}"
      ]
     },
     "execution_count": 138,
     "metadata": {},
     "output_type": "execute_result"
    }
   ],
   "source": [
    "df2_postdict = dict(zip(items,count))\n",
    "df2_postdict"
   ]
  },
  {
   "cell_type": "code",
   "execution_count": 139,
   "metadata": {},
   "outputs": [
    {
     "data": {
      "text/plain": [
       "{'Bayern': 37016,\n",
       " 'Nordrhein-Westfalen': 60133,\n",
       " 'Rheinland-Pfalz': 14466,\n",
       " 'Niedersachsen': 29141,\n",
       " 'Hessen': 22803,\n",
       " 'Sachsen-Anhalt': 4879,\n",
       " 'Baden-Württemberg': 28506,\n",
       " 'Sachsen': 7457,\n",
       " 'Berlin': 10517,\n",
       " 'Mecklenburg-Vorpommern': 3822,\n",
       " 'Hamburg': 4689,\n",
       " 'Schleswig-Holstein': 9707,\n",
       " 'Thüringen': 4538,\n",
       " 'Saarland': 4264,\n",
       " 'Brandenburg': 5901,\n",
       " 'Bremen': 2181,\n",
       " nan: 0}"
      ]
     },
     "execution_count": 139,
     "metadata": {},
     "output_type": "execute_result"
    }
   ],
   "source": [
    "df2_postdict"
   ]
  },
  {
   "cell_type": "code",
   "execution_count": 140,
   "metadata": {},
   "outputs": [],
   "source": [
    "df.loc[:,'postalCode'] = df_postalCode_temp"
   ]
  },
  {
   "cell_type": "code",
   "execution_count": 141,
   "metadata": {},
   "outputs": [
    {
     "data": {
      "text/plain": [
       "132"
      ]
     },
     "execution_count": 141,
     "metadata": {},
     "output_type": "execute_result"
    }
   ],
   "source": [
    "sum(df.loc[:,'postalCode'].isnull())"
   ]
  },
  {
   "cell_type": "code",
   "execution_count": 142,
   "metadata": {},
   "outputs": [],
   "source": [
    "df1_postal_vars = df.loc[:,'postalCode'].dropna().unique().tolist()"
   ]
  },
  {
   "cell_type": "code",
   "execution_count": 143,
   "metadata": {},
   "outputs": [],
   "source": [
    "for nstr in df1_postal_vars:\n",
    "    df[nstr] = np.float32(0)\n",
    "    df.loc[df.loc[:,'postalCode'] == nstr,nstr] = np.float32(1)"
   ]
  },
  {
   "cell_type": "code",
   "execution_count": 144,
   "metadata": {},
   "outputs": [],
   "source": [
    "del df['postalCode']"
   ]
  },
  {
   "cell_type": "markdown",
   "metadata": {},
   "source": [
    "### var: lastSeen"
   ]
  },
  {
   "cell_type": "code",
   "execution_count": 145,
   "metadata": {},
   "outputs": [],
   "source": [
    "df['lastSeen'] = pd.to_datetime(df['lastSeen'],format = \"%Y/%m/%d %H:%M:%S\")"
   ]
  },
  {
   "cell_type": "code",
   "execution_count": 146,
   "metadata": {},
   "outputs": [
    {
     "data": {
      "text/plain": [
       "0"
      ]
     },
     "execution_count": 146,
     "metadata": {},
     "output_type": "execute_result"
    }
   ],
   "source": [
    "sum(df.loc[:,'lastSeen'].isnull())"
   ]
  },
  {
   "cell_type": "code",
   "execution_count": 147,
   "metadata": {
    "scrolled": true
   },
   "outputs": [],
   "source": [
    "df_lastSeen = df['dateCrawled'] - df['lastSeen']"
   ]
  },
  {
   "cell_type": "code",
   "execution_count": 148,
   "metadata": {},
   "outputs": [],
   "source": [
    "df_lastSeen = df_lastSeen.dt.days*24 + df_lastSeen.dt.seconds/60/60/60"
   ]
  },
  {
   "cell_type": "code",
   "execution_count": 149,
   "metadata": {},
   "outputs": [],
   "source": [
    "df['lastSeen'] = df_lastSeen"
   ]
  },
  {
   "cell_type": "code",
   "execution_count": 150,
   "metadata": {},
   "outputs": [],
   "source": [
    "del df['lastSeen']"
   ]
  },
  {
   "cell_type": "markdown",
   "metadata": {},
   "source": [
    "### var: id"
   ]
  },
  {
   "cell_type": "code",
   "execution_count": 151,
   "metadata": {
    "scrolled": true
   },
   "outputs": [
    {
     "data": {
      "text/plain": [
       "count    250152.000000\n",
       "mean     185870.975067\n",
       "std      107353.589860\n",
       "min           3.000000\n",
       "25%       92948.750000\n",
       "50%      185913.500000\n",
       "75%      278843.500000\n",
       "max      371824.000000\n",
       "Name: id, dtype: float64"
      ]
     },
     "execution_count": 151,
     "metadata": {},
     "output_type": "execute_result"
    }
   ],
   "source": [
    "df.loc[:,'id'].describe()"
   ]
  },
  {
   "cell_type": "code",
   "execution_count": 152,
   "metadata": {},
   "outputs": [
    {
     "data": {
      "text/plain": [
       "0"
      ]
     },
     "execution_count": 152,
     "metadata": {},
     "output_type": "execute_result"
    }
   ],
   "source": [
    "sum(df.loc[:,'lastSeen'].isnull())"
   ]
  },
  {
   "cell_type": "code",
   "execution_count": 153,
   "metadata": {},
   "outputs": [],
   "source": [
    "del df['lastSeen']"
   ]
  },
  {
   "cell_type": "code",
   "execution_count": 154,
   "metadata": {},
   "outputs": [
    {
     "data": {
      "text/html": [
       "<div>\n",
       "<style scoped>\n",
       "    .dataframe tbody tr th:only-of-type {\n",
       "        vertical-align: middle;\n",
       "    }\n",
       "\n",
       "    .dataframe tbody tr th {\n",
       "        vertical-align: top;\n",
       "    }\n",
       "\n",
       "    .dataframe thead th {\n",
       "        text-align: right;\n",
       "    }\n",
       "</style>\n",
       "<table border=\"1\" class=\"dataframe\">\n",
       "  <thead>\n",
       "    <tr style=\"text-align: right;\">\n",
       "      <th></th>\n",
       "      <th>seller</th>\n",
       "      <th>offerType</th>\n",
       "      <th>powerPS</th>\n",
       "      <th>kilometer</th>\n",
       "      <th>notRepairedDamage</th>\n",
       "      <th>dateCreated</th>\n",
       "      <th>nrOfPictures</th>\n",
       "      <th>lastSeen</th>\n",
       "      <th>label</th>\n",
       "      <th>tuev</th>\n",
       "      <th>tdi</th>\n",
       "      <th>golf</th>\n",
       "      <th>2.0</th>\n",
       "      <th>1.6</th>\n",
       "      <th>1.4</th>\n",
       "      <th>automatik</th>\n",
       "      <th>klima</th>\n",
       "      <th>neu</th>\n",
       "      <th>16v</th>\n",
       "      <th>sport</th>\n",
       "      <th>polo</th>\n",
       "      <th>corsa</th>\n",
       "      <th>1.2</th>\n",
       "      <th>1.9</th>\n",
       "      <th>cabrio</th>\n",
       "      <th>cdi</th>\n",
       "      <th>top</th>\n",
       "      <th>1.8</th>\n",
       "      <th>astra</th>\n",
       "      <th>passat</th>\n",
       "      <th>a4</th>\n",
       "      <th>edition</th>\n",
       "      <th>navi</th>\n",
       "      <th>kombi</th>\n",
       "      <th>avant</th>\n",
       "      <th>zustand</th>\n",
       "      <th>variant</th>\n",
       "      <th>coupe</th>\n",
       "      <th>touring</th>\n",
       "      <th>a3</th>\n",
       "      <th>leder</th>\n",
       "      <th>quattro</th>\n",
       "      <th>a6</th>\n",
       "      <th>focus</th>\n",
       "      <th>ahk</th>\n",
       "      <th>diesel</th>\n",
       "      <th>xenon</th>\n",
       "      <th>fiesta</th>\n",
       "      <th>3.0</th>\n",
       "      <th>line</th>\n",
       "      <th>1.0</th>\n",
       "      <th>200</th>\n",
       "      <th>twingo</th>\n",
       "      <th>dsg</th>\n",
       "      <th>tsi</th>\n",
       "      <th>highline</th>\n",
       "      <th>lpg</th>\n",
       "      <th>comfortline</th>\n",
       "      <th>tronic</th>\n",
       "      <th>vectra</th>\n",
       "      <th>avantgarde</th>\n",
       "      <th>sehr</th>\n",
       "      <th>gepflegt</th>\n",
       "      <th>elegance</th>\n",
       "      <th>206</th>\n",
       "      <th>tdci</th>\n",
       "      <th>1.hand</th>\n",
       "      <th>punto</th>\n",
       "      <th>cdti</th>\n",
       "      <th>320</th>\n",
       "      <th>mondeo</th>\n",
       "      <th>bj</th>\n",
       "      <th>paket</th>\n",
       "      <th>touran</th>\n",
       "      <th>clio</th>\n",
       "      <th>220</th>\n",
       "      <th>6v</th>\n",
       "      <th>caravan</th>\n",
       "      <th>2.2</th>\n",
       "      <th>kompressor</th>\n",
       "      <th>scheckheft</th>\n",
       "      <th>zafira</th>\n",
       "      <th>turbo</th>\n",
       "      <th>7g</th>\n",
       "      <th>classic</th>\n",
       "      <th>2.5</th>\n",
       "      <th>180</th>\n",
       "      <th>gti</th>\n",
       "      <th>megane</th>\n",
       "      <th>bastler</th>\n",
       "      <th>320d</th>\n",
       "      <th>neue</th>\n",
       "      <th>turnier</th>\n",
       "      <th>ibiza</th>\n",
       "      <th>lupo</th>\n",
       "      <th>t4</th>\n",
       "      <th>1.3</th>\n",
       "      <th>316i</th>\n",
       "      <th>hdi</th>\n",
       "      <th>tausch</th>\n",
       "      <th>318i</th>\n",
       "      <th>ka</th>\n",
       "      <th>fortwo</th>\n",
       "      <th>voll</th>\n",
       "      <th>dci</th>\n",
       "      <th>sportback</th>\n",
       "      <th>plus</th>\n",
       "      <th>tfsi</th>\n",
       "      <th>6n</th>\n",
       "      <th>bereift</th>\n",
       "      <th>style</th>\n",
       "      <th>trendline</th>\n",
       "      <th>combi</th>\n",
       "      <th>cooper</th>\n",
       "      <th>schwarz</th>\n",
       "      <th>ambiente</th>\n",
       "      <th>e36</th>\n",
       "      <th>320i</th>\n",
       "      <th>vollausstattung</th>\n",
       "      <th>servo</th>\n",
       "      <th>fabia</th>\n",
       "      <th>klasse</th>\n",
       "      <th>bluemotion</th>\n",
       "      <th>e46</th>\n",
       "      <th>octavia</th>\n",
       "      <th>gruene</th>\n",
       "      <th>amg</th>\n",
       "      <th>plakette</th>\n",
       "      <th>limousine</th>\n",
       "      <th>12v</th>\n",
       "      <th>gepflegter</th>\n",
       "      <th>pdc</th>\n",
       "      <th>comfort</th>\n",
       "      <th>fsi</th>\n",
       "      <th>75</th>\n",
       "      <th>multivan</th>\n",
       "      <th>nur</th>\n",
       "      <th>suche</th>\n",
       "      <th>ambition</th>\n",
       "      <th>facelift</th>\n",
       "      <th>clk</th>\n",
       "      <th>8v</th>\n",
       "      <th>compact</th>\n",
       "      <th>80</th>\n",
       "      <th>blueefficiency</th>\n",
       "      <th>110</th>\n",
       "      <th>2.hand</th>\n",
       "      <th>500</th>\n",
       "      <th>4x4</th>\n",
       "      <th>caddy</th>\n",
       "      <th>titanium</th>\n",
       "      <th>alu</th>\n",
       "      <th>micra</th>\n",
       "      <th>sportpaket</th>\n",
       "      <th>ohne</th>\n",
       "      <th>ghia</th>\n",
       "      <th>sitzheizung</th>\n",
       "      <th>sharan</th>\n",
       "      <th>gt</th>\n",
       "      <th>exclusive</th>\n",
       "      <th>fahrbereit</th>\n",
       "      <th>guter</th>\n",
       "      <th>scenic</th>\n",
       "      <th>4motion</th>\n",
       "      <th>garantie</th>\n",
       "      <th>ausstattung</th>\n",
       "      <th>530d</th>\n",
       "      <th>super</th>\n",
       "      <th>t5</th>\n",
       "      <th>tiptronic</th>\n",
       "      <th>leon</th>\n",
       "      <th>omega</th>\n",
       "      <th>350</th>\n",
       "      <th>standheizung</th>\n",
       "      <th>schiebedach</th>\n",
       "      <th>tausche</th>\n",
       "      <th>2.4</th>\n",
       "      <th>slk</th>\n",
       "      <th>jahre</th>\n",
       "      <th>wenig</th>\n",
       "      <th>1.1</th>\n",
       "      <th>tuerer</th>\n",
       "      <th>roadster</th>\n",
       "      <th>technology</th>\n",
       "      <th>trend</th>\n",
       "      <th>tt</th>\n",
       "      <th>fap</th>\n",
       "      <th>civic</th>\n",
       "      <th>1.5</th>\n",
       "      <th>grand</th>\n",
       "      <th>laguna</th>\n",
       "      <th>max</th>\n",
       "      <th>230</th>\n",
       "      <th>307</th>\n",
       "      <th>1.7</th>\n",
       "      <th>525d</th>\n",
       "      <th>aus</th>\n",
       "      <th>2018</th>\n",
       "      <th>bastlerfahrzeug</th>\n",
       "      <th>multitronic</th>\n",
       "      <th>transporter</th>\n",
       "      <th>ci</th>\n",
       "      <th>2.7</th>\n",
       "      <th>100</th>\n",
       "      <th>170</th>\n",
       "      <th>galaxy</th>\n",
       "      <th>zoll</th>\n",
       "      <th>kein</th>\n",
       "      <th>60</th>\n",
       "      <th>140</th>\n",
       "      <th>panorama</th>\n",
       "      <th>207</th>\n",
       "      <th>ml</th>\n",
       "      <th>520i</th>\n",
       "      <th>crdi</th>\n",
       "      <th>gasanlage</th>\n",
       "      <th>gegen</th>\n",
       "      <th>lkw</th>\n",
       "      <th>passion</th>\n",
       "      <th>cd</th>\n",
       "      <th>meriva</th>\n",
       "      <th>90</th>\n",
       "      <th>gang</th>\n",
       "      <th>hu</th>\n",
       "      <th>tempomat</th>\n",
       "      <th>2000</th>\n",
       "      <th>ein</th>\n",
       "      <th>motorschaden</th>\n",
       "      <th>golf6</th>\n",
       "      <th>silber</th>\n",
       "      <th>280</th>\n",
       "      <th>318</th>\n",
       "      <th>a5</th>\n",
       "      <th>yaris</th>\n",
       "      <th>323</th>\n",
       "      <th>tuev au</th>\n",
       "      <th>160</th>\n",
       "      <th>4matic</th>\n",
       "      <th>lang</th>\n",
       "      <th>unfallfrei</th>\n",
       "      <th>verkauf</th>\n",
       "      <th>e39</th>\n",
       "      <th>zahnriemen</th>\n",
       "      <th>150</th>\n",
       "      <th>twin</th>\n",
       "      <th>gut</th>\n",
       "      <th>one</th>\n",
       "      <th>liter</th>\n",
       "      <th>tuerig</th>\n",
       "      <th>original</th>\n",
       "      <th>up</th>\n",
       "      <th>kangoo</th>\n",
       "      <th>116i</th>\n",
       "      <th>vito</th>\n",
       "      <th>alufelgen</th>\n",
       "      <th>grandtour</th>\n",
       "      <th>schoener</th>\n",
       "      <th>sw</th>\n",
       "      <th>106</th>\n",
       "      <th>bora</th>\n",
       "      <th>x3</th>\n",
       "      <th>tiguan</th>\n",
       "      <th>arosa</th>\n",
       "      <th>scheckheftgepflegt</th>\n",
       "      <th>x5</th>\n",
       "      <th>tuning</th>\n",
       "      <th>dti</th>\n",
       "      <th>270</th>\n",
       "      <th>eco</th>\n",
       "      <th>iner</th>\n",
       "      <th>325i</th>\n",
       "      <th>beetle</th>\n",
       "      <th>corolla</th>\n",
       "      <th>tourer</th>\n",
       "      <th>cl</th>\n",
       "      <th>523i</th>\n",
       "      <th>mein</th>\n",
       "      <th>fahrzeug</th>\n",
       "      <th>berlingo</th>\n",
       "      <th>blue</th>\n",
       "      <th>118d</th>\n",
       "      <th>fox</th>\n",
       "      <th>modell</th>\n",
       "      <th>8l</th>\n",
       "      <th>blau</th>\n",
       "      <th>dynamique</th>\n",
       "      <th>anhaengerkupplung</th>\n",
       "      <th>mx</th>\n",
       "      <th>faltdach</th>\n",
       "      <th>b5</th>\n",
       "      <th>escort</th>\n",
       "      <th>attraction</th>\n",
       "      <th>colt</th>\n",
       "      <th>ii</th>\n",
       "      <th>316</th>\n",
       "      <th>tigra</th>\n",
       "      <th>au</th>\n",
       "      <th>tuv</th>\n",
       "      <th>rs</th>\n",
       "      <th>190</th>\n",
       "      <th>iii</th>\n",
       "      <th>18</th>\n",
       "      <th>active</th>\n",
       "      <th>gl</th>\n",
       "      <th>9n</th>\n",
       "      <th>cosmo</th>\n",
       "      <th>suv</th>\n",
       "      <th>kleinwagen</th>\n",
       "      <th>bus</th>\n",
       "      <th>andere</th>\n",
       "      <th>benzin</th>\n",
       "      <th>hybrid</th>\n",
       "      <th>cng</th>\n",
       "      <th>elektro</th>\n",
       "      <th>jeep</th>\n",
       "      <th>volkswagen</th>\n",
       "      <th>bmw</th>\n",
       "      <th>peugeot</th>\n",
       "      <th>mazda</th>\n",
       "      <th>renault</th>\n",
       "      <th>ford</th>\n",
       "      <th>seat</th>\n",
       "      <th>mercedes_benz</th>\n",
       "      <th>honda</th>\n",
       "      <th>fiat</th>\n",
       "      <th>opel</th>\n",
       "      <th>smart</th>\n",
       "      <th>hyundai</th>\n",
       "      <th>sonstige_autos</th>\n",
       "      <th>alfa_romeo</th>\n",
       "      <th>mitsubishi</th>\n",
       "      <th>audi</th>\n",
       "      <th>kia</th>\n",
       "      <th>volvo</th>\n",
       "      <th>skoda</th>\n",
       "      <th>nissan</th>\n",
       "      <th>citroen</th>\n",
       "      <th>toyota</th>\n",
       "      <th>chevrolet</th>\n",
       "      <th>dacia</th>\n",
       "      <th>suzuki</th>\n",
       "      <th>daihatsu</th>\n",
       "      <th>mini</th>\n",
       "      <th>chrysler</th>\n",
       "      <th>porsche</th>\n",
       "      <th>rover</th>\n",
       "      <th>lancia</th>\n",
       "      <th>daewoo</th>\n",
       "      <th>subaru</th>\n",
       "      <th>jaguar</th>\n",
       "      <th>saab</th>\n",
       "      <th>land_rover</th>\n",
       "      <th>trabant</th>\n",
       "      <th>lada</th>\n",
       "      <th>Registration</th>\n",
       "      <th>manuell</th>\n",
       "      <th>3er</th>\n",
       "      <th>2_reihe</th>\n",
       "      <th>3_reihe</th>\n",
       "      <th>c_max</th>\n",
       "      <th>5er</th>\n",
       "      <th>e_klasse</th>\n",
       "      <th>kadett</th>\n",
       "      <th>1er</th>\n",
       "      <th>b_klasse</th>\n",
       "      <th>signum</th>\n",
       "      <th>jetta</th>\n",
       "      <th>156</th>\n",
       "      <th>c_klasse</th>\n",
       "      <th>a1</th>\n",
       "      <th>insignia</th>\n",
       "      <th>7er</th>\n",
       "      <th>147</th>\n",
       "      <th>z_reihe</th>\n",
       "      <th>sorento</th>\n",
       "      <th>v40</th>\n",
       "      <th>mustang</th>\n",
       "      <th>eos</th>\n",
       "      <th>getz</th>\n",
       "      <th>almera</th>\n",
       "      <th>r19</th>\n",
       "      <th>m_klasse</th>\n",
       "      <th>i_reihe</th>\n",
       "      <th>espace</th>\n",
       "      <th>6_reihe</th>\n",
       "      <th>a_klasse</th>\n",
       "      <th>5_reihe</th>\n",
       "      <th>yeti</th>\n",
       "      <th>rx_reihe</th>\n",
       "      <th>matiz</th>\n",
       "      <th>panda</th>\n",
       "      <th>c1</th>\n",
       "      <th>touareg</th>\n",
       "      <th>logan</th>\n",
       "      <th>spider</th>\n",
       "      <th>cuore</th>\n",
       "      <th>s_max</th>\n",
       "      <th>modus</th>\n",
       "      <th>x_reihe</th>\n",
       "      <th>viano</th>\n",
       "      <th>1_reihe</th>\n",
       "      <th>c4</th>\n",
       "      <th>avensis</th>\n",
       "      <th>sl</th>\n",
       "      <th>q5</th>\n",
       "      <th>kaefer</th>\n",
       "      <th>santa</th>\n",
       "      <th>sportage</th>\n",
       "      <th>a8</th>\n",
       "      <th>glk</th>\n",
       "      <th>primera</th>\n",
       "      <th>s_klasse</th>\n",
       "      <th>a2</th>\n",
       "      <th>scirocco</th>\n",
       "      <th>159</th>\n",
       "      <th>qashqai</th>\n",
       "      <th>carisma</th>\n",
       "      <th>accord</th>\n",
       "      <th>phaeton</th>\n",
       "      <th>cordoba</th>\n",
       "      <th>verso</th>\n",
       "      <th>swift</th>\n",
       "      <th>rav</th>\n",
       "      <th>kuga</th>\n",
       "      <th>picanto</th>\n",
       "      <th>boxster</th>\n",
       "      <th>superb</th>\n",
       "      <th>stilo</th>\n",
       "      <th>alhambra</th>\n",
       "      <th>911</th>\n",
       "      <th>mx_reihe</th>\n",
       "      <th>m_reihe</th>\n",
       "      <th>transit</th>\n",
       "      <th>ypsilon</th>\n",
       "      <th>galant</th>\n",
       "      <th>justy</th>\n",
       "      <th>c3</th>\n",
       "      <th>agila</th>\n",
       "      <th>duster</th>\n",
       "      <th>4_reihe</th>\n",
       "      <th>v50</th>\n",
       "      <th>c_reihe</th>\n",
       "      <th>v_klasse</th>\n",
       "      <th>rio</th>\n",
       "      <th>seicento</th>\n",
       "      <th>cc</th>\n",
       "      <th>carnival</th>\n",
       "      <th>forfour</th>\n",
       "      <th>sprinter</th>\n",
       "      <th>jazz</th>\n",
       "      <th>ptcruiser</th>\n",
       "      <th>q3</th>\n",
       "      <th>cr_reihe</th>\n",
       "      <th>xc_reihe</th>\n",
       "      <th>spark</th>\n",
       "      <th>v70</th>\n",
       "      <th>impreza</th>\n",
       "      <th>ducato</th>\n",
       "      <th>x_trail</th>\n",
       "      <th>toledo</th>\n",
       "      <th>altea</th>\n",
       "      <th>calibra</th>\n",
       "      <th>bravo</th>\n",
       "      <th>c5</th>\n",
       "      <th>ceed</th>\n",
       "      <th>q7</th>\n",
       "      <th>combo</th>\n",
       "      <th>s_type</th>\n",
       "      <th>captiva</th>\n",
       "      <th>fusion</th>\n",
       "      <th>cayenne</th>\n",
       "      <th>c2</th>\n",
       "      <th>range_rover_evoque</th>\n",
       "      <th>freelander</th>\n",
       "      <th>aygo</th>\n",
       "      <th>sandero</th>\n",
       "      <th>note</th>\n",
       "      <th>mii</th>\n",
       "      <th>900</th>\n",
       "      <th>lancer</th>\n",
       "      <th>forester</th>\n",
       "      <th>601</th>\n",
       "      <th>pajero</th>\n",
       "      <th>cx_reihe</th>\n",
       "      <th>voyager</th>\n",
       "      <th>sirion</th>\n",
       "      <th>s60</th>\n",
       "      <th>clubman</th>\n",
       "      <th>vivaro</th>\n",
       "      <th>lanos</th>\n",
       "      <th>tucson</th>\n",
       "      <th>auris</th>\n",
       "      <th>cherokee</th>\n",
       "      <th>jimny</th>\n",
       "      <th>roomster</th>\n",
       "      <th>x_type</th>\n",
       "      <th>850</th>\n",
       "      <th>citigo</th>\n",
       "      <th>crossfire</th>\n",
       "      <th>juke</th>\n",
       "      <th>outlander</th>\n",
       "      <th>doblo</th>\n",
       "      <th>move</th>\n",
       "      <th>v60</th>\n",
       "      <th>145</th>\n",
       "      <th>6er</th>\n",
       "      <th>lybra</th>\n",
       "      <th>niva</th>\n",
       "      <th>antara</th>\n",
       "      <th>b_max</th>\n",
       "      <th>300c</th>\n",
       "      <th>kalos</th>\n",
       "      <th>exeo</th>\n",
       "      <th>discovery</th>\n",
       "      <th>aveo</th>\n",
       "      <th>range_rover_sport</th>\n",
       "      <th>nubira</th>\n",
       "      <th>croma</th>\n",
       "      <th>legacy</th>\n",
       "      <th>wrangler</th>\n",
       "      <th>navara</th>\n",
       "      <th>lodgy</th>\n",
       "      <th>amarok</th>\n",
       "      <th>g_klasse</th>\n",
       "      <th>defender</th>\n",
       "      <th>musa</th>\n",
       "      <th>Bayern</th>\n",
       "      <th>Nordrhein-Westfalen</th>\n",
       "      <th>Rheinland-Pfalz</th>\n",
       "      <th>Niedersachsen</th>\n",
       "      <th>Hessen</th>\n",
       "      <th>Sachsen-Anhalt</th>\n",
       "      <th>Baden-Württemberg</th>\n",
       "      <th>Sachsen</th>\n",
       "      <th>Berlin</th>\n",
       "      <th>Mecklenburg-Vorpommern</th>\n",
       "      <th>Hamburg</th>\n",
       "      <th>Schleswig-Holstein</th>\n",
       "      <th>Thüringen</th>\n",
       "      <th>Saarland</th>\n",
       "      <th>Brandenburg</th>\n",
       "      <th>Bremen</th>\n",
       "    </tr>\n",
       "  </thead>\n",
       "  <tbody>\n",
       "    <tr>\n",
       "      <th>0</th>\n",
       "      <td>0.0</td>\n",
       "      <td>0.0</td>\n",
       "      <td>163.0</td>\n",
       "      <td>125000.0</td>\n",
       "      <td>NaN</td>\n",
       "      <td>-1.0</td>\n",
       "      <td>0.0</td>\n",
       "      <td>-527.998727</td>\n",
       "      <td>1</td>\n",
       "      <td>0.0</td>\n",
       "      <td>0.0</td>\n",
       "      <td>0.0</td>\n",
       "      <td>0.0</td>\n",
       "      <td>0.0</td>\n",
       "      <td>0.0</td>\n",
       "      <td>1.0</td>\n",
       "      <td>0.0</td>\n",
       "      <td>0.0</td>\n",
       "      <td>0.0</td>\n",
       "      <td>0.0</td>\n",
       "      <td>0.0</td>\n",
       "      <td>0.0</td>\n",
       "      <td>0.0</td>\n",
       "      <td>0.0</td>\n",
       "      <td>0.0</td>\n",
       "      <td>0.0</td>\n",
       "      <td>0.0</td>\n",
       "      <td>0.0</td>\n",
       "      <td>0.0</td>\n",
       "      <td>0.0</td>\n",
       "      <td>0.0</td>\n",
       "      <td>0.0</td>\n",
       "      <td>0.0</td>\n",
       "      <td>0.0</td>\n",
       "      <td>0.0</td>\n",
       "      <td>0.0</td>\n",
       "      <td>0.0</td>\n",
       "      <td>0.0</td>\n",
       "      <td>0.0</td>\n",
       "      <td>0.0</td>\n",
       "      <td>0.0</td>\n",
       "      <td>0.0</td>\n",
       "      <td>0.0</td>\n",
       "      <td>0.0</td>\n",
       "      <td>0.0</td>\n",
       "      <td>1.0</td>\n",
       "      <td>0.0</td>\n",
       "      <td>0.0</td>\n",
       "      <td>0.0</td>\n",
       "      <td>0.0</td>\n",
       "      <td>0.0</td>\n",
       "      <td>0.0</td>\n",
       "      <td>0.0</td>\n",
       "      <td>0.0</td>\n",
       "      <td>0.0</td>\n",
       "      <td>0.0</td>\n",
       "      <td>0.0</td>\n",
       "      <td>0.0</td>\n",
       "      <td>0.0</td>\n",
       "      <td>0.0</td>\n",
       "      <td>0.0</td>\n",
       "      <td>0.0</td>\n",
       "      <td>0.0</td>\n",
       "      <td>0.0</td>\n",
       "      <td>0.0</td>\n",
       "      <td>0.0</td>\n",
       "      <td>0.0</td>\n",
       "      <td>0.0</td>\n",
       "      <td>0.0</td>\n",
       "      <td>0.0</td>\n",
       "      <td>0.0</td>\n",
       "      <td>0.0</td>\n",
       "      <td>0.0</td>\n",
       "      <td>0.0</td>\n",
       "      <td>0.0</td>\n",
       "      <td>0.0</td>\n",
       "      <td>0.0</td>\n",
       "      <td>0.0</td>\n",
       "      <td>0.0</td>\n",
       "      <td>0.0</td>\n",
       "      <td>0.0</td>\n",
       "      <td>0.0</td>\n",
       "      <td>0.0</td>\n",
       "      <td>0.0</td>\n",
       "      <td>0.0</td>\n",
       "      <td>0.0</td>\n",
       "      <td>0.0</td>\n",
       "      <td>0.0</td>\n",
       "      <td>0.0</td>\n",
       "      <td>0.0</td>\n",
       "      <td>0.0</td>\n",
       "      <td>0.0</td>\n",
       "      <td>0.0</td>\n",
       "      <td>0.0</td>\n",
       "      <td>0.0</td>\n",
       "      <td>0.0</td>\n",
       "      <td>0.0</td>\n",
       "      <td>0.0</td>\n",
       "      <td>0.0</td>\n",
       "      <td>0.0</td>\n",
       "      <td>0.0</td>\n",
       "      <td>0.0</td>\n",
       "      <td>0.0</td>\n",
       "      <td>0.0</td>\n",
       "      <td>0.0</td>\n",
       "      <td>0.0</td>\n",
       "      <td>0.0</td>\n",
       "      <td>0.0</td>\n",
       "      <td>0.0</td>\n",
       "      <td>0.0</td>\n",
       "      <td>0.0</td>\n",
       "      <td>0.0</td>\n",
       "      <td>0.0</td>\n",
       "      <td>0.0</td>\n",
       "      <td>0.0</td>\n",
       "      <td>0.0</td>\n",
       "      <td>0.0</td>\n",
       "      <td>0.0</td>\n",
       "      <td>0.0</td>\n",
       "      <td>0.0</td>\n",
       "      <td>0.0</td>\n",
       "      <td>0.0</td>\n",
       "      <td>0.0</td>\n",
       "      <td>0.0</td>\n",
       "      <td>0.0</td>\n",
       "      <td>0.0</td>\n",
       "      <td>0.0</td>\n",
       "      <td>0.0</td>\n",
       "      <td>0.0</td>\n",
       "      <td>0.0</td>\n",
       "      <td>0.0</td>\n",
       "      <td>0.0</td>\n",
       "      <td>0.0</td>\n",
       "      <td>0.0</td>\n",
       "      <td>0.0</td>\n",
       "      <td>0.0</td>\n",
       "      <td>0.0</td>\n",
       "      <td>0.0</td>\n",
       "      <td>0.0</td>\n",
       "      <td>0.0</td>\n",
       "      <td>0.0</td>\n",
       "      <td>0.0</td>\n",
       "      <td>0.0</td>\n",
       "      <td>0.0</td>\n",
       "      <td>0.0</td>\n",
       "      <td>0.0</td>\n",
       "      <td>0.0</td>\n",
       "      <td>0.0</td>\n",
       "      <td>0.0</td>\n",
       "      <td>0.0</td>\n",
       "      <td>0.0</td>\n",
       "      <td>0.0</td>\n",
       "      <td>0.0</td>\n",
       "      <td>0.0</td>\n",
       "      <td>0.0</td>\n",
       "      <td>0.0</td>\n",
       "      <td>0.0</td>\n",
       "      <td>0.0</td>\n",
       "      <td>0.0</td>\n",
       "      <td>0.0</td>\n",
       "      <td>0.0</td>\n",
       "      <td>0.0</td>\n",
       "      <td>0.0</td>\n",
       "      <td>0.0</td>\n",
       "      <td>0.0</td>\n",
       "      <td>0.0</td>\n",
       "      <td>0.0</td>\n",
       "      <td>0.0</td>\n",
       "      <td>0.0</td>\n",
       "      <td>0.0</td>\n",
       "      <td>0.0</td>\n",
       "      <td>0.0</td>\n",
       "      <td>0.0</td>\n",
       "      <td>0.0</td>\n",
       "      <td>0.0</td>\n",
       "      <td>0.0</td>\n",
       "      <td>0.0</td>\n",
       "      <td>0.0</td>\n",
       "      <td>0.0</td>\n",
       "      <td>0.0</td>\n",
       "      <td>0.0</td>\n",
       "      <td>0.0</td>\n",
       "      <td>0.0</td>\n",
       "      <td>0.0</td>\n",
       "      <td>0.0</td>\n",
       "      <td>0.0</td>\n",
       "      <td>0.0</td>\n",
       "      <td>0.0</td>\n",
       "      <td>0.0</td>\n",
       "      <td>1.0</td>\n",
       "      <td>0.0</td>\n",
       "      <td>0.0</td>\n",
       "      <td>0.0</td>\n",
       "      <td>0.0</td>\n",
       "      <td>0.0</td>\n",
       "      <td>0.0</td>\n",
       "      <td>0.0</td>\n",
       "      <td>0.0</td>\n",
       "      <td>0.0</td>\n",
       "      <td>0.0</td>\n",
       "      <td>0.0</td>\n",
       "      <td>0.0</td>\n",
       "      <td>0.0</td>\n",
       "      <td>0.0</td>\n",
       "      <td>0.0</td>\n",
       "      <td>0.0</td>\n",
       "      <td>0.0</td>\n",
       "      <td>0.0</td>\n",
       "      <td>0.0</td>\n",
       "      <td>0.0</td>\n",
       "      <td>0.0</td>\n",
       "      <td>0.0</td>\n",
       "      <td>0.0</td>\n",
       "      <td>0.0</td>\n",
       "      <td>0.0</td>\n",
       "      <td>0.0</td>\n",
       "      <td>0.0</td>\n",
       "      <td>0.0</td>\n",
       "      <td>0.0</td>\n",
       "      <td>0.0</td>\n",
       "      <td>0.0</td>\n",
       "      <td>0.0</td>\n",
       "      <td>0.0</td>\n",
       "      <td>0.0</td>\n",
       "      <td>0.0</td>\n",
       "      <td>0.0</td>\n",
       "      <td>0.0</td>\n",
       "      <td>0.0</td>\n",
       "      <td>0.0</td>\n",
       "      <td>0.0</td>\n",
       "      <td>0.0</td>\n",
       "      <td>0.0</td>\n",
       "      <td>0.0</td>\n",
       "      <td>0.0</td>\n",
       "      <td>0.0</td>\n",
       "      <td>0.0</td>\n",
       "      <td>0.0</td>\n",
       "      <td>0.0</td>\n",
       "      <td>0.0</td>\n",
       "      <td>0.0</td>\n",
       "      <td>0.0</td>\n",
       "      <td>0.0</td>\n",
       "      <td>0.0</td>\n",
       "      <td>0.0</td>\n",
       "      <td>0.0</td>\n",
       "      <td>0.0</td>\n",
       "      <td>0.0</td>\n",
       "      <td>0.0</td>\n",
       "      <td>0.0</td>\n",
       "      <td>0.0</td>\n",
       "      <td>0.0</td>\n",
       "      <td>0.0</td>\n",
       "      <td>0.0</td>\n",
       "      <td>0.0</td>\n",
       "      <td>0.0</td>\n",
       "      <td>0.0</td>\n",
       "      <td>0.0</td>\n",
       "      <td>0.0</td>\n",
       "      <td>0.0</td>\n",
       "      <td>0.0</td>\n",
       "      <td>0.0</td>\n",
       "      <td>0.0</td>\n",
       "      <td>0.0</td>\n",
       "      <td>0.0</td>\n",
       "      <td>0.0</td>\n",
       "      <td>0.0</td>\n",
       "      <td>0.0</td>\n",
       "      <td>0.0</td>\n",
       "      <td>0.0</td>\n",
       "      <td>0.0</td>\n",
       "      <td>0.0</td>\n",
       "      <td>0.0</td>\n",
       "      <td>0.0</td>\n",
       "      <td>0.0</td>\n",
       "      <td>0.0</td>\n",
       "      <td>0.0</td>\n",
       "      <td>0.0</td>\n",
       "      <td>0.0</td>\n",
       "      <td>0.0</td>\n",
       "      <td>0.0</td>\n",
       "      <td>0.0</td>\n",
       "      <td>0.0</td>\n",
       "      <td>0.0</td>\n",
       "      <td>0.0</td>\n",
       "      <td>0.0</td>\n",
       "      <td>0.0</td>\n",
       "      <td>0.0</td>\n",
       "      <td>0.0</td>\n",
       "      <td>0.0</td>\n",
       "      <td>0.0</td>\n",
       "      <td>0.0</td>\n",
       "      <td>0.0</td>\n",
       "      <td>0.0</td>\n",
       "      <td>0.0</td>\n",
       "      <td>0.0</td>\n",
       "      <td>0.0</td>\n",
       "      <td>0.0</td>\n",
       "      <td>0.0</td>\n",
       "      <td>0.0</td>\n",
       "      <td>0.0</td>\n",
       "      <td>0.0</td>\n",
       "      <td>0.0</td>\n",
       "      <td>0.0</td>\n",
       "      <td>0.0</td>\n",
       "      <td>0.0</td>\n",
       "      <td>0.0</td>\n",
       "      <td>1.0</td>\n",
       "      <td>0.0</td>\n",
       "      <td>0.0</td>\n",
       "      <td>0.0</td>\n",
       "      <td>0.0</td>\n",
       "      <td>0.0</td>\n",
       "      <td>0.0</td>\n",
       "      <td>0.0</td>\n",
       "      <td>1.0</td>\n",
       "      <td>0.0</td>\n",
       "      <td>0.0</td>\n",
       "      <td>0.0</td>\n",
       "      <td>0.0</td>\n",
       "      <td>0.0</td>\n",
       "      <td>0.0</td>\n",
       "      <td>0.0</td>\n",
       "      <td>0.0</td>\n",
       "      <td>0.0</td>\n",
       "      <td>0.0</td>\n",
       "      <td>0.0</td>\n",
       "      <td>0.0</td>\n",
       "      <td>0.0</td>\n",
       "      <td>0.0</td>\n",
       "      <td>0.0</td>\n",
       "      <td>0.0</td>\n",
       "      <td>0.0</td>\n",
       "      <td>0.0</td>\n",
       "      <td>0.0</td>\n",
       "      <td>0.0</td>\n",
       "      <td>0.0</td>\n",
       "      <td>0.0</td>\n",
       "      <td>0.0</td>\n",
       "      <td>0.0</td>\n",
       "      <td>0.0</td>\n",
       "      <td>0.0</td>\n",
       "      <td>0.0</td>\n",
       "      <td>0.0</td>\n",
       "      <td>0.0</td>\n",
       "      <td>0.0</td>\n",
       "      <td>0.0</td>\n",
       "      <td>0.0</td>\n",
       "      <td>0.0</td>\n",
       "      <td>0.0</td>\n",
       "      <td>0.0</td>\n",
       "      <td>0.0</td>\n",
       "      <td>0.0</td>\n",
       "      <td>0.0</td>\n",
       "      <td>0.0</td>\n",
       "      <td>4243.0</td>\n",
       "      <td>0.0</td>\n",
       "      <td>0.0</td>\n",
       "      <td>0.0</td>\n",
       "      <td>0.0</td>\n",
       "      <td>0.0</td>\n",
       "      <td>0.0</td>\n",
       "      <td>0.0</td>\n",
       "      <td>0.0</td>\n",
       "      <td>0.0</td>\n",
       "      <td>0.0</td>\n",
       "      <td>0.0</td>\n",
       "      <td>0.0</td>\n",
       "      <td>0.0</td>\n",
       "      <td>0.0</td>\n",
       "      <td>0.0</td>\n",
       "      <td>0.0</td>\n",
       "      <td>0.0</td>\n",
       "      <td>0.0</td>\n",
       "      <td>0.0</td>\n",
       "      <td>0.0</td>\n",
       "      <td>0.0</td>\n",
       "      <td>0.0</td>\n",
       "      <td>0.0</td>\n",
       "      <td>0.0</td>\n",
       "      <td>0.0</td>\n",
       "      <td>0.0</td>\n",
       "      <td>0.0</td>\n",
       "      <td>0.0</td>\n",
       "      <td>0.0</td>\n",
       "      <td>0.0</td>\n",
       "      <td>0.0</td>\n",
       "      <td>0.0</td>\n",
       "      <td>0.0</td>\n",
       "      <td>0.0</td>\n",
       "      <td>0.0</td>\n",
       "      <td>0.0</td>\n",
       "      <td>0.0</td>\n",
       "      <td>0.0</td>\n",
       "      <td>0.0</td>\n",
       "      <td>0.0</td>\n",
       "      <td>0.0</td>\n",
       "      <td>0.0</td>\n",
       "      <td>0.0</td>\n",
       "      <td>0.0</td>\n",
       "      <td>0.0</td>\n",
       "      <td>0.0</td>\n",
       "      <td>0.0</td>\n",
       "      <td>0.0</td>\n",
       "      <td>0.0</td>\n",
       "      <td>0.0</td>\n",
       "      <td>0.0</td>\n",
       "      <td>0.0</td>\n",
       "      <td>0.0</td>\n",
       "      <td>0.0</td>\n",
       "      <td>0.0</td>\n",
       "      <td>0.0</td>\n",
       "      <td>0.0</td>\n",
       "      <td>0.0</td>\n",
       "      <td>0.0</td>\n",
       "      <td>0.0</td>\n",
       "      <td>0.0</td>\n",
       "      <td>0.0</td>\n",
       "      <td>0.0</td>\n",
       "      <td>0.0</td>\n",
       "      <td>0.0</td>\n",
       "      <td>0.0</td>\n",
       "      <td>0.0</td>\n",
       "      <td>0.0</td>\n",
       "      <td>0.0</td>\n",
       "      <td>0.0</td>\n",
       "      <td>0.0</td>\n",
       "      <td>0.0</td>\n",
       "      <td>0.0</td>\n",
       "      <td>0.0</td>\n",
       "      <td>0.0</td>\n",
       "      <td>0.0</td>\n",
       "      <td>0.0</td>\n",
       "      <td>0.0</td>\n",
       "      <td>0.0</td>\n",
       "      <td>0.0</td>\n",
       "      <td>0.0</td>\n",
       "      <td>0.0</td>\n",
       "      <td>0.0</td>\n",
       "      <td>0.0</td>\n",
       "      <td>0.0</td>\n",
       "      <td>0.0</td>\n",
       "      <td>0.0</td>\n",
       "      <td>0.0</td>\n",
       "      <td>0.0</td>\n",
       "      <td>0.0</td>\n",
       "      <td>0.0</td>\n",
       "      <td>0.0</td>\n",
       "      <td>0.0</td>\n",
       "      <td>0.0</td>\n",
       "      <td>0.0</td>\n",
       "      <td>0.0</td>\n",
       "      <td>0.0</td>\n",
       "      <td>0.0</td>\n",
       "      <td>0.0</td>\n",
       "      <td>0.0</td>\n",
       "      <td>0.0</td>\n",
       "      <td>0.0</td>\n",
       "      <td>0.0</td>\n",
       "      <td>0.0</td>\n",
       "      <td>0.0</td>\n",
       "      <td>0.0</td>\n",
       "      <td>0.0</td>\n",
       "      <td>0.0</td>\n",
       "      <td>0.0</td>\n",
       "      <td>0.0</td>\n",
       "      <td>0.0</td>\n",
       "      <td>0.0</td>\n",
       "      <td>0.0</td>\n",
       "      <td>0.0</td>\n",
       "      <td>0.0</td>\n",
       "      <td>0.0</td>\n",
       "      <td>0.0</td>\n",
       "      <td>0.0</td>\n",
       "      <td>0.0</td>\n",
       "      <td>0.0</td>\n",
       "      <td>0.0</td>\n",
       "      <td>0.0</td>\n",
       "      <td>0.0</td>\n",
       "      <td>0.0</td>\n",
       "      <td>0.0</td>\n",
       "      <td>0.0</td>\n",
       "      <td>0.0</td>\n",
       "      <td>0.0</td>\n",
       "      <td>0.0</td>\n",
       "      <td>0.0</td>\n",
       "      <td>0.0</td>\n",
       "      <td>0.0</td>\n",
       "      <td>0.0</td>\n",
       "      <td>0.0</td>\n",
       "      <td>0.0</td>\n",
       "      <td>0.0</td>\n",
       "      <td>0.0</td>\n",
       "      <td>0.0</td>\n",
       "      <td>0.0</td>\n",
       "      <td>0.0</td>\n",
       "      <td>0.0</td>\n",
       "      <td>0.0</td>\n",
       "      <td>0.0</td>\n",
       "      <td>0.0</td>\n",
       "      <td>0.0</td>\n",
       "      <td>0.0</td>\n",
       "      <td>0.0</td>\n",
       "      <td>0.0</td>\n",
       "      <td>0.0</td>\n",
       "      <td>0.0</td>\n",
       "      <td>0.0</td>\n",
       "      <td>0.0</td>\n",
       "      <td>0.0</td>\n",
       "      <td>0.0</td>\n",
       "      <td>0.0</td>\n",
       "      <td>0.0</td>\n",
       "      <td>0.0</td>\n",
       "      <td>0.0</td>\n",
       "      <td>0.0</td>\n",
       "      <td>0.0</td>\n",
       "      <td>0.0</td>\n",
       "      <td>0.0</td>\n",
       "      <td>0.0</td>\n",
       "      <td>0.0</td>\n",
       "      <td>0.0</td>\n",
       "      <td>0.0</td>\n",
       "      <td>0.0</td>\n",
       "      <td>0.0</td>\n",
       "      <td>0.0</td>\n",
       "      <td>0.0</td>\n",
       "      <td>0.0</td>\n",
       "      <td>1.0</td>\n",
       "      <td>0.0</td>\n",
       "      <td>0.0</td>\n",
       "      <td>0.0</td>\n",
       "      <td>0.0</td>\n",
       "      <td>0.0</td>\n",
       "      <td>0.0</td>\n",
       "      <td>0.0</td>\n",
       "      <td>0.0</td>\n",
       "      <td>0.0</td>\n",
       "      <td>0.0</td>\n",
       "      <td>0.0</td>\n",
       "      <td>0.0</td>\n",
       "      <td>0.0</td>\n",
       "      <td>0.0</td>\n",
       "      <td>0.0</td>\n",
       "    </tr>\n",
       "    <tr>\n",
       "      <th>1</th>\n",
       "      <td>0.0</td>\n",
       "      <td>0.0</td>\n",
       "      <td>75.0</td>\n",
       "      <td>150000.0</td>\n",
       "      <td>0.0</td>\n",
       "      <td>-1.0</td>\n",
       "      <td>0.0</td>\n",
       "      <td>-23.612838</td>\n",
       "      <td>0</td>\n",
       "      <td>0.0</td>\n",
       "      <td>0.0</td>\n",
       "      <td>1.0</td>\n",
       "      <td>0.0</td>\n",
       "      <td>0.0</td>\n",
       "      <td>0.0</td>\n",
       "      <td>0.0</td>\n",
       "      <td>0.0</td>\n",
       "      <td>0.0</td>\n",
       "      <td>0.0</td>\n",
       "      <td>0.0</td>\n",
       "      <td>0.0</td>\n",
       "      <td>0.0</td>\n",
       "      <td>0.0</td>\n",
       "      <td>0.0</td>\n",
       "      <td>0.0</td>\n",
       "      <td>0.0</td>\n",
       "      <td>0.0</td>\n",
       "      <td>0.0</td>\n",
       "      <td>0.0</td>\n",
       "      <td>0.0</td>\n",
       "      <td>0.0</td>\n",
       "      <td>0.0</td>\n",
       "      <td>0.0</td>\n",
       "      <td>0.0</td>\n",
       "      <td>0.0</td>\n",
       "      <td>0.0</td>\n",
       "      <td>0.0</td>\n",
       "      <td>0.0</td>\n",
       "      <td>0.0</td>\n",
       "      <td>0.0</td>\n",
       "      <td>0.0</td>\n",
       "      <td>0.0</td>\n",
       "      <td>0.0</td>\n",
       "      <td>0.0</td>\n",
       "      <td>0.0</td>\n",
       "      <td>0.0</td>\n",
       "      <td>0.0</td>\n",
       "      <td>0.0</td>\n",
       "      <td>0.0</td>\n",
       "      <td>0.0</td>\n",
       "      <td>0.0</td>\n",
       "      <td>0.0</td>\n",
       "      <td>0.0</td>\n",
       "      <td>0.0</td>\n",
       "      <td>0.0</td>\n",
       "      <td>0.0</td>\n",
       "      <td>0.0</td>\n",
       "      <td>0.0</td>\n",
       "      <td>0.0</td>\n",
       "      <td>0.0</td>\n",
       "      <td>0.0</td>\n",
       "      <td>0.0</td>\n",
       "      <td>0.0</td>\n",
       "      <td>0.0</td>\n",
       "      <td>0.0</td>\n",
       "      <td>0.0</td>\n",
       "      <td>0.0</td>\n",
       "      <td>0.0</td>\n",
       "      <td>0.0</td>\n",
       "      <td>0.0</td>\n",
       "      <td>0.0</td>\n",
       "      <td>0.0</td>\n",
       "      <td>0.0</td>\n",
       "      <td>0.0</td>\n",
       "      <td>0.0</td>\n",
       "      <td>0.0</td>\n",
       "      <td>0.0</td>\n",
       "      <td>0.0</td>\n",
       "      <td>0.0</td>\n",
       "      <td>0.0</td>\n",
       "      <td>0.0</td>\n",
       "      <td>0.0</td>\n",
       "      <td>0.0</td>\n",
       "      <td>0.0</td>\n",
       "      <td>0.0</td>\n",
       "      <td>0.0</td>\n",
       "      <td>0.0</td>\n",
       "      <td>0.0</td>\n",
       "      <td>0.0</td>\n",
       "      <td>0.0</td>\n",
       "      <td>0.0</td>\n",
       "      <td>0.0</td>\n",
       "      <td>0.0</td>\n",
       "      <td>0.0</td>\n",
       "      <td>0.0</td>\n",
       "      <td>0.0</td>\n",
       "      <td>0.0</td>\n",
       "      <td>0.0</td>\n",
       "      <td>0.0</td>\n",
       "      <td>0.0</td>\n",
       "      <td>0.0</td>\n",
       "      <td>0.0</td>\n",
       "      <td>0.0</td>\n",
       "      <td>0.0</td>\n",
       "      <td>0.0</td>\n",
       "      <td>0.0</td>\n",
       "      <td>0.0</td>\n",
       "      <td>0.0</td>\n",
       "      <td>0.0</td>\n",
       "      <td>0.0</td>\n",
       "      <td>0.0</td>\n",
       "      <td>0.0</td>\n",
       "      <td>0.0</td>\n",
       "      <td>0.0</td>\n",
       "      <td>0.0</td>\n",
       "      <td>0.0</td>\n",
       "      <td>0.0</td>\n",
       "      <td>0.0</td>\n",
       "      <td>0.0</td>\n",
       "      <td>0.0</td>\n",
       "      <td>0.0</td>\n",
       "      <td>0.0</td>\n",
       "      <td>0.0</td>\n",
       "      <td>0.0</td>\n",
       "      <td>0.0</td>\n",
       "      <td>0.0</td>\n",
       "      <td>0.0</td>\n",
       "      <td>0.0</td>\n",
       "      <td>0.0</td>\n",
       "      <td>0.0</td>\n",
       "      <td>0.0</td>\n",
       "      <td>0.0</td>\n",
       "      <td>0.0</td>\n",
       "      <td>0.0</td>\n",
       "      <td>0.0</td>\n",
       "      <td>0.0</td>\n",
       "      <td>0.0</td>\n",
       "      <td>0.0</td>\n",
       "      <td>0.0</td>\n",
       "      <td>0.0</td>\n",
       "      <td>0.0</td>\n",
       "      <td>0.0</td>\n",
       "      <td>0.0</td>\n",
       "      <td>0.0</td>\n",
       "      <td>0.0</td>\n",
       "      <td>0.0</td>\n",
       "      <td>0.0</td>\n",
       "      <td>0.0</td>\n",
       "      <td>0.0</td>\n",
       "      <td>0.0</td>\n",
       "      <td>0.0</td>\n",
       "      <td>0.0</td>\n",
       "      <td>0.0</td>\n",
       "      <td>0.0</td>\n",
       "      <td>0.0</td>\n",
       "      <td>0.0</td>\n",
       "      <td>0.0</td>\n",
       "      <td>0.0</td>\n",
       "      <td>0.0</td>\n",
       "      <td>0.0</td>\n",
       "      <td>0.0</td>\n",
       "      <td>0.0</td>\n",
       "      <td>0.0</td>\n",
       "      <td>0.0</td>\n",
       "      <td>0.0</td>\n",
       "      <td>0.0</td>\n",
       "      <td>0.0</td>\n",
       "      <td>0.0</td>\n",
       "      <td>0.0</td>\n",
       "      <td>0.0</td>\n",
       "      <td>0.0</td>\n",
       "      <td>0.0</td>\n",
       "      <td>0.0</td>\n",
       "      <td>0.0</td>\n",
       "      <td>0.0</td>\n",
       "      <td>0.0</td>\n",
       "      <td>0.0</td>\n",
       "      <td>0.0</td>\n",
       "      <td>0.0</td>\n",
       "      <td>0.0</td>\n",
       "      <td>0.0</td>\n",
       "      <td>0.0</td>\n",
       "      <td>0.0</td>\n",
       "      <td>0.0</td>\n",
       "      <td>0.0</td>\n",
       "      <td>0.0</td>\n",
       "      <td>0.0</td>\n",
       "      <td>0.0</td>\n",
       "      <td>0.0</td>\n",
       "      <td>0.0</td>\n",
       "      <td>0.0</td>\n",
       "      <td>0.0</td>\n",
       "      <td>0.0</td>\n",
       "      <td>0.0</td>\n",
       "      <td>0.0</td>\n",
       "      <td>0.0</td>\n",
       "      <td>0.0</td>\n",
       "      <td>0.0</td>\n",
       "      <td>0.0</td>\n",
       "      <td>0.0</td>\n",
       "      <td>0.0</td>\n",
       "      <td>0.0</td>\n",
       "      <td>0.0</td>\n",
       "      <td>0.0</td>\n",
       "      <td>0.0</td>\n",
       "      <td>0.0</td>\n",
       "      <td>0.0</td>\n",
       "      <td>0.0</td>\n",
       "      <td>0.0</td>\n",
       "      <td>0.0</td>\n",
       "      <td>0.0</td>\n",
       "      <td>0.0</td>\n",
       "      <td>0.0</td>\n",
       "      <td>0.0</td>\n",
       "      <td>0.0</td>\n",
       "      <td>0.0</td>\n",
       "      <td>0.0</td>\n",
       "      <td>0.0</td>\n",
       "      <td>0.0</td>\n",
       "      <td>0.0</td>\n",
       "      <td>0.0</td>\n",
       "      <td>0.0</td>\n",
       "      <td>0.0</td>\n",
       "      <td>0.0</td>\n",
       "      <td>0.0</td>\n",
       "      <td>0.0</td>\n",
       "      <td>0.0</td>\n",
       "      <td>0.0</td>\n",
       "      <td>0.0</td>\n",
       "      <td>0.0</td>\n",
       "      <td>0.0</td>\n",
       "      <td>0.0</td>\n",
       "      <td>0.0</td>\n",
       "      <td>0.0</td>\n",
       "      <td>0.0</td>\n",
       "      <td>0.0</td>\n",
       "      <td>0.0</td>\n",
       "      <td>0.0</td>\n",
       "      <td>0.0</td>\n",
       "      <td>0.0</td>\n",
       "      <td>0.0</td>\n",
       "      <td>0.0</td>\n",
       "      <td>0.0</td>\n",
       "      <td>0.0</td>\n",
       "      <td>0.0</td>\n",
       "      <td>0.0</td>\n",
       "      <td>0.0</td>\n",
       "      <td>0.0</td>\n",
       "      <td>0.0</td>\n",
       "      <td>0.0</td>\n",
       "      <td>0.0</td>\n",
       "      <td>0.0</td>\n",
       "      <td>0.0</td>\n",
       "      <td>0.0</td>\n",
       "      <td>0.0</td>\n",
       "      <td>0.0</td>\n",
       "      <td>0.0</td>\n",
       "      <td>0.0</td>\n",
       "      <td>0.0</td>\n",
       "      <td>0.0</td>\n",
       "      <td>0.0</td>\n",
       "      <td>0.0</td>\n",
       "      <td>0.0</td>\n",
       "      <td>0.0</td>\n",
       "      <td>0.0</td>\n",
       "      <td>0.0</td>\n",
       "      <td>0.0</td>\n",
       "      <td>0.0</td>\n",
       "      <td>0.0</td>\n",
       "      <td>0.0</td>\n",
       "      <td>0.0</td>\n",
       "      <td>0.0</td>\n",
       "      <td>0.0</td>\n",
       "      <td>0.0</td>\n",
       "      <td>0.0</td>\n",
       "      <td>0.0</td>\n",
       "      <td>0.0</td>\n",
       "      <td>0.0</td>\n",
       "      <td>0.0</td>\n",
       "      <td>0.0</td>\n",
       "      <td>0.0</td>\n",
       "      <td>0.0</td>\n",
       "      <td>0.0</td>\n",
       "      <td>0.0</td>\n",
       "      <td>0.0</td>\n",
       "      <td>0.0</td>\n",
       "      <td>0.0</td>\n",
       "      <td>0.0</td>\n",
       "      <td>0.0</td>\n",
       "      <td>0.0</td>\n",
       "      <td>0.0</td>\n",
       "      <td>0.0</td>\n",
       "      <td>0.0</td>\n",
       "      <td>0.0</td>\n",
       "      <td>0.0</td>\n",
       "      <td>0.0</td>\n",
       "      <td>0.0</td>\n",
       "      <td>0.0</td>\n",
       "      <td>0.0</td>\n",
       "      <td>0.0</td>\n",
       "      <td>0.0</td>\n",
       "      <td>0.0</td>\n",
       "      <td>0.0</td>\n",
       "      <td>0.0</td>\n",
       "      <td>0.0</td>\n",
       "      <td>0.0</td>\n",
       "      <td>0.0</td>\n",
       "      <td>1.0</td>\n",
       "      <td>0.0</td>\n",
       "      <td>0.0</td>\n",
       "      <td>1.0</td>\n",
       "      <td>0.0</td>\n",
       "      <td>0.0</td>\n",
       "      <td>0.0</td>\n",
       "      <td>0.0</td>\n",
       "      <td>1.0</td>\n",
       "      <td>0.0</td>\n",
       "      <td>0.0</td>\n",
       "      <td>0.0</td>\n",
       "      <td>0.0</td>\n",
       "      <td>0.0</td>\n",
       "      <td>0.0</td>\n",
       "      <td>0.0</td>\n",
       "      <td>0.0</td>\n",
       "      <td>0.0</td>\n",
       "      <td>0.0</td>\n",
       "      <td>0.0</td>\n",
       "      <td>0.0</td>\n",
       "      <td>0.0</td>\n",
       "      <td>0.0</td>\n",
       "      <td>0.0</td>\n",
       "      <td>0.0</td>\n",
       "      <td>0.0</td>\n",
       "      <td>0.0</td>\n",
       "      <td>0.0</td>\n",
       "      <td>0.0</td>\n",
       "      <td>0.0</td>\n",
       "      <td>0.0</td>\n",
       "      <td>0.0</td>\n",
       "      <td>0.0</td>\n",
       "      <td>0.0</td>\n",
       "      <td>0.0</td>\n",
       "      <td>0.0</td>\n",
       "      <td>0.0</td>\n",
       "      <td>0.0</td>\n",
       "      <td>0.0</td>\n",
       "      <td>0.0</td>\n",
       "      <td>0.0</td>\n",
       "      <td>0.0</td>\n",
       "      <td>0.0</td>\n",
       "      <td>0.0</td>\n",
       "      <td>0.0</td>\n",
       "      <td>0.0</td>\n",
       "      <td>0.0</td>\n",
       "      <td>5403.0</td>\n",
       "      <td>1.0</td>\n",
       "      <td>0.0</td>\n",
       "      <td>0.0</td>\n",
       "      <td>0.0</td>\n",
       "      <td>0.0</td>\n",
       "      <td>0.0</td>\n",
       "      <td>0.0</td>\n",
       "      <td>0.0</td>\n",
       "      <td>0.0</td>\n",
       "      <td>0.0</td>\n",
       "      <td>0.0</td>\n",
       "      <td>0.0</td>\n",
       "      <td>0.0</td>\n",
       "      <td>0.0</td>\n",
       "      <td>0.0</td>\n",
       "      <td>0.0</td>\n",
       "      <td>0.0</td>\n",
       "      <td>0.0</td>\n",
       "      <td>0.0</td>\n",
       "      <td>0.0</td>\n",
       "      <td>0.0</td>\n",
       "      <td>0.0</td>\n",
       "      <td>0.0</td>\n",
       "      <td>0.0</td>\n",
       "      <td>0.0</td>\n",
       "      <td>0.0</td>\n",
       "      <td>0.0</td>\n",
       "      <td>0.0</td>\n",
       "      <td>0.0</td>\n",
       "      <td>0.0</td>\n",
       "      <td>0.0</td>\n",
       "      <td>0.0</td>\n",
       "      <td>0.0</td>\n",
       "      <td>0.0</td>\n",
       "      <td>0.0</td>\n",
       "      <td>0.0</td>\n",
       "      <td>0.0</td>\n",
       "      <td>0.0</td>\n",
       "      <td>0.0</td>\n",
       "      <td>0.0</td>\n",
       "      <td>0.0</td>\n",
       "      <td>0.0</td>\n",
       "      <td>0.0</td>\n",
       "      <td>0.0</td>\n",
       "      <td>0.0</td>\n",
       "      <td>0.0</td>\n",
       "      <td>0.0</td>\n",
       "      <td>0.0</td>\n",
       "      <td>0.0</td>\n",
       "      <td>0.0</td>\n",
       "      <td>0.0</td>\n",
       "      <td>0.0</td>\n",
       "      <td>0.0</td>\n",
       "      <td>0.0</td>\n",
       "      <td>0.0</td>\n",
       "      <td>0.0</td>\n",
       "      <td>0.0</td>\n",
       "      <td>0.0</td>\n",
       "      <td>0.0</td>\n",
       "      <td>0.0</td>\n",
       "      <td>0.0</td>\n",
       "      <td>0.0</td>\n",
       "      <td>0.0</td>\n",
       "      <td>0.0</td>\n",
       "      <td>0.0</td>\n",
       "      <td>0.0</td>\n",
       "      <td>0.0</td>\n",
       "      <td>0.0</td>\n",
       "      <td>0.0</td>\n",
       "      <td>0.0</td>\n",
       "      <td>0.0</td>\n",
       "      <td>0.0</td>\n",
       "      <td>0.0</td>\n",
       "      <td>0.0</td>\n",
       "      <td>0.0</td>\n",
       "      <td>0.0</td>\n",
       "      <td>0.0</td>\n",
       "      <td>0.0</td>\n",
       "      <td>0.0</td>\n",
       "      <td>0.0</td>\n",
       "      <td>0.0</td>\n",
       "      <td>0.0</td>\n",
       "      <td>0.0</td>\n",
       "      <td>0.0</td>\n",
       "      <td>0.0</td>\n",
       "      <td>0.0</td>\n",
       "      <td>0.0</td>\n",
       "      <td>0.0</td>\n",
       "      <td>0.0</td>\n",
       "      <td>0.0</td>\n",
       "      <td>0.0</td>\n",
       "      <td>0.0</td>\n",
       "      <td>0.0</td>\n",
       "      <td>0.0</td>\n",
       "      <td>0.0</td>\n",
       "      <td>0.0</td>\n",
       "      <td>0.0</td>\n",
       "      <td>0.0</td>\n",
       "      <td>0.0</td>\n",
       "      <td>0.0</td>\n",
       "      <td>0.0</td>\n",
       "      <td>0.0</td>\n",
       "      <td>0.0</td>\n",
       "      <td>0.0</td>\n",
       "      <td>0.0</td>\n",
       "      <td>0.0</td>\n",
       "      <td>0.0</td>\n",
       "      <td>0.0</td>\n",
       "      <td>0.0</td>\n",
       "      <td>0.0</td>\n",
       "      <td>0.0</td>\n",
       "      <td>0.0</td>\n",
       "      <td>0.0</td>\n",
       "      <td>0.0</td>\n",
       "      <td>0.0</td>\n",
       "      <td>0.0</td>\n",
       "      <td>0.0</td>\n",
       "      <td>0.0</td>\n",
       "      <td>0.0</td>\n",
       "      <td>0.0</td>\n",
       "      <td>0.0</td>\n",
       "      <td>0.0</td>\n",
       "      <td>0.0</td>\n",
       "      <td>0.0</td>\n",
       "      <td>0.0</td>\n",
       "      <td>0.0</td>\n",
       "      <td>0.0</td>\n",
       "      <td>0.0</td>\n",
       "      <td>0.0</td>\n",
       "      <td>0.0</td>\n",
       "      <td>0.0</td>\n",
       "      <td>0.0</td>\n",
       "      <td>0.0</td>\n",
       "      <td>0.0</td>\n",
       "      <td>0.0</td>\n",
       "      <td>0.0</td>\n",
       "      <td>0.0</td>\n",
       "      <td>0.0</td>\n",
       "      <td>0.0</td>\n",
       "      <td>0.0</td>\n",
       "      <td>0.0</td>\n",
       "      <td>0.0</td>\n",
       "      <td>0.0</td>\n",
       "      <td>0.0</td>\n",
       "      <td>0.0</td>\n",
       "      <td>0.0</td>\n",
       "      <td>0.0</td>\n",
       "      <td>0.0</td>\n",
       "      <td>0.0</td>\n",
       "      <td>0.0</td>\n",
       "      <td>0.0</td>\n",
       "      <td>0.0</td>\n",
       "      <td>0.0</td>\n",
       "      <td>0.0</td>\n",
       "      <td>0.0</td>\n",
       "      <td>0.0</td>\n",
       "      <td>0.0</td>\n",
       "      <td>0.0</td>\n",
       "      <td>0.0</td>\n",
       "      <td>0.0</td>\n",
       "      <td>0.0</td>\n",
       "      <td>0.0</td>\n",
       "      <td>0.0</td>\n",
       "      <td>0.0</td>\n",
       "      <td>0.0</td>\n",
       "      <td>0.0</td>\n",
       "      <td>0.0</td>\n",
       "      <td>0.0</td>\n",
       "      <td>0.0</td>\n",
       "      <td>0.0</td>\n",
       "      <td>0.0</td>\n",
       "      <td>1.0</td>\n",
       "      <td>0.0</td>\n",
       "      <td>0.0</td>\n",
       "      <td>0.0</td>\n",
       "      <td>0.0</td>\n",
       "      <td>0.0</td>\n",
       "      <td>0.0</td>\n",
       "      <td>0.0</td>\n",
       "      <td>0.0</td>\n",
       "      <td>0.0</td>\n",
       "      <td>0.0</td>\n",
       "      <td>0.0</td>\n",
       "      <td>0.0</td>\n",
       "      <td>0.0</td>\n",
       "      <td>0.0</td>\n",
       "      <td>0.0</td>\n",
       "    </tr>\n",
       "    <tr>\n",
       "      <th>2</th>\n",
       "      <td>0.0</td>\n",
       "      <td>0.0</td>\n",
       "      <td>102.0</td>\n",
       "      <td>150000.0</td>\n",
       "      <td>1.0</td>\n",
       "      <td>-1.0</td>\n",
       "      <td>0.0</td>\n",
       "      <td>-71.627981</td>\n",
       "      <td>0</td>\n",
       "      <td>0.0</td>\n",
       "      <td>0.0</td>\n",
       "      <td>0.0</td>\n",
       "      <td>0.0</td>\n",
       "      <td>0.0</td>\n",
       "      <td>0.0</td>\n",
       "      <td>0.0</td>\n",
       "      <td>0.0</td>\n",
       "      <td>0.0</td>\n",
       "      <td>0.0</td>\n",
       "      <td>0.0</td>\n",
       "      <td>0.0</td>\n",
       "      <td>0.0</td>\n",
       "      <td>0.0</td>\n",
       "      <td>0.0</td>\n",
       "      <td>0.0</td>\n",
       "      <td>0.0</td>\n",
       "      <td>0.0</td>\n",
       "      <td>0.0</td>\n",
       "      <td>0.0</td>\n",
       "      <td>0.0</td>\n",
       "      <td>0.0</td>\n",
       "      <td>0.0</td>\n",
       "      <td>0.0</td>\n",
       "      <td>0.0</td>\n",
       "      <td>0.0</td>\n",
       "      <td>0.0</td>\n",
       "      <td>0.0</td>\n",
       "      <td>0.0</td>\n",
       "      <td>0.0</td>\n",
       "      <td>0.0</td>\n",
       "      <td>0.0</td>\n",
       "      <td>0.0</td>\n",
       "      <td>0.0</td>\n",
       "      <td>0.0</td>\n",
       "      <td>0.0</td>\n",
       "      <td>0.0</td>\n",
       "      <td>0.0</td>\n",
       "      <td>0.0</td>\n",
       "      <td>0.0</td>\n",
       "      <td>0.0</td>\n",
       "      <td>0.0</td>\n",
       "      <td>0.0</td>\n",
       "      <td>0.0</td>\n",
       "      <td>0.0</td>\n",
       "      <td>0.0</td>\n",
       "      <td>0.0</td>\n",
       "      <td>0.0</td>\n",
       "      <td>0.0</td>\n",
       "      <td>0.0</td>\n",
       "      <td>0.0</td>\n",
       "      <td>0.0</td>\n",
       "      <td>0.0</td>\n",
       "      <td>0.0</td>\n",
       "      <td>0.0</td>\n",
       "      <td>0.0</td>\n",
       "      <td>0.0</td>\n",
       "      <td>0.0</td>\n",
       "      <td>0.0</td>\n",
       "      <td>0.0</td>\n",
       "      <td>0.0</td>\n",
       "      <td>0.0</td>\n",
       "      <td>0.0</td>\n",
       "      <td>0.0</td>\n",
       "      <td>0.0</td>\n",
       "      <td>0.0</td>\n",
       "      <td>0.0</td>\n",
       "      <td>0.0</td>\n",
       "      <td>0.0</td>\n",
       "      <td>0.0</td>\n",
       "      <td>0.0</td>\n",
       "      <td>0.0</td>\n",
       "      <td>0.0</td>\n",
       "      <td>0.0</td>\n",
       "      <td>0.0</td>\n",
       "      <td>0.0</td>\n",
       "      <td>0.0</td>\n",
       "      <td>0.0</td>\n",
       "      <td>0.0</td>\n",
       "      <td>0.0</td>\n",
       "      <td>0.0</td>\n",
       "      <td>0.0</td>\n",
       "      <td>0.0</td>\n",
       "      <td>0.0</td>\n",
       "      <td>0.0</td>\n",
       "      <td>0.0</td>\n",
       "      <td>0.0</td>\n",
       "      <td>0.0</td>\n",
       "      <td>1.0</td>\n",
       "      <td>0.0</td>\n",
       "      <td>0.0</td>\n",
       "      <td>0.0</td>\n",
       "      <td>0.0</td>\n",
       "      <td>0.0</td>\n",
       "      <td>0.0</td>\n",
       "      <td>0.0</td>\n",
       "      <td>0.0</td>\n",
       "      <td>0.0</td>\n",
       "      <td>0.0</td>\n",
       "      <td>0.0</td>\n",
       "      <td>0.0</td>\n",
       "      <td>0.0</td>\n",
       "      <td>0.0</td>\n",
       "      <td>0.0</td>\n",
       "      <td>0.0</td>\n",
       "      <td>0.0</td>\n",
       "      <td>0.0</td>\n",
       "      <td>1.0</td>\n",
       "      <td>0.0</td>\n",
       "      <td>0.0</td>\n",
       "      <td>0.0</td>\n",
       "      <td>0.0</td>\n",
       "      <td>0.0</td>\n",
       "      <td>0.0</td>\n",
       "      <td>0.0</td>\n",
       "      <td>0.0</td>\n",
       "      <td>0.0</td>\n",
       "      <td>0.0</td>\n",
       "      <td>0.0</td>\n",
       "      <td>1.0</td>\n",
       "      <td>0.0</td>\n",
       "      <td>0.0</td>\n",
       "      <td>0.0</td>\n",
       "      <td>0.0</td>\n",
       "      <td>0.0</td>\n",
       "      <td>0.0</td>\n",
       "      <td>0.0</td>\n",
       "      <td>0.0</td>\n",
       "      <td>0.0</td>\n",
       "      <td>0.0</td>\n",
       "      <td>0.0</td>\n",
       "      <td>0.0</td>\n",
       "      <td>0.0</td>\n",
       "      <td>0.0</td>\n",
       "      <td>0.0</td>\n",
       "      <td>0.0</td>\n",
       "      <td>0.0</td>\n",
       "      <td>0.0</td>\n",
       "      <td>0.0</td>\n",
       "      <td>0.0</td>\n",
       "      <td>0.0</td>\n",
       "      <td>0.0</td>\n",
       "      <td>0.0</td>\n",
       "      <td>0.0</td>\n",
       "      <td>0.0</td>\n",
       "      <td>0.0</td>\n",
       "      <td>0.0</td>\n",
       "      <td>0.0</td>\n",
       "      <td>0.0</td>\n",
       "      <td>0.0</td>\n",
       "      <td>0.0</td>\n",
       "      <td>0.0</td>\n",
       "      <td>0.0</td>\n",
       "      <td>0.0</td>\n",
       "      <td>0.0</td>\n",
       "      <td>0.0</td>\n",
       "      <td>0.0</td>\n",
       "      <td>0.0</td>\n",
       "      <td>0.0</td>\n",
       "      <td>0.0</td>\n",
       "      <td>0.0</td>\n",
       "      <td>0.0</td>\n",
       "      <td>0.0</td>\n",
       "      <td>0.0</td>\n",
       "      <td>0.0</td>\n",
       "      <td>0.0</td>\n",
       "      <td>0.0</td>\n",
       "      <td>0.0</td>\n",
       "      <td>0.0</td>\n",
       "      <td>0.0</td>\n",
       "      <td>0.0</td>\n",
       "      <td>0.0</td>\n",
       "      <td>0.0</td>\n",
       "      <td>0.0</td>\n",
       "      <td>0.0</td>\n",
       "      <td>0.0</td>\n",
       "      <td>0.0</td>\n",
       "      <td>0.0</td>\n",
       "      <td>0.0</td>\n",
       "      <td>0.0</td>\n",
       "      <td>0.0</td>\n",
       "      <td>0.0</td>\n",
       "      <td>0.0</td>\n",
       "      <td>0.0</td>\n",
       "      <td>0.0</td>\n",
       "      <td>0.0</td>\n",
       "      <td>0.0</td>\n",
       "      <td>0.0</td>\n",
       "      <td>0.0</td>\n",
       "      <td>1.0</td>\n",
       "      <td>0.0</td>\n",
       "      <td>0.0</td>\n",
       "      <td>0.0</td>\n",
       "      <td>0.0</td>\n",
       "      <td>0.0</td>\n",
       "      <td>0.0</td>\n",
       "      <td>0.0</td>\n",
       "      <td>0.0</td>\n",
       "      <td>0.0</td>\n",
       "      <td>0.0</td>\n",
       "      <td>0.0</td>\n",
       "      <td>0.0</td>\n",
       "      <td>0.0</td>\n",
       "      <td>0.0</td>\n",
       "      <td>0.0</td>\n",
       "      <td>0.0</td>\n",
       "      <td>0.0</td>\n",
       "      <td>0.0</td>\n",
       "      <td>0.0</td>\n",
       "      <td>0.0</td>\n",
       "      <td>0.0</td>\n",
       "      <td>0.0</td>\n",
       "      <td>0.0</td>\n",
       "      <td>0.0</td>\n",
       "      <td>0.0</td>\n",
       "      <td>0.0</td>\n",
       "      <td>0.0</td>\n",
       "      <td>0.0</td>\n",
       "      <td>0.0</td>\n",
       "      <td>0.0</td>\n",
       "      <td>0.0</td>\n",
       "      <td>0.0</td>\n",
       "      <td>0.0</td>\n",
       "      <td>0.0</td>\n",
       "      <td>0.0</td>\n",
       "      <td>0.0</td>\n",
       "      <td>0.0</td>\n",
       "      <td>0.0</td>\n",
       "      <td>0.0</td>\n",
       "      <td>0.0</td>\n",
       "      <td>0.0</td>\n",
       "      <td>0.0</td>\n",
       "      <td>0.0</td>\n",
       "      <td>0.0</td>\n",
       "      <td>0.0</td>\n",
       "      <td>0.0</td>\n",
       "      <td>0.0</td>\n",
       "      <td>0.0</td>\n",
       "      <td>0.0</td>\n",
       "      <td>0.0</td>\n",
       "      <td>0.0</td>\n",
       "      <td>0.0</td>\n",
       "      <td>0.0</td>\n",
       "      <td>0.0</td>\n",
       "      <td>0.0</td>\n",
       "      <td>0.0</td>\n",
       "      <td>0.0</td>\n",
       "      <td>0.0</td>\n",
       "      <td>0.0</td>\n",
       "      <td>0.0</td>\n",
       "      <td>0.0</td>\n",
       "      <td>0.0</td>\n",
       "      <td>0.0</td>\n",
       "      <td>0.0</td>\n",
       "      <td>0.0</td>\n",
       "      <td>0.0</td>\n",
       "      <td>0.0</td>\n",
       "      <td>0.0</td>\n",
       "      <td>0.0</td>\n",
       "      <td>0.0</td>\n",
       "      <td>0.0</td>\n",
       "      <td>0.0</td>\n",
       "      <td>0.0</td>\n",
       "      <td>0.0</td>\n",
       "      <td>0.0</td>\n",
       "      <td>0.0</td>\n",
       "      <td>0.0</td>\n",
       "      <td>0.0</td>\n",
       "      <td>0.0</td>\n",
       "      <td>0.0</td>\n",
       "      <td>0.0</td>\n",
       "      <td>0.0</td>\n",
       "      <td>0.0</td>\n",
       "      <td>0.0</td>\n",
       "      <td>0.0</td>\n",
       "      <td>0.0</td>\n",
       "      <td>0.0</td>\n",
       "      <td>0.0</td>\n",
       "      <td>0.0</td>\n",
       "      <td>0.0</td>\n",
       "      <td>0.0</td>\n",
       "      <td>0.0</td>\n",
       "      <td>0.0</td>\n",
       "      <td>0.0</td>\n",
       "      <td>0.0</td>\n",
       "      <td>0.0</td>\n",
       "      <td>0.0</td>\n",
       "      <td>0.0</td>\n",
       "      <td>0.0</td>\n",
       "      <td>0.0</td>\n",
       "      <td>0.0</td>\n",
       "      <td>0.0</td>\n",
       "      <td>0.0</td>\n",
       "      <td>0.0</td>\n",
       "      <td>0.0</td>\n",
       "      <td>0.0</td>\n",
       "      <td>0.0</td>\n",
       "      <td>0.0</td>\n",
       "      <td>0.0</td>\n",
       "      <td>0.0</td>\n",
       "      <td>0.0</td>\n",
       "      <td>1.0</td>\n",
       "      <td>0.0</td>\n",
       "      <td>0.0</td>\n",
       "      <td>0.0</td>\n",
       "      <td>0.0</td>\n",
       "      <td>0.0</td>\n",
       "      <td>1.0</td>\n",
       "      <td>0.0</td>\n",
       "      <td>0.0</td>\n",
       "      <td>0.0</td>\n",
       "      <td>0.0</td>\n",
       "      <td>0.0</td>\n",
       "      <td>0.0</td>\n",
       "      <td>0.0</td>\n",
       "      <td>0.0</td>\n",
       "      <td>0.0</td>\n",
       "      <td>0.0</td>\n",
       "      <td>0.0</td>\n",
       "      <td>0.0</td>\n",
       "      <td>0.0</td>\n",
       "      <td>0.0</td>\n",
       "      <td>0.0</td>\n",
       "      <td>0.0</td>\n",
       "      <td>0.0</td>\n",
       "      <td>0.0</td>\n",
       "      <td>0.0</td>\n",
       "      <td>0.0</td>\n",
       "      <td>0.0</td>\n",
       "      <td>0.0</td>\n",
       "      <td>0.0</td>\n",
       "      <td>0.0</td>\n",
       "      <td>0.0</td>\n",
       "      <td>0.0</td>\n",
       "      <td>0.0</td>\n",
       "      <td>0.0</td>\n",
       "      <td>0.0</td>\n",
       "      <td>0.0</td>\n",
       "      <td>0.0</td>\n",
       "      <td>0.0</td>\n",
       "      <td>0.0</td>\n",
       "      <td>0.0</td>\n",
       "      <td>0.0</td>\n",
       "      <td>0.0</td>\n",
       "      <td>0.0</td>\n",
       "      <td>7491.0</td>\n",
       "      <td>1.0</td>\n",
       "      <td>1.0</td>\n",
       "      <td>0.0</td>\n",
       "      <td>0.0</td>\n",
       "      <td>0.0</td>\n",
       "      <td>0.0</td>\n",
       "      <td>0.0</td>\n",
       "      <td>0.0</td>\n",
       "      <td>0.0</td>\n",
       "      <td>0.0</td>\n",
       "      <td>0.0</td>\n",
       "      <td>0.0</td>\n",
       "      <td>0.0</td>\n",
       "      <td>0.0</td>\n",
       "      <td>0.0</td>\n",
       "      <td>0.0</td>\n",
       "      <td>0.0</td>\n",
       "      <td>0.0</td>\n",
       "      <td>0.0</td>\n",
       "      <td>0.0</td>\n",
       "      <td>0.0</td>\n",
       "      <td>0.0</td>\n",
       "      <td>0.0</td>\n",
       "      <td>0.0</td>\n",
       "      <td>0.0</td>\n",
       "      <td>0.0</td>\n",
       "      <td>0.0</td>\n",
       "      <td>0.0</td>\n",
       "      <td>0.0</td>\n",
       "      <td>0.0</td>\n",
       "      <td>0.0</td>\n",
       "      <td>0.0</td>\n",
       "      <td>0.0</td>\n",
       "      <td>0.0</td>\n",
       "      <td>0.0</td>\n",
       "      <td>0.0</td>\n",
       "      <td>0.0</td>\n",
       "      <td>0.0</td>\n",
       "      <td>0.0</td>\n",
       "      <td>0.0</td>\n",
       "      <td>0.0</td>\n",
       "      <td>0.0</td>\n",
       "      <td>0.0</td>\n",
       "      <td>0.0</td>\n",
       "      <td>0.0</td>\n",
       "      <td>0.0</td>\n",
       "      <td>0.0</td>\n",
       "      <td>0.0</td>\n",
       "      <td>0.0</td>\n",
       "      <td>0.0</td>\n",
       "      <td>0.0</td>\n",
       "      <td>0.0</td>\n",
       "      <td>0.0</td>\n",
       "      <td>0.0</td>\n",
       "      <td>0.0</td>\n",
       "      <td>0.0</td>\n",
       "      <td>0.0</td>\n",
       "      <td>0.0</td>\n",
       "      <td>0.0</td>\n",
       "      <td>0.0</td>\n",
       "      <td>0.0</td>\n",
       "      <td>0.0</td>\n",
       "      <td>0.0</td>\n",
       "      <td>0.0</td>\n",
       "      <td>0.0</td>\n",
       "      <td>0.0</td>\n",
       "      <td>0.0</td>\n",
       "      <td>0.0</td>\n",
       "      <td>0.0</td>\n",
       "      <td>0.0</td>\n",
       "      <td>0.0</td>\n",
       "      <td>0.0</td>\n",
       "      <td>0.0</td>\n",
       "      <td>0.0</td>\n",
       "      <td>0.0</td>\n",
       "      <td>0.0</td>\n",
       "      <td>0.0</td>\n",
       "      <td>0.0</td>\n",
       "      <td>0.0</td>\n",
       "      <td>0.0</td>\n",
       "      <td>0.0</td>\n",
       "      <td>0.0</td>\n",
       "      <td>0.0</td>\n",
       "      <td>0.0</td>\n",
       "      <td>0.0</td>\n",
       "      <td>0.0</td>\n",
       "      <td>0.0</td>\n",
       "      <td>0.0</td>\n",
       "      <td>0.0</td>\n",
       "      <td>0.0</td>\n",
       "      <td>0.0</td>\n",
       "      <td>0.0</td>\n",
       "      <td>0.0</td>\n",
       "      <td>0.0</td>\n",
       "      <td>0.0</td>\n",
       "      <td>0.0</td>\n",
       "      <td>0.0</td>\n",
       "      <td>0.0</td>\n",
       "      <td>0.0</td>\n",
       "      <td>0.0</td>\n",
       "      <td>0.0</td>\n",
       "      <td>0.0</td>\n",
       "      <td>0.0</td>\n",
       "      <td>0.0</td>\n",
       "      <td>0.0</td>\n",
       "      <td>0.0</td>\n",
       "      <td>0.0</td>\n",
       "      <td>0.0</td>\n",
       "      <td>0.0</td>\n",
       "      <td>0.0</td>\n",
       "      <td>0.0</td>\n",
       "      <td>0.0</td>\n",
       "      <td>0.0</td>\n",
       "      <td>0.0</td>\n",
       "      <td>0.0</td>\n",
       "      <td>0.0</td>\n",
       "      <td>0.0</td>\n",
       "      <td>0.0</td>\n",
       "      <td>0.0</td>\n",
       "      <td>0.0</td>\n",
       "      <td>0.0</td>\n",
       "      <td>0.0</td>\n",
       "      <td>0.0</td>\n",
       "      <td>0.0</td>\n",
       "      <td>0.0</td>\n",
       "      <td>0.0</td>\n",
       "      <td>0.0</td>\n",
       "      <td>0.0</td>\n",
       "      <td>0.0</td>\n",
       "      <td>0.0</td>\n",
       "      <td>0.0</td>\n",
       "      <td>0.0</td>\n",
       "      <td>0.0</td>\n",
       "      <td>0.0</td>\n",
       "      <td>0.0</td>\n",
       "      <td>0.0</td>\n",
       "      <td>0.0</td>\n",
       "      <td>0.0</td>\n",
       "      <td>0.0</td>\n",
       "      <td>0.0</td>\n",
       "      <td>0.0</td>\n",
       "      <td>0.0</td>\n",
       "      <td>0.0</td>\n",
       "      <td>0.0</td>\n",
       "      <td>0.0</td>\n",
       "      <td>0.0</td>\n",
       "      <td>0.0</td>\n",
       "      <td>0.0</td>\n",
       "      <td>0.0</td>\n",
       "      <td>0.0</td>\n",
       "      <td>0.0</td>\n",
       "      <td>0.0</td>\n",
       "      <td>0.0</td>\n",
       "      <td>0.0</td>\n",
       "      <td>0.0</td>\n",
       "      <td>0.0</td>\n",
       "      <td>0.0</td>\n",
       "      <td>0.0</td>\n",
       "      <td>0.0</td>\n",
       "      <td>0.0</td>\n",
       "      <td>0.0</td>\n",
       "      <td>0.0</td>\n",
       "      <td>0.0</td>\n",
       "      <td>0.0</td>\n",
       "      <td>0.0</td>\n",
       "      <td>0.0</td>\n",
       "      <td>0.0</td>\n",
       "      <td>0.0</td>\n",
       "      <td>0.0</td>\n",
       "      <td>0.0</td>\n",
       "      <td>0.0</td>\n",
       "      <td>0.0</td>\n",
       "      <td>1.0</td>\n",
       "      <td>0.0</td>\n",
       "      <td>0.0</td>\n",
       "      <td>0.0</td>\n",
       "      <td>0.0</td>\n",
       "      <td>0.0</td>\n",
       "      <td>0.0</td>\n",
       "      <td>0.0</td>\n",
       "      <td>0.0</td>\n",
       "      <td>0.0</td>\n",
       "      <td>0.0</td>\n",
       "      <td>0.0</td>\n",
       "      <td>0.0</td>\n",
       "      <td>0.0</td>\n",
       "      <td>0.0</td>\n",
       "    </tr>\n",
       "    <tr>\n",
       "      <th>3</th>\n",
       "      <td>0.0</td>\n",
       "      <td>0.0</td>\n",
       "      <td>109.0</td>\n",
       "      <td>150000.0</td>\n",
       "      <td>0.0</td>\n",
       "      <td>-1.0</td>\n",
       "      <td>0.0</td>\n",
       "      <td>-95.958278</td>\n",
       "      <td>0</td>\n",
       "      <td>0.0</td>\n",
       "      <td>0.0</td>\n",
       "      <td>0.0</td>\n",
       "      <td>0.0</td>\n",
       "      <td>0.0</td>\n",
       "      <td>0.0</td>\n",
       "      <td>0.0</td>\n",
       "      <td>0.0</td>\n",
       "      <td>0.0</td>\n",
       "      <td>0.0</td>\n",
       "      <td>0.0</td>\n",
       "      <td>0.0</td>\n",
       "      <td>0.0</td>\n",
       "      <td>0.0</td>\n",
       "      <td>0.0</td>\n",
       "      <td>1.0</td>\n",
       "      <td>0.0</td>\n",
       "      <td>0.0</td>\n",
       "      <td>0.0</td>\n",
       "      <td>0.0</td>\n",
       "      <td>0.0</td>\n",
       "      <td>0.0</td>\n",
       "      <td>0.0</td>\n",
       "      <td>0.0</td>\n",
       "      <td>0.0</td>\n",
       "      <td>0.0</td>\n",
       "      <td>0.0</td>\n",
       "      <td>0.0</td>\n",
       "      <td>0.0</td>\n",
       "      <td>0.0</td>\n",
       "      <td>0.0</td>\n",
       "      <td>0.0</td>\n",
       "      <td>0.0</td>\n",
       "      <td>0.0</td>\n",
       "      <td>0.0</td>\n",
       "      <td>0.0</td>\n",
       "      <td>0.0</td>\n",
       "      <td>0.0</td>\n",
       "      <td>0.0</td>\n",
       "      <td>0.0</td>\n",
       "      <td>0.0</td>\n",
       "      <td>0.0</td>\n",
       "      <td>0.0</td>\n",
       "      <td>0.0</td>\n",
       "      <td>0.0</td>\n",
       "      <td>0.0</td>\n",
       "      <td>0.0</td>\n",
       "      <td>0.0</td>\n",
       "      <td>0.0</td>\n",
       "      <td>0.0</td>\n",
       "      <td>0.0</td>\n",
       "      <td>0.0</td>\n",
       "      <td>0.0</td>\n",
       "      <td>0.0</td>\n",
       "      <td>0.0</td>\n",
       "      <td>1.0</td>\n",
       "      <td>0.0</td>\n",
       "      <td>0.0</td>\n",
       "      <td>0.0</td>\n",
       "      <td>0.0</td>\n",
       "      <td>0.0</td>\n",
       "      <td>0.0</td>\n",
       "      <td>0.0</td>\n",
       "      <td>0.0</td>\n",
       "      <td>0.0</td>\n",
       "      <td>0.0</td>\n",
       "      <td>0.0</td>\n",
       "      <td>0.0</td>\n",
       "      <td>0.0</td>\n",
       "      <td>0.0</td>\n",
       "      <td>0.0</td>\n",
       "      <td>0.0</td>\n",
       "      <td>0.0</td>\n",
       "      <td>0.0</td>\n",
       "      <td>0.0</td>\n",
       "      <td>0.0</td>\n",
       "      <td>0.0</td>\n",
       "      <td>0.0</td>\n",
       "      <td>0.0</td>\n",
       "      <td>0.0</td>\n",
       "      <td>0.0</td>\n",
       "      <td>0.0</td>\n",
       "      <td>0.0</td>\n",
       "      <td>0.0</td>\n",
       "      <td>0.0</td>\n",
       "      <td>0.0</td>\n",
       "      <td>0.0</td>\n",
       "      <td>0.0</td>\n",
       "      <td>0.0</td>\n",
       "      <td>0.0</td>\n",
       "      <td>0.0</td>\n",
       "      <td>0.0</td>\n",
       "      <td>0.0</td>\n",
       "      <td>0.0</td>\n",
       "      <td>0.0</td>\n",
       "      <td>0.0</td>\n",
       "      <td>0.0</td>\n",
       "      <td>0.0</td>\n",
       "      <td>0.0</td>\n",
       "      <td>0.0</td>\n",
       "      <td>0.0</td>\n",
       "      <td>0.0</td>\n",
       "      <td>0.0</td>\n",
       "      <td>0.0</td>\n",
       "      <td>0.0</td>\n",
       "      <td>0.0</td>\n",
       "      <td>0.0</td>\n",
       "      <td>0.0</td>\n",
       "      <td>0.0</td>\n",
       "      <td>0.0</td>\n",
       "      <td>0.0</td>\n",
       "      <td>0.0</td>\n",
       "      <td>0.0</td>\n",
       "      <td>0.0</td>\n",
       "      <td>0.0</td>\n",
       "      <td>0.0</td>\n",
       "      <td>0.0</td>\n",
       "      <td>0.0</td>\n",
       "      <td>0.0</td>\n",
       "      <td>0.0</td>\n",
       "      <td>0.0</td>\n",
       "      <td>0.0</td>\n",
       "      <td>0.0</td>\n",
       "      <td>0.0</td>\n",
       "      <td>0.0</td>\n",
       "      <td>0.0</td>\n",
       "      <td>0.0</td>\n",
       "      <td>0.0</td>\n",
       "      <td>0.0</td>\n",
       "      <td>0.0</td>\n",
       "      <td>0.0</td>\n",
       "      <td>0.0</td>\n",
       "      <td>0.0</td>\n",
       "      <td>0.0</td>\n",
       "      <td>0.0</td>\n",
       "      <td>0.0</td>\n",
       "      <td>1.0</td>\n",
       "      <td>0.0</td>\n",
       "      <td>0.0</td>\n",
       "      <td>0.0</td>\n",
       "      <td>0.0</td>\n",
       "      <td>0.0</td>\n",
       "      <td>0.0</td>\n",
       "      <td>0.0</td>\n",
       "      <td>0.0</td>\n",
       "      <td>0.0</td>\n",
       "      <td>0.0</td>\n",
       "      <td>0.0</td>\n",
       "      <td>0.0</td>\n",
       "      <td>0.0</td>\n",
       "      <td>0.0</td>\n",
       "      <td>0.0</td>\n",
       "      <td>0.0</td>\n",
       "      <td>0.0</td>\n",
       "      <td>0.0</td>\n",
       "      <td>0.0</td>\n",
       "      <td>0.0</td>\n",
       "      <td>0.0</td>\n",
       "      <td>0.0</td>\n",
       "      <td>0.0</td>\n",
       "      <td>0.0</td>\n",
       "      <td>0.0</td>\n",
       "      <td>0.0</td>\n",
       "      <td>0.0</td>\n",
       "      <td>0.0</td>\n",
       "      <td>0.0</td>\n",
       "      <td>0.0</td>\n",
       "      <td>0.0</td>\n",
       "      <td>0.0</td>\n",
       "      <td>0.0</td>\n",
       "      <td>0.0</td>\n",
       "      <td>0.0</td>\n",
       "      <td>0.0</td>\n",
       "      <td>0.0</td>\n",
       "      <td>0.0</td>\n",
       "      <td>0.0</td>\n",
       "      <td>0.0</td>\n",
       "      <td>0.0</td>\n",
       "      <td>0.0</td>\n",
       "      <td>0.0</td>\n",
       "      <td>0.0</td>\n",
       "      <td>0.0</td>\n",
       "      <td>0.0</td>\n",
       "      <td>0.0</td>\n",
       "      <td>0.0</td>\n",
       "      <td>0.0</td>\n",
       "      <td>0.0</td>\n",
       "      <td>0.0</td>\n",
       "      <td>0.0</td>\n",
       "      <td>0.0</td>\n",
       "      <td>0.0</td>\n",
       "      <td>0.0</td>\n",
       "      <td>0.0</td>\n",
       "      <td>0.0</td>\n",
       "      <td>0.0</td>\n",
       "      <td>0.0</td>\n",
       "      <td>0.0</td>\n",
       "      <td>0.0</td>\n",
       "      <td>0.0</td>\n",
       "      <td>0.0</td>\n",
       "      <td>0.0</td>\n",
       "      <td>0.0</td>\n",
       "      <td>0.0</td>\n",
       "      <td>0.0</td>\n",
       "      <td>0.0</td>\n",
       "      <td>0.0</td>\n",
       "      <td>0.0</td>\n",
       "      <td>0.0</td>\n",
       "      <td>0.0</td>\n",
       "      <td>0.0</td>\n",
       "      <td>0.0</td>\n",
       "      <td>0.0</td>\n",
       "      <td>0.0</td>\n",
       "      <td>0.0</td>\n",
       "      <td>0.0</td>\n",
       "      <td>0.0</td>\n",
       "      <td>0.0</td>\n",
       "      <td>0.0</td>\n",
       "      <td>0.0</td>\n",
       "      <td>0.0</td>\n",
       "      <td>0.0</td>\n",
       "      <td>0.0</td>\n",
       "      <td>0.0</td>\n",
       "      <td>0.0</td>\n",
       "      <td>0.0</td>\n",
       "      <td>0.0</td>\n",
       "      <td>0.0</td>\n",
       "      <td>0.0</td>\n",
       "      <td>0.0</td>\n",
       "      <td>0.0</td>\n",
       "      <td>0.0</td>\n",
       "      <td>0.0</td>\n",
       "      <td>0.0</td>\n",
       "      <td>0.0</td>\n",
       "      <td>0.0</td>\n",
       "      <td>0.0</td>\n",
       "      <td>0.0</td>\n",
       "      <td>0.0</td>\n",
       "      <td>0.0</td>\n",
       "      <td>0.0</td>\n",
       "      <td>0.0</td>\n",
       "      <td>0.0</td>\n",
       "      <td>0.0</td>\n",
       "      <td>0.0</td>\n",
       "      <td>0.0</td>\n",
       "      <td>0.0</td>\n",
       "      <td>0.0</td>\n",
       "      <td>0.0</td>\n",
       "      <td>0.0</td>\n",
       "      <td>0.0</td>\n",
       "      <td>0.0</td>\n",
       "      <td>0.0</td>\n",
       "      <td>0.0</td>\n",
       "      <td>0.0</td>\n",
       "      <td>0.0</td>\n",
       "      <td>0.0</td>\n",
       "      <td>0.0</td>\n",
       "      <td>0.0</td>\n",
       "      <td>0.0</td>\n",
       "      <td>0.0</td>\n",
       "      <td>0.0</td>\n",
       "      <td>0.0</td>\n",
       "      <td>0.0</td>\n",
       "      <td>0.0</td>\n",
       "      <td>0.0</td>\n",
       "      <td>0.0</td>\n",
       "      <td>0.0</td>\n",
       "      <td>0.0</td>\n",
       "      <td>0.0</td>\n",
       "      <td>0.0</td>\n",
       "      <td>0.0</td>\n",
       "      <td>0.0</td>\n",
       "      <td>0.0</td>\n",
       "      <td>0.0</td>\n",
       "      <td>0.0</td>\n",
       "      <td>0.0</td>\n",
       "      <td>0.0</td>\n",
       "      <td>0.0</td>\n",
       "      <td>0.0</td>\n",
       "      <td>0.0</td>\n",
       "      <td>0.0</td>\n",
       "      <td>0.0</td>\n",
       "      <td>0.0</td>\n",
       "      <td>0.0</td>\n",
       "      <td>0.0</td>\n",
       "      <td>0.0</td>\n",
       "      <td>0.0</td>\n",
       "      <td>0.0</td>\n",
       "      <td>0.0</td>\n",
       "      <td>0.0</td>\n",
       "      <td>0.0</td>\n",
       "      <td>0.0</td>\n",
       "      <td>0.0</td>\n",
       "      <td>0.0</td>\n",
       "      <td>0.0</td>\n",
       "      <td>0.0</td>\n",
       "      <td>0.0</td>\n",
       "      <td>0.0</td>\n",
       "      <td>0.0</td>\n",
       "      <td>0.0</td>\n",
       "      <td>0.0</td>\n",
       "      <td>1.0</td>\n",
       "      <td>0.0</td>\n",
       "      <td>0.0</td>\n",
       "      <td>0.0</td>\n",
       "      <td>0.0</td>\n",
       "      <td>0.0</td>\n",
       "      <td>0.0</td>\n",
       "      <td>1.0</td>\n",
       "      <td>0.0</td>\n",
       "      <td>0.0</td>\n",
       "      <td>0.0</td>\n",
       "      <td>0.0</td>\n",
       "      <td>0.0</td>\n",
       "      <td>0.0</td>\n",
       "      <td>0.0</td>\n",
       "      <td>0.0</td>\n",
       "      <td>0.0</td>\n",
       "      <td>0.0</td>\n",
       "      <td>0.0</td>\n",
       "      <td>0.0</td>\n",
       "      <td>0.0</td>\n",
       "      <td>0.0</td>\n",
       "      <td>0.0</td>\n",
       "      <td>0.0</td>\n",
       "      <td>0.0</td>\n",
       "      <td>0.0</td>\n",
       "      <td>0.0</td>\n",
       "      <td>0.0</td>\n",
       "      <td>0.0</td>\n",
       "      <td>0.0</td>\n",
       "      <td>0.0</td>\n",
       "      <td>0.0</td>\n",
       "      <td>0.0</td>\n",
       "      <td>0.0</td>\n",
       "      <td>0.0</td>\n",
       "      <td>0.0</td>\n",
       "      <td>0.0</td>\n",
       "      <td>0.0</td>\n",
       "      <td>0.0</td>\n",
       "      <td>0.0</td>\n",
       "      <td>0.0</td>\n",
       "      <td>0.0</td>\n",
       "      <td>0.0</td>\n",
       "      <td>0.0</td>\n",
       "      <td>4261.0</td>\n",
       "      <td>1.0</td>\n",
       "      <td>0.0</td>\n",
       "      <td>1.0</td>\n",
       "      <td>0.0</td>\n",
       "      <td>0.0</td>\n",
       "      <td>0.0</td>\n",
       "      <td>0.0</td>\n",
       "      <td>0.0</td>\n",
       "      <td>0.0</td>\n",
       "      <td>0.0</td>\n",
       "      <td>0.0</td>\n",
       "      <td>0.0</td>\n",
       "      <td>0.0</td>\n",
       "      <td>0.0</td>\n",
       "      <td>0.0</td>\n",
       "      <td>0.0</td>\n",
       "      <td>0.0</td>\n",
       "      <td>0.0</td>\n",
       "      <td>0.0</td>\n",
       "      <td>0.0</td>\n",
       "      <td>0.0</td>\n",
       "      <td>0.0</td>\n",
       "      <td>0.0</td>\n",
       "      <td>0.0</td>\n",
       "      <td>0.0</td>\n",
       "      <td>0.0</td>\n",
       "      <td>0.0</td>\n",
       "      <td>0.0</td>\n",
       "      <td>0.0</td>\n",
       "      <td>0.0</td>\n",
       "      <td>0.0</td>\n",
       "      <td>0.0</td>\n",
       "      <td>0.0</td>\n",
       "      <td>0.0</td>\n",
       "      <td>0.0</td>\n",
       "      <td>0.0</td>\n",
       "      <td>0.0</td>\n",
       "      <td>0.0</td>\n",
       "      <td>0.0</td>\n",
       "      <td>0.0</td>\n",
       "      <td>0.0</td>\n",
       "      <td>0.0</td>\n",
       "      <td>0.0</td>\n",
       "      <td>0.0</td>\n",
       "      <td>0.0</td>\n",
       "      <td>0.0</td>\n",
       "      <td>0.0</td>\n",
       "      <td>0.0</td>\n",
       "      <td>0.0</td>\n",
       "      <td>0.0</td>\n",
       "      <td>0.0</td>\n",
       "      <td>0.0</td>\n",
       "      <td>0.0</td>\n",
       "      <td>0.0</td>\n",
       "      <td>0.0</td>\n",
       "      <td>0.0</td>\n",
       "      <td>0.0</td>\n",
       "      <td>0.0</td>\n",
       "      <td>0.0</td>\n",
       "      <td>0.0</td>\n",
       "      <td>0.0</td>\n",
       "      <td>0.0</td>\n",
       "      <td>0.0</td>\n",
       "      <td>0.0</td>\n",
       "      <td>0.0</td>\n",
       "      <td>0.0</td>\n",
       "      <td>0.0</td>\n",
       "      <td>0.0</td>\n",
       "      <td>0.0</td>\n",
       "      <td>0.0</td>\n",
       "      <td>0.0</td>\n",
       "      <td>0.0</td>\n",
       "      <td>0.0</td>\n",
       "      <td>0.0</td>\n",
       "      <td>0.0</td>\n",
       "      <td>0.0</td>\n",
       "      <td>0.0</td>\n",
       "      <td>0.0</td>\n",
       "      <td>0.0</td>\n",
       "      <td>0.0</td>\n",
       "      <td>0.0</td>\n",
       "      <td>0.0</td>\n",
       "      <td>0.0</td>\n",
       "      <td>0.0</td>\n",
       "      <td>0.0</td>\n",
       "      <td>0.0</td>\n",
       "      <td>0.0</td>\n",
       "      <td>0.0</td>\n",
       "      <td>0.0</td>\n",
       "      <td>0.0</td>\n",
       "      <td>0.0</td>\n",
       "      <td>0.0</td>\n",
       "      <td>0.0</td>\n",
       "      <td>0.0</td>\n",
       "      <td>0.0</td>\n",
       "      <td>0.0</td>\n",
       "      <td>0.0</td>\n",
       "      <td>0.0</td>\n",
       "      <td>0.0</td>\n",
       "      <td>0.0</td>\n",
       "      <td>0.0</td>\n",
       "      <td>0.0</td>\n",
       "      <td>0.0</td>\n",
       "      <td>0.0</td>\n",
       "      <td>0.0</td>\n",
       "      <td>0.0</td>\n",
       "      <td>0.0</td>\n",
       "      <td>0.0</td>\n",
       "      <td>0.0</td>\n",
       "      <td>0.0</td>\n",
       "      <td>0.0</td>\n",
       "      <td>0.0</td>\n",
       "      <td>0.0</td>\n",
       "      <td>0.0</td>\n",
       "      <td>0.0</td>\n",
       "      <td>0.0</td>\n",
       "      <td>0.0</td>\n",
       "      <td>0.0</td>\n",
       "      <td>0.0</td>\n",
       "      <td>0.0</td>\n",
       "      <td>0.0</td>\n",
       "      <td>0.0</td>\n",
       "      <td>0.0</td>\n",
       "      <td>0.0</td>\n",
       "      <td>0.0</td>\n",
       "      <td>0.0</td>\n",
       "      <td>0.0</td>\n",
       "      <td>0.0</td>\n",
       "      <td>0.0</td>\n",
       "      <td>0.0</td>\n",
       "      <td>0.0</td>\n",
       "      <td>0.0</td>\n",
       "      <td>0.0</td>\n",
       "      <td>0.0</td>\n",
       "      <td>0.0</td>\n",
       "      <td>0.0</td>\n",
       "      <td>0.0</td>\n",
       "      <td>0.0</td>\n",
       "      <td>0.0</td>\n",
       "      <td>0.0</td>\n",
       "      <td>0.0</td>\n",
       "      <td>0.0</td>\n",
       "      <td>0.0</td>\n",
       "      <td>0.0</td>\n",
       "      <td>0.0</td>\n",
       "      <td>0.0</td>\n",
       "      <td>0.0</td>\n",
       "      <td>0.0</td>\n",
       "      <td>0.0</td>\n",
       "      <td>0.0</td>\n",
       "      <td>0.0</td>\n",
       "      <td>0.0</td>\n",
       "      <td>0.0</td>\n",
       "      <td>0.0</td>\n",
       "      <td>0.0</td>\n",
       "      <td>0.0</td>\n",
       "      <td>0.0</td>\n",
       "      <td>0.0</td>\n",
       "      <td>0.0</td>\n",
       "      <td>0.0</td>\n",
       "      <td>0.0</td>\n",
       "      <td>0.0</td>\n",
       "      <td>0.0</td>\n",
       "      <td>0.0</td>\n",
       "      <td>0.0</td>\n",
       "      <td>0.0</td>\n",
       "      <td>0.0</td>\n",
       "      <td>0.0</td>\n",
       "      <td>0.0</td>\n",
       "      <td>0.0</td>\n",
       "      <td>0.0</td>\n",
       "      <td>0.0</td>\n",
       "      <td>0.0</td>\n",
       "      <td>1.0</td>\n",
       "      <td>0.0</td>\n",
       "      <td>0.0</td>\n",
       "      <td>0.0</td>\n",
       "      <td>0.0</td>\n",
       "      <td>0.0</td>\n",
       "      <td>0.0</td>\n",
       "      <td>0.0</td>\n",
       "      <td>0.0</td>\n",
       "      <td>0.0</td>\n",
       "      <td>0.0</td>\n",
       "      <td>0.0</td>\n",
       "      <td>0.0</td>\n",
       "      <td>0.0</td>\n",
       "    </tr>\n",
       "    <tr>\n",
       "      <th>4</th>\n",
       "      <td>0.0</td>\n",
       "      <td>0.0</td>\n",
       "      <td>101.0</td>\n",
       "      <td>150000.0</td>\n",
       "      <td>NaN</td>\n",
       "      <td>-1.0</td>\n",
       "      <td>0.0</td>\n",
       "      <td>-359.706463</td>\n",
       "      <td>0</td>\n",
       "      <td>0.0</td>\n",
       "      <td>0.0</td>\n",
       "      <td>1.0</td>\n",
       "      <td>0.0</td>\n",
       "      <td>0.0</td>\n",
       "      <td>0.0</td>\n",
       "      <td>0.0</td>\n",
       "      <td>0.0</td>\n",
       "      <td>0.0</td>\n",
       "      <td>0.0</td>\n",
       "      <td>0.0</td>\n",
       "      <td>0.0</td>\n",
       "      <td>0.0</td>\n",
       "      <td>0.0</td>\n",
       "      <td>0.0</td>\n",
       "      <td>0.0</td>\n",
       "      <td>0.0</td>\n",
       "      <td>0.0</td>\n",
       "      <td>0.0</td>\n",
       "      <td>0.0</td>\n",
       "      <td>0.0</td>\n",
       "      <td>0.0</td>\n",
       "      <td>0.0</td>\n",
       "      <td>0.0</td>\n",
       "      <td>0.0</td>\n",
       "      <td>0.0</td>\n",
       "      <td>0.0</td>\n",
       "      <td>0.0</td>\n",
       "      <td>0.0</td>\n",
       "      <td>0.0</td>\n",
       "      <td>0.0</td>\n",
       "      <td>0.0</td>\n",
       "      <td>0.0</td>\n",
       "      <td>0.0</td>\n",
       "      <td>0.0</td>\n",
       "      <td>0.0</td>\n",
       "      <td>0.0</td>\n",
       "      <td>0.0</td>\n",
       "      <td>0.0</td>\n",
       "      <td>0.0</td>\n",
       "      <td>0.0</td>\n",
       "      <td>0.0</td>\n",
       "      <td>0.0</td>\n",
       "      <td>0.0</td>\n",
       "      <td>0.0</td>\n",
       "      <td>0.0</td>\n",
       "      <td>0.0</td>\n",
       "      <td>0.0</td>\n",
       "      <td>0.0</td>\n",
       "      <td>0.0</td>\n",
       "      <td>0.0</td>\n",
       "      <td>0.0</td>\n",
       "      <td>0.0</td>\n",
       "      <td>0.0</td>\n",
       "      <td>0.0</td>\n",
       "      <td>0.0</td>\n",
       "      <td>0.0</td>\n",
       "      <td>0.0</td>\n",
       "      <td>0.0</td>\n",
       "      <td>0.0</td>\n",
       "      <td>0.0</td>\n",
       "      <td>0.0</td>\n",
       "      <td>0.0</td>\n",
       "      <td>0.0</td>\n",
       "      <td>0.0</td>\n",
       "      <td>0.0</td>\n",
       "      <td>0.0</td>\n",
       "      <td>0.0</td>\n",
       "      <td>0.0</td>\n",
       "      <td>0.0</td>\n",
       "      <td>0.0</td>\n",
       "      <td>0.0</td>\n",
       "      <td>0.0</td>\n",
       "      <td>0.0</td>\n",
       "      <td>0.0</td>\n",
       "      <td>0.0</td>\n",
       "      <td>0.0</td>\n",
       "      <td>0.0</td>\n",
       "      <td>0.0</td>\n",
       "      <td>0.0</td>\n",
       "      <td>0.0</td>\n",
       "      <td>0.0</td>\n",
       "      <td>0.0</td>\n",
       "      <td>0.0</td>\n",
       "      <td>0.0</td>\n",
       "      <td>0.0</td>\n",
       "      <td>0.0</td>\n",
       "      <td>0.0</td>\n",
       "      <td>0.0</td>\n",
       "      <td>0.0</td>\n",
       "      <td>0.0</td>\n",
       "      <td>0.0</td>\n",
       "      <td>0.0</td>\n",
       "      <td>0.0</td>\n",
       "      <td>0.0</td>\n",
       "      <td>0.0</td>\n",
       "      <td>0.0</td>\n",
       "      <td>0.0</td>\n",
       "      <td>0.0</td>\n",
       "      <td>0.0</td>\n",
       "      <td>0.0</td>\n",
       "      <td>0.0</td>\n",
       "      <td>0.0</td>\n",
       "      <td>0.0</td>\n",
       "      <td>0.0</td>\n",
       "      <td>0.0</td>\n",
       "      <td>0.0</td>\n",
       "      <td>0.0</td>\n",
       "      <td>0.0</td>\n",
       "      <td>0.0</td>\n",
       "      <td>0.0</td>\n",
       "      <td>0.0</td>\n",
       "      <td>0.0</td>\n",
       "      <td>0.0</td>\n",
       "      <td>0.0</td>\n",
       "      <td>0.0</td>\n",
       "      <td>0.0</td>\n",
       "      <td>0.0</td>\n",
       "      <td>0.0</td>\n",
       "      <td>0.0</td>\n",
       "      <td>0.0</td>\n",
       "      <td>0.0</td>\n",
       "      <td>0.0</td>\n",
       "      <td>0.0</td>\n",
       "      <td>0.0</td>\n",
       "      <td>0.0</td>\n",
       "      <td>0.0</td>\n",
       "      <td>0.0</td>\n",
       "      <td>0.0</td>\n",
       "      <td>0.0</td>\n",
       "      <td>0.0</td>\n",
       "      <td>0.0</td>\n",
       "      <td>0.0</td>\n",
       "      <td>0.0</td>\n",
       "      <td>0.0</td>\n",
       "      <td>0.0</td>\n",
       "      <td>0.0</td>\n",
       "      <td>0.0</td>\n",
       "      <td>0.0</td>\n",
       "      <td>0.0</td>\n",
       "      <td>0.0</td>\n",
       "      <td>0.0</td>\n",
       "      <td>0.0</td>\n",
       "      <td>0.0</td>\n",
       "      <td>0.0</td>\n",
       "      <td>0.0</td>\n",
       "      <td>0.0</td>\n",
       "      <td>0.0</td>\n",
       "      <td>0.0</td>\n",
       "      <td>0.0</td>\n",
       "      <td>0.0</td>\n",
       "      <td>0.0</td>\n",
       "      <td>0.0</td>\n",
       "      <td>0.0</td>\n",
       "      <td>0.0</td>\n",
       "      <td>0.0</td>\n",
       "      <td>0.0</td>\n",
       "      <td>0.0</td>\n",
       "      <td>0.0</td>\n",
       "      <td>0.0</td>\n",
       "      <td>0.0</td>\n",
       "      <td>0.0</td>\n",
       "      <td>0.0</td>\n",
       "      <td>0.0</td>\n",
       "      <td>0.0</td>\n",
       "      <td>0.0</td>\n",
       "      <td>0.0</td>\n",
       "      <td>0.0</td>\n",
       "      <td>0.0</td>\n",
       "      <td>0.0</td>\n",
       "      <td>0.0</td>\n",
       "      <td>0.0</td>\n",
       "      <td>0.0</td>\n",
       "      <td>0.0</td>\n",
       "      <td>0.0</td>\n",
       "      <td>0.0</td>\n",
       "      <td>0.0</td>\n",
       "      <td>0.0</td>\n",
       "      <td>0.0</td>\n",
       "      <td>0.0</td>\n",
       "      <td>0.0</td>\n",
       "      <td>0.0</td>\n",
       "      <td>0.0</td>\n",
       "      <td>0.0</td>\n",
       "      <td>0.0</td>\n",
       "      <td>0.0</td>\n",
       "      <td>0.0</td>\n",
       "      <td>0.0</td>\n",
       "      <td>0.0</td>\n",
       "      <td>0.0</td>\n",
       "      <td>0.0</td>\n",
       "      <td>0.0</td>\n",
       "      <td>0.0</td>\n",
       "      <td>0.0</td>\n",
       "      <td>0.0</td>\n",
       "      <td>0.0</td>\n",
       "      <td>0.0</td>\n",
       "      <td>0.0</td>\n",
       "      <td>0.0</td>\n",
       "      <td>0.0</td>\n",
       "      <td>0.0</td>\n",
       "      <td>0.0</td>\n",
       "      <td>0.0</td>\n",
       "      <td>0.0</td>\n",
       "      <td>0.0</td>\n",
       "      <td>0.0</td>\n",
       "      <td>0.0</td>\n",
       "      <td>0.0</td>\n",
       "      <td>0.0</td>\n",
       "      <td>0.0</td>\n",
       "      <td>0.0</td>\n",
       "      <td>0.0</td>\n",
       "      <td>0.0</td>\n",
       "      <td>0.0</td>\n",
       "      <td>0.0</td>\n",
       "      <td>0.0</td>\n",
       "      <td>0.0</td>\n",
       "      <td>0.0</td>\n",
       "      <td>0.0</td>\n",
       "      <td>0.0</td>\n",
       "      <td>0.0</td>\n",
       "      <td>0.0</td>\n",
       "      <td>0.0</td>\n",
       "      <td>0.0</td>\n",
       "      <td>0.0</td>\n",
       "      <td>0.0</td>\n",
       "      <td>0.0</td>\n",
       "      <td>0.0</td>\n",
       "      <td>0.0</td>\n",
       "      <td>0.0</td>\n",
       "      <td>0.0</td>\n",
       "      <td>0.0</td>\n",
       "      <td>0.0</td>\n",
       "      <td>0.0</td>\n",
       "      <td>0.0</td>\n",
       "      <td>0.0</td>\n",
       "      <td>0.0</td>\n",
       "      <td>0.0</td>\n",
       "      <td>0.0</td>\n",
       "      <td>1.0</td>\n",
       "      <td>0.0</td>\n",
       "      <td>0.0</td>\n",
       "      <td>0.0</td>\n",
       "      <td>0.0</td>\n",
       "      <td>0.0</td>\n",
       "      <td>0.0</td>\n",
       "      <td>0.0</td>\n",
       "      <td>0.0</td>\n",
       "      <td>0.0</td>\n",
       "      <td>0.0</td>\n",
       "      <td>0.0</td>\n",
       "      <td>0.0</td>\n",
       "      <td>0.0</td>\n",
       "      <td>0.0</td>\n",
       "      <td>0.0</td>\n",
       "      <td>0.0</td>\n",
       "      <td>0.0</td>\n",
       "      <td>0.0</td>\n",
       "      <td>0.0</td>\n",
       "      <td>0.0</td>\n",
       "      <td>0.0</td>\n",
       "      <td>0.0</td>\n",
       "      <td>0.0</td>\n",
       "      <td>0.0</td>\n",
       "      <td>0.0</td>\n",
       "      <td>0.0</td>\n",
       "      <td>0.0</td>\n",
       "      <td>0.0</td>\n",
       "      <td>0.0</td>\n",
       "      <td>0.0</td>\n",
       "      <td>0.0</td>\n",
       "      <td>0.0</td>\n",
       "      <td>0.0</td>\n",
       "      <td>0.0</td>\n",
       "      <td>0.0</td>\n",
       "      <td>0.0</td>\n",
       "      <td>0.0</td>\n",
       "      <td>1.0</td>\n",
       "      <td>0.0</td>\n",
       "      <td>0.0</td>\n",
       "      <td>0.0</td>\n",
       "      <td>0.0</td>\n",
       "      <td>0.0</td>\n",
       "      <td>0.0</td>\n",
       "      <td>0.0</td>\n",
       "      <td>0.0</td>\n",
       "      <td>0.0</td>\n",
       "      <td>0.0</td>\n",
       "      <td>0.0</td>\n",
       "      <td>0.0</td>\n",
       "      <td>0.0</td>\n",
       "      <td>0.0</td>\n",
       "      <td>0.0</td>\n",
       "      <td>0.0</td>\n",
       "      <td>0.0</td>\n",
       "      <td>0.0</td>\n",
       "      <td>0.0</td>\n",
       "      <td>0.0</td>\n",
       "      <td>1.0</td>\n",
       "      <td>0.0</td>\n",
       "      <td>0.0</td>\n",
       "      <td>0.0</td>\n",
       "      <td>0.0</td>\n",
       "      <td>0.0</td>\n",
       "      <td>0.0</td>\n",
       "      <td>0.0</td>\n",
       "      <td>1.0</td>\n",
       "      <td>0.0</td>\n",
       "      <td>0.0</td>\n",
       "      <td>0.0</td>\n",
       "      <td>0.0</td>\n",
       "      <td>0.0</td>\n",
       "      <td>0.0</td>\n",
       "      <td>0.0</td>\n",
       "      <td>0.0</td>\n",
       "      <td>0.0</td>\n",
       "      <td>0.0</td>\n",
       "      <td>0.0</td>\n",
       "      <td>0.0</td>\n",
       "      <td>0.0</td>\n",
       "      <td>0.0</td>\n",
       "      <td>0.0</td>\n",
       "      <td>0.0</td>\n",
       "      <td>0.0</td>\n",
       "      <td>0.0</td>\n",
       "      <td>0.0</td>\n",
       "      <td>0.0</td>\n",
       "      <td>0.0</td>\n",
       "      <td>0.0</td>\n",
       "      <td>0.0</td>\n",
       "      <td>0.0</td>\n",
       "      <td>0.0</td>\n",
       "      <td>0.0</td>\n",
       "      <td>0.0</td>\n",
       "      <td>0.0</td>\n",
       "      <td>0.0</td>\n",
       "      <td>0.0</td>\n",
       "      <td>0.0</td>\n",
       "      <td>0.0</td>\n",
       "      <td>0.0</td>\n",
       "      <td>0.0</td>\n",
       "      <td>0.0</td>\n",
       "      <td>0.0</td>\n",
       "      <td>0.0</td>\n",
       "      <td>0.0</td>\n",
       "      <td>6650.0</td>\n",
       "      <td>1.0</td>\n",
       "      <td>0.0</td>\n",
       "      <td>0.0</td>\n",
       "      <td>0.0</td>\n",
       "      <td>0.0</td>\n",
       "      <td>0.0</td>\n",
       "      <td>0.0</td>\n",
       "      <td>0.0</td>\n",
       "      <td>0.0</td>\n",
       "      <td>0.0</td>\n",
       "      <td>0.0</td>\n",
       "      <td>0.0</td>\n",
       "      <td>0.0</td>\n",
       "      <td>0.0</td>\n",
       "      <td>0.0</td>\n",
       "      <td>0.0</td>\n",
       "      <td>0.0</td>\n",
       "      <td>0.0</td>\n",
       "      <td>0.0</td>\n",
       "      <td>0.0</td>\n",
       "      <td>0.0</td>\n",
       "      <td>0.0</td>\n",
       "      <td>0.0</td>\n",
       "      <td>0.0</td>\n",
       "      <td>0.0</td>\n",
       "      <td>0.0</td>\n",
       "      <td>0.0</td>\n",
       "      <td>0.0</td>\n",
       "      <td>0.0</td>\n",
       "      <td>0.0</td>\n",
       "      <td>0.0</td>\n",
       "      <td>0.0</td>\n",
       "      <td>0.0</td>\n",
       "      <td>0.0</td>\n",
       "      <td>0.0</td>\n",
       "      <td>0.0</td>\n",
       "      <td>0.0</td>\n",
       "      <td>0.0</td>\n",
       "      <td>0.0</td>\n",
       "      <td>0.0</td>\n",
       "      <td>0.0</td>\n",
       "      <td>0.0</td>\n",
       "      <td>0.0</td>\n",
       "      <td>0.0</td>\n",
       "      <td>0.0</td>\n",
       "      <td>0.0</td>\n",
       "      <td>0.0</td>\n",
       "      <td>0.0</td>\n",
       "      <td>0.0</td>\n",
       "      <td>0.0</td>\n",
       "      <td>0.0</td>\n",
       "      <td>0.0</td>\n",
       "      <td>0.0</td>\n",
       "      <td>0.0</td>\n",
       "      <td>0.0</td>\n",
       "      <td>0.0</td>\n",
       "      <td>0.0</td>\n",
       "      <td>0.0</td>\n",
       "      <td>0.0</td>\n",
       "      <td>0.0</td>\n",
       "      <td>0.0</td>\n",
       "      <td>0.0</td>\n",
       "      <td>0.0</td>\n",
       "      <td>0.0</td>\n",
       "      <td>0.0</td>\n",
       "      <td>0.0</td>\n",
       "      <td>0.0</td>\n",
       "      <td>0.0</td>\n",
       "      <td>0.0</td>\n",
       "      <td>0.0</td>\n",
       "      <td>0.0</td>\n",
       "      <td>0.0</td>\n",
       "      <td>0.0</td>\n",
       "      <td>0.0</td>\n",
       "      <td>0.0</td>\n",
       "      <td>0.0</td>\n",
       "      <td>0.0</td>\n",
       "      <td>0.0</td>\n",
       "      <td>0.0</td>\n",
       "      <td>0.0</td>\n",
       "      <td>0.0</td>\n",
       "      <td>0.0</td>\n",
       "      <td>0.0</td>\n",
       "      <td>0.0</td>\n",
       "      <td>0.0</td>\n",
       "      <td>0.0</td>\n",
       "      <td>0.0</td>\n",
       "      <td>0.0</td>\n",
       "      <td>0.0</td>\n",
       "      <td>0.0</td>\n",
       "      <td>0.0</td>\n",
       "      <td>0.0</td>\n",
       "      <td>0.0</td>\n",
       "      <td>0.0</td>\n",
       "      <td>0.0</td>\n",
       "      <td>0.0</td>\n",
       "      <td>0.0</td>\n",
       "      <td>0.0</td>\n",
       "      <td>0.0</td>\n",
       "      <td>0.0</td>\n",
       "      <td>0.0</td>\n",
       "      <td>0.0</td>\n",
       "      <td>0.0</td>\n",
       "      <td>0.0</td>\n",
       "      <td>0.0</td>\n",
       "      <td>0.0</td>\n",
       "      <td>0.0</td>\n",
       "      <td>0.0</td>\n",
       "      <td>0.0</td>\n",
       "      <td>0.0</td>\n",
       "      <td>0.0</td>\n",
       "      <td>0.0</td>\n",
       "      <td>0.0</td>\n",
       "      <td>0.0</td>\n",
       "      <td>0.0</td>\n",
       "      <td>0.0</td>\n",
       "      <td>0.0</td>\n",
       "      <td>0.0</td>\n",
       "      <td>0.0</td>\n",
       "      <td>0.0</td>\n",
       "      <td>0.0</td>\n",
       "      <td>0.0</td>\n",
       "      <td>0.0</td>\n",
       "      <td>0.0</td>\n",
       "      <td>0.0</td>\n",
       "      <td>0.0</td>\n",
       "      <td>0.0</td>\n",
       "      <td>0.0</td>\n",
       "      <td>0.0</td>\n",
       "      <td>0.0</td>\n",
       "      <td>0.0</td>\n",
       "      <td>0.0</td>\n",
       "      <td>0.0</td>\n",
       "      <td>0.0</td>\n",
       "      <td>0.0</td>\n",
       "      <td>0.0</td>\n",
       "      <td>0.0</td>\n",
       "      <td>0.0</td>\n",
       "      <td>0.0</td>\n",
       "      <td>0.0</td>\n",
       "      <td>0.0</td>\n",
       "      <td>0.0</td>\n",
       "      <td>0.0</td>\n",
       "      <td>0.0</td>\n",
       "      <td>0.0</td>\n",
       "      <td>0.0</td>\n",
       "      <td>0.0</td>\n",
       "      <td>0.0</td>\n",
       "      <td>0.0</td>\n",
       "      <td>0.0</td>\n",
       "      <td>0.0</td>\n",
       "      <td>0.0</td>\n",
       "      <td>0.0</td>\n",
       "      <td>0.0</td>\n",
       "      <td>0.0</td>\n",
       "      <td>0.0</td>\n",
       "      <td>0.0</td>\n",
       "      <td>0.0</td>\n",
       "      <td>0.0</td>\n",
       "      <td>0.0</td>\n",
       "      <td>0.0</td>\n",
       "      <td>0.0</td>\n",
       "      <td>0.0</td>\n",
       "      <td>0.0</td>\n",
       "      <td>0.0</td>\n",
       "      <td>0.0</td>\n",
       "      <td>0.0</td>\n",
       "      <td>0.0</td>\n",
       "      <td>0.0</td>\n",
       "      <td>0.0</td>\n",
       "      <td>0.0</td>\n",
       "      <td>0.0</td>\n",
       "      <td>0.0</td>\n",
       "      <td>0.0</td>\n",
       "      <td>1.0</td>\n",
       "      <td>0.0</td>\n",
       "      <td>0.0</td>\n",
       "      <td>0.0</td>\n",
       "      <td>0.0</td>\n",
       "      <td>0.0</td>\n",
       "      <td>0.0</td>\n",
       "      <td>0.0</td>\n",
       "      <td>0.0</td>\n",
       "      <td>0.0</td>\n",
       "      <td>0.0</td>\n",
       "      <td>0.0</td>\n",
       "      <td>0.0</td>\n",
       "    </tr>\n",
       "  </tbody>\n",
       "</table>\n",
       "</div>"
      ],
      "text/plain": [
       "   seller  offerType  powerPS  kilometer  notRepairedDamage  dateCreated  \\\n",
       "0     0.0        0.0    163.0   125000.0                NaN         -1.0   \n",
       "1     0.0        0.0     75.0   150000.0                0.0         -1.0   \n",
       "2     0.0        0.0    102.0   150000.0                1.0         -1.0   \n",
       "3     0.0        0.0    109.0   150000.0                0.0         -1.0   \n",
       "4     0.0        0.0    101.0   150000.0                NaN         -1.0   \n",
       "\n",
       "   nrOfPictures    lastSeen  label  tuev  tdi  golf  2.0  1.6  1.4  automatik  \\\n",
       "0           0.0 -527.998727      1   0.0  0.0   0.0  0.0  0.0  0.0        1.0   \n",
       "1           0.0  -23.612838      0   0.0  0.0   1.0  0.0  0.0  0.0        0.0   \n",
       "2           0.0  -71.627981      0   0.0  0.0   0.0  0.0  0.0  0.0        0.0   \n",
       "3           0.0  -95.958278      0   0.0  0.0   0.0  0.0  0.0  0.0        0.0   \n",
       "4           0.0 -359.706463      0   0.0  0.0   1.0  0.0  0.0  0.0        0.0   \n",
       "\n",
       "   klima  neu  16v  sport  polo  corsa  1.2  1.9  cabrio  cdi  top  1.8  \\\n",
       "0    0.0  0.0  0.0    0.0   0.0    0.0  0.0  0.0     0.0  0.0  0.0  0.0   \n",
       "1    0.0  0.0  0.0    0.0   0.0    0.0  0.0  0.0     0.0  0.0  0.0  0.0   \n",
       "2    0.0  0.0  0.0    0.0   0.0    0.0  0.0  0.0     0.0  0.0  0.0  0.0   \n",
       "3    0.0  0.0  0.0    0.0   0.0    0.0  0.0  0.0     1.0  0.0  0.0  0.0   \n",
       "4    0.0  0.0  0.0    0.0   0.0    0.0  0.0  0.0     0.0  0.0  0.0  0.0   \n",
       "\n",
       "   astra  passat   a4  edition  navi  kombi  avant  zustand  variant  coupe  \\\n",
       "0    0.0     0.0  0.0      0.0   0.0    0.0    0.0      0.0      0.0    0.0   \n",
       "1    0.0     0.0  0.0      0.0   0.0    0.0    0.0      0.0      0.0    0.0   \n",
       "2    0.0     0.0  0.0      0.0   0.0    0.0    0.0      0.0      0.0    0.0   \n",
       "3    0.0     0.0  0.0      0.0   0.0    0.0    0.0      0.0      0.0    0.0   \n",
       "4    0.0     0.0  0.0      0.0   0.0    0.0    0.0      0.0      0.0    0.0   \n",
       "\n",
       "   touring   a3  leder  quattro   a6  focus  ahk  diesel  xenon  fiesta  3.0  \\\n",
       "0      0.0  0.0    0.0      0.0  0.0    0.0  0.0     1.0    0.0     0.0  0.0   \n",
       "1      0.0  0.0    0.0      0.0  0.0    0.0  0.0     0.0    0.0     0.0  0.0   \n",
       "2      0.0  0.0    0.0      0.0  0.0    0.0  0.0     0.0    0.0     0.0  0.0   \n",
       "3      0.0  0.0    0.0      0.0  0.0    0.0  0.0     0.0    0.0     0.0  0.0   \n",
       "4      0.0  0.0    0.0      0.0  0.0    0.0  0.0     0.0    0.0     0.0  0.0   \n",
       "\n",
       "   line  1.0  200  twingo  dsg  tsi  highline  lpg  comfortline  tronic  \\\n",
       "0   0.0  0.0  0.0     0.0  0.0  0.0       0.0  0.0          0.0     0.0   \n",
       "1   0.0  0.0  0.0     0.0  0.0  0.0       0.0  0.0          0.0     0.0   \n",
       "2   0.0  0.0  0.0     0.0  0.0  0.0       0.0  0.0          0.0     0.0   \n",
       "3   0.0  0.0  0.0     0.0  0.0  0.0       0.0  0.0          0.0     0.0   \n",
       "4   0.0  0.0  0.0     0.0  0.0  0.0       0.0  0.0          0.0     0.0   \n",
       "\n",
       "   vectra  avantgarde  sehr  gepflegt  elegance  206  tdci  1.hand  punto  \\\n",
       "0     0.0         0.0   0.0       0.0       0.0  0.0   0.0     0.0    0.0   \n",
       "1     0.0         0.0   0.0       0.0       0.0  0.0   0.0     0.0    0.0   \n",
       "2     0.0         0.0   0.0       0.0       0.0  0.0   0.0     0.0    0.0   \n",
       "3     0.0         0.0   0.0       0.0       0.0  1.0   0.0     0.0    0.0   \n",
       "4     0.0         0.0   0.0       0.0       0.0  0.0   0.0     0.0    0.0   \n",
       "\n",
       "   cdti  320  mondeo   bj  paket  touran  clio  220   6v  caravan  2.2  \\\n",
       "0   0.0  0.0     0.0  0.0    0.0     0.0   0.0  0.0  0.0      0.0  0.0   \n",
       "1   0.0  0.0     0.0  0.0    0.0     0.0   0.0  0.0  0.0      0.0  0.0   \n",
       "2   0.0  0.0     0.0  0.0    0.0     0.0   0.0  0.0  0.0      0.0  0.0   \n",
       "3   0.0  0.0     0.0  0.0    0.0     0.0   0.0  0.0  0.0      0.0  0.0   \n",
       "4   0.0  0.0     0.0  0.0    0.0     0.0   0.0  0.0  0.0      0.0  0.0   \n",
       "\n",
       "   kompressor  scheckheft  zafira  turbo   7g  classic  2.5  180  gti  megane  \\\n",
       "0         0.0         0.0     0.0    0.0  0.0      0.0  0.0  0.0  0.0     0.0   \n",
       "1         0.0         0.0     0.0    0.0  0.0      0.0  0.0  0.0  0.0     0.0   \n",
       "2         0.0         0.0     0.0    0.0  0.0      0.0  0.0  0.0  0.0     0.0   \n",
       "3         0.0         0.0     0.0    0.0  0.0      0.0  0.0  0.0  0.0     0.0   \n",
       "4         0.0         0.0     0.0    0.0  0.0      0.0  0.0  0.0  0.0     0.0   \n",
       "\n",
       "   bastler  320d  neue  turnier  ibiza  lupo   t4  1.3  316i  hdi  tausch  \\\n",
       "0      0.0   0.0   0.0      0.0    0.0   0.0  0.0  0.0   0.0  0.0     0.0   \n",
       "1      0.0   0.0   0.0      0.0    0.0   0.0  0.0  0.0   0.0  0.0     0.0   \n",
       "2      0.0   0.0   0.0      0.0    0.0   0.0  0.0  0.0   1.0  0.0     0.0   \n",
       "3      0.0   0.0   0.0      0.0    0.0   0.0  0.0  0.0   0.0  0.0     0.0   \n",
       "4      0.0   0.0   0.0      0.0    0.0   0.0  0.0  0.0   0.0  0.0     0.0   \n",
       "\n",
       "   318i   ka  fortwo  voll  dci  sportback  plus  tfsi   6n  bereift  style  \\\n",
       "0   0.0  0.0     0.0   0.0  0.0        0.0   0.0   0.0  0.0      0.0    0.0   \n",
       "1   0.0  0.0     0.0   0.0  0.0        0.0   0.0   0.0  0.0      0.0    0.0   \n",
       "2   0.0  0.0     0.0   0.0  0.0        0.0   0.0   0.0  0.0      0.0    0.0   \n",
       "3   0.0  0.0     0.0   0.0  0.0        0.0   0.0   0.0  0.0      0.0    0.0   \n",
       "4   0.0  0.0     0.0   0.0  0.0        0.0   0.0   0.0  0.0      0.0    0.0   \n",
       "\n",
       "   trendline  combi  cooper  schwarz  ambiente  e36  320i  vollausstattung  \\\n",
       "0        0.0    0.0     0.0      0.0       0.0  0.0   0.0              0.0   \n",
       "1        0.0    0.0     0.0      0.0       0.0  0.0   0.0              0.0   \n",
       "2        0.0    0.0     0.0      0.0       0.0  1.0   0.0              0.0   \n",
       "3        0.0    0.0     0.0      0.0       0.0  0.0   0.0              0.0   \n",
       "4        0.0    0.0     0.0      0.0       0.0  0.0   0.0              0.0   \n",
       "\n",
       "   servo  fabia  klasse  bluemotion  e46  octavia  gruene  amg  plakette  \\\n",
       "0    0.0    0.0     0.0         0.0  0.0      0.0     0.0  0.0       0.0   \n",
       "1    0.0    0.0     0.0         0.0  0.0      0.0     0.0  0.0       0.0   \n",
       "2    0.0    0.0     0.0         0.0  0.0      0.0     0.0  0.0       0.0   \n",
       "3    0.0    0.0     0.0         0.0  0.0      0.0     0.0  0.0       0.0   \n",
       "4    0.0    0.0     0.0         0.0  0.0      0.0     0.0  0.0       0.0   \n",
       "\n",
       "   limousine  12v  gepflegter  pdc  comfort  fsi   75  multivan  nur  suche  \\\n",
       "0        0.0  0.0         0.0  0.0      0.0  0.0  0.0       0.0  0.0    0.0   \n",
       "1        0.0  0.0         0.0  0.0      0.0  0.0  0.0       0.0  0.0    0.0   \n",
       "2        1.0  0.0         0.0  0.0      0.0  0.0  0.0       0.0  0.0    0.0   \n",
       "3        0.0  0.0         0.0  0.0      0.0  0.0  0.0       0.0  0.0    0.0   \n",
       "4        0.0  0.0         0.0  0.0      0.0  0.0  0.0       0.0  0.0    0.0   \n",
       "\n",
       "   ambition  facelift  clk   8v  compact   80  blueefficiency  110  2.hand  \\\n",
       "0       0.0       0.0  0.0  0.0      0.0  0.0             0.0  0.0     0.0   \n",
       "1       0.0       0.0  0.0  0.0      0.0  0.0             0.0  0.0     0.0   \n",
       "2       0.0       0.0  0.0  0.0      0.0  0.0             0.0  0.0     0.0   \n",
       "3       0.0       0.0  0.0  0.0      0.0  0.0             0.0  1.0     0.0   \n",
       "4       0.0       0.0  0.0  0.0      0.0  0.0             0.0  0.0     0.0   \n",
       "\n",
       "   500  4x4  caddy  titanium  alu  micra  sportpaket  ohne  ghia  sitzheizung  \\\n",
       "0  0.0  0.0    0.0       0.0  0.0    0.0         0.0   0.0   0.0          0.0   \n",
       "1  0.0  0.0    0.0       0.0  0.0    0.0         0.0   0.0   0.0          0.0   \n",
       "2  0.0  0.0    0.0       0.0  0.0    0.0         0.0   0.0   0.0          0.0   \n",
       "3  0.0  0.0    0.0       0.0  0.0    0.0         0.0   0.0   0.0          0.0   \n",
       "4  0.0  0.0    0.0       0.0  0.0    0.0         0.0   0.0   0.0          0.0   \n",
       "\n",
       "   sharan   gt  exclusive  fahrbereit  guter  scenic  4motion  garantie  \\\n",
       "0     0.0  0.0        0.0         0.0    0.0     0.0      0.0       0.0   \n",
       "1     0.0  0.0        0.0         0.0    0.0     0.0      0.0       0.0   \n",
       "2     0.0  0.0        0.0         0.0    0.0     0.0      0.0       0.0   \n",
       "3     0.0  0.0        0.0         0.0    0.0     0.0      0.0       0.0   \n",
       "4     0.0  0.0        0.0         0.0    0.0     0.0      0.0       0.0   \n",
       "\n",
       "   ausstattung  530d  super   t5  tiptronic  leon  omega  350  standheizung  \\\n",
       "0          0.0   0.0    0.0  0.0        0.0   0.0    0.0  0.0           0.0   \n",
       "1          0.0   0.0    0.0  0.0        0.0   0.0    0.0  0.0           0.0   \n",
       "2          0.0   0.0    0.0  0.0        0.0   0.0    0.0  0.0           0.0   \n",
       "3          0.0   0.0    0.0  0.0        0.0   0.0    0.0  0.0           0.0   \n",
       "4          0.0   0.0    0.0  0.0        0.0   0.0    0.0  0.0           0.0   \n",
       "\n",
       "   schiebedach  tausche  2.4  slk  jahre  wenig  1.1  tuerer  roadster  \\\n",
       "0          0.0      0.0  0.0  0.0    0.0    0.0  0.0     0.0       0.0   \n",
       "1          0.0      0.0  0.0  0.0    0.0    0.0  0.0     0.0       0.0   \n",
       "2          0.0      0.0  0.0  0.0    0.0    0.0  0.0     0.0       0.0   \n",
       "3          0.0      0.0  0.0  0.0    0.0    0.0  0.0     0.0       0.0   \n",
       "4          0.0      0.0  0.0  0.0    0.0    0.0  0.0     0.0       0.0   \n",
       "\n",
       "   technology  trend   tt  fap  civic  1.5  grand  laguna  max  230  307  1.7  \\\n",
       "0         0.0    0.0  0.0  0.0    0.0  0.0    1.0     0.0  0.0  0.0  0.0  0.0   \n",
       "1         0.0    0.0  0.0  0.0    0.0  0.0    0.0     0.0  0.0  0.0  0.0  0.0   \n",
       "2         0.0    0.0  0.0  0.0    0.0  0.0    0.0     0.0  0.0  0.0  0.0  0.0   \n",
       "3         0.0    0.0  0.0  0.0    0.0  0.0    0.0     0.0  0.0  0.0  0.0  0.0   \n",
       "4         0.0    0.0  0.0  0.0    0.0  0.0    0.0     0.0  0.0  0.0  0.0  0.0   \n",
       "\n",
       "   525d  aus  2018  bastlerfahrzeug  multitronic  transporter   ci  2.7  100  \\\n",
       "0   0.0  0.0   0.0              0.0          0.0          0.0  0.0  0.0  0.0   \n",
       "1   0.0  0.0   0.0              0.0          0.0          0.0  0.0  0.0  0.0   \n",
       "2   0.0  0.0   0.0              1.0          0.0          0.0  0.0  0.0  0.0   \n",
       "3   0.0  0.0   0.0              0.0          0.0          0.0  0.0  0.0  0.0   \n",
       "4   0.0  0.0   0.0              0.0          0.0          0.0  0.0  0.0  0.0   \n",
       "\n",
       "   170  galaxy  zoll  kein   60  140  panorama  207   ml  520i  crdi  \\\n",
       "0  0.0     0.0   0.0   0.0  0.0  0.0       0.0  0.0  0.0   0.0   0.0   \n",
       "1  0.0     0.0   0.0   0.0  0.0  0.0       0.0  0.0  0.0   0.0   0.0   \n",
       "2  0.0     0.0   0.0   0.0  0.0  0.0       0.0  0.0  0.0   0.0   0.0   \n",
       "3  0.0     0.0   0.0   0.0  0.0  0.0       0.0  0.0  0.0   0.0   0.0   \n",
       "4  0.0     0.0   0.0   0.0  0.0  0.0       0.0  0.0  0.0   0.0   0.0   \n",
       "\n",
       "   gasanlage  gegen  lkw  passion   cd  meriva   90  gang   hu  tempomat  \\\n",
       "0        0.0    0.0  0.0      0.0  0.0     0.0  0.0   0.0  0.0       0.0   \n",
       "1        0.0    0.0  0.0      0.0  0.0     0.0  0.0   0.0  0.0       0.0   \n",
       "2        0.0    0.0  0.0      0.0  0.0     0.0  0.0   0.0  0.0       0.0   \n",
       "3        0.0    0.0  0.0      0.0  0.0     0.0  0.0   0.0  0.0       0.0   \n",
       "4        0.0    0.0  0.0      0.0  0.0     0.0  0.0   0.0  0.0       0.0   \n",
       "\n",
       "   2000  ein  motorschaden  golf6  silber  280  318   a5  yaris  323  tuev au  \\\n",
       "0   0.0  0.0           0.0    0.0     0.0  0.0  0.0  0.0    0.0  0.0      0.0   \n",
       "1   0.0  0.0           0.0    0.0     0.0  0.0  0.0  0.0    0.0  0.0      0.0   \n",
       "2   0.0  0.0           0.0    0.0     0.0  0.0  0.0  0.0    0.0  0.0      0.0   \n",
       "3   0.0  0.0           0.0    0.0     0.0  0.0  0.0  0.0    0.0  0.0      0.0   \n",
       "4   0.0  0.0           0.0    0.0     0.0  0.0  0.0  0.0    0.0  0.0      0.0   \n",
       "\n",
       "   160  4matic  lang  unfallfrei  verkauf  e39  zahnriemen  150  twin  gut  \\\n",
       "0  0.0     0.0   0.0         0.0      0.0  0.0         0.0  0.0   0.0  0.0   \n",
       "1  0.0     0.0   0.0         0.0      0.0  0.0         0.0  0.0   0.0  0.0   \n",
       "2  0.0     0.0   0.0         0.0      0.0  0.0         0.0  0.0   0.0  0.0   \n",
       "3  0.0     0.0   0.0         0.0      0.0  0.0         0.0  0.0   0.0  0.0   \n",
       "4  0.0     0.0   0.0         0.0      0.0  0.0         0.0  0.0   0.0  0.0   \n",
       "\n",
       "   one  liter  tuerig  original   up  kangoo  116i  vito  alufelgen  \\\n",
       "0  0.0    0.0     0.0       0.0  0.0     0.0   0.0   0.0        0.0   \n",
       "1  0.0    0.0     0.0       0.0  0.0     0.0   0.0   0.0        0.0   \n",
       "2  0.0    0.0     0.0       0.0  0.0     0.0   0.0   0.0        0.0   \n",
       "3  0.0    0.0     0.0       0.0  0.0     0.0   0.0   0.0        0.0   \n",
       "4  0.0    0.0     1.0       0.0  0.0     0.0   0.0   0.0        0.0   \n",
       "\n",
       "   grandtour  schoener   sw  106  bora   x3  tiguan  arosa  \\\n",
       "0        0.0       0.0  0.0  0.0   0.0  0.0     0.0    0.0   \n",
       "1        0.0       0.0  0.0  0.0   0.0  0.0     0.0    0.0   \n",
       "2        0.0       0.0  0.0  0.0   0.0  0.0     0.0    0.0   \n",
       "3        0.0       0.0  0.0  0.0   0.0  0.0     0.0    0.0   \n",
       "4        0.0       0.0  0.0  0.0   0.0  0.0     0.0    0.0   \n",
       "\n",
       "   scheckheftgepflegt   x5  tuning  dti  270  eco  iner  325i  beetle  \\\n",
       "0                 0.0  0.0     0.0  0.0  0.0  0.0   0.0   0.0     0.0   \n",
       "1                 0.0  0.0     0.0  0.0  0.0  0.0   0.0   0.0     0.0   \n",
       "2                 0.0  0.0     0.0  0.0  0.0  0.0   0.0   0.0     0.0   \n",
       "3                 0.0  0.0     0.0  0.0  0.0  0.0   0.0   0.0     0.0   \n",
       "4                 0.0  0.0     0.0  0.0  0.0  0.0   0.0   0.0     0.0   \n",
       "\n",
       "   corolla  tourer   cl  523i  mein  fahrzeug  berlingo  blue  118d  fox  \\\n",
       "0      0.0     0.0  0.0   0.0   0.0       0.0       0.0   0.0   0.0  0.0   \n",
       "1      0.0     0.0  0.0   0.0   0.0       0.0       0.0   0.0   0.0  0.0   \n",
       "2      0.0     0.0  0.0   0.0   0.0       0.0       0.0   0.0   0.0  0.0   \n",
       "3      0.0     0.0  0.0   0.0   0.0       0.0       0.0   0.0   0.0  0.0   \n",
       "4      0.0     0.0  0.0   0.0   0.0       0.0       0.0   0.0   0.0  0.0   \n",
       "\n",
       "   modell   8l  blau  dynamique  anhaengerkupplung   mx  faltdach   b5  \\\n",
       "0     0.0  0.0   0.0        0.0                0.0  0.0       0.0  0.0   \n",
       "1     0.0  0.0   0.0        0.0                0.0  0.0       0.0  0.0   \n",
       "2     0.0  0.0   0.0        0.0                0.0  0.0       0.0  0.0   \n",
       "3     0.0  0.0   0.0        0.0                0.0  0.0       0.0  0.0   \n",
       "4     0.0  0.0   0.0        0.0                1.0  0.0       0.0  0.0   \n",
       "\n",
       "   escort  attraction  colt   ii  316  tigra   au  tuv   rs  190  iii   18  \\\n",
       "0     0.0         0.0   0.0  0.0  0.0    0.0  0.0  0.0  0.0  0.0  0.0  0.0   \n",
       "1     0.0         0.0   0.0  0.0  0.0    0.0  0.0  0.0  0.0  0.0  0.0  0.0   \n",
       "2     0.0         0.0   0.0  0.0  0.0    0.0  0.0  0.0  0.0  0.0  0.0  0.0   \n",
       "3     0.0         0.0   0.0  0.0  0.0    0.0  0.0  0.0  0.0  0.0  0.0  0.0   \n",
       "4     0.0         0.0   0.0  0.0  0.0    0.0  0.0  0.0  0.0  0.0  0.0  0.0   \n",
       "\n",
       "   active   gl   9n  cosmo  suv  kleinwagen  bus  andere  benzin  hybrid  cng  \\\n",
       "0     0.0  0.0  0.0    0.0  1.0         0.0  0.0     0.0     0.0     0.0  0.0   \n",
       "1     0.0  0.0  0.0    0.0  0.0         1.0  0.0     0.0     1.0     0.0  0.0   \n",
       "2     0.0  0.0  0.0    0.0  0.0         0.0  0.0     0.0     1.0     0.0  0.0   \n",
       "3     0.0  0.0  0.0    0.0  0.0         0.0  0.0     0.0     1.0     0.0  0.0   \n",
       "4     0.0  0.0  0.0    0.0  0.0         1.0  0.0     0.0     0.0     0.0  0.0   \n",
       "\n",
       "   elektro  jeep  volkswagen  bmw  peugeot  mazda  renault  ford  seat  \\\n",
       "0      0.0   1.0         0.0  0.0      0.0    0.0      0.0   0.0   0.0   \n",
       "1      0.0   0.0         1.0  0.0      0.0    0.0      0.0   0.0   0.0   \n",
       "2      0.0   0.0         0.0  1.0      0.0    0.0      0.0   0.0   0.0   \n",
       "3      0.0   0.0         0.0  0.0      1.0    0.0      0.0   0.0   0.0   \n",
       "4      0.0   0.0         1.0  0.0      0.0    0.0      0.0   0.0   0.0   \n",
       "\n",
       "   mercedes_benz  honda  fiat  opel  smart  hyundai  sonstige_autos  \\\n",
       "0            0.0    0.0   0.0   0.0    0.0      0.0             0.0   \n",
       "1            0.0    0.0   0.0   0.0    0.0      0.0             0.0   \n",
       "2            0.0    0.0   0.0   0.0    0.0      0.0             0.0   \n",
       "3            0.0    0.0   0.0   0.0    0.0      0.0             0.0   \n",
       "4            0.0    0.0   0.0   0.0    0.0      0.0             0.0   \n",
       "\n",
       "   alfa_romeo  mitsubishi  audi  kia  volvo  skoda  nissan  citroen  toyota  \\\n",
       "0         0.0         0.0   0.0  0.0    0.0    0.0     0.0      0.0     0.0   \n",
       "1         0.0         0.0   0.0  0.0    0.0    0.0     0.0      0.0     0.0   \n",
       "2         0.0         0.0   0.0  0.0    0.0    0.0     0.0      0.0     0.0   \n",
       "3         0.0         0.0   0.0  0.0    0.0    0.0     0.0      0.0     0.0   \n",
       "4         0.0         0.0   0.0  0.0    0.0    0.0     0.0      0.0     0.0   \n",
       "\n",
       "   chevrolet  dacia  suzuki  daihatsu  mini  chrysler  porsche  rover  lancia  \\\n",
       "0        0.0    0.0     0.0       0.0   0.0       0.0      0.0    0.0     0.0   \n",
       "1        0.0    0.0     0.0       0.0   0.0       0.0      0.0    0.0     0.0   \n",
       "2        0.0    0.0     0.0       0.0   0.0       0.0      0.0    0.0     0.0   \n",
       "3        0.0    0.0     0.0       0.0   0.0       0.0      0.0    0.0     0.0   \n",
       "4        0.0    0.0     0.0       0.0   0.0       0.0      0.0    0.0     0.0   \n",
       "\n",
       "   daewoo  subaru  jaguar  saab  land_rover  trabant  lada  Registration  \\\n",
       "0     0.0     0.0     0.0   0.0         0.0      0.0   0.0        4243.0   \n",
       "1     0.0     0.0     0.0   0.0         0.0      0.0   0.0        5403.0   \n",
       "2     0.0     0.0     0.0   0.0         0.0      0.0   0.0        7491.0   \n",
       "3     0.0     0.0     0.0   0.0         0.0      0.0   0.0        4261.0   \n",
       "4     0.0     0.0     0.0   0.0         0.0      0.0   0.0        6650.0   \n",
       "\n",
       "   manuell  3er  2_reihe  3_reihe  c_max  5er  e_klasse  kadett  1er  \\\n",
       "0      0.0  0.0      0.0      0.0    0.0  0.0       0.0     0.0  0.0   \n",
       "1      1.0  0.0      0.0      0.0    0.0  0.0       0.0     0.0  0.0   \n",
       "2      1.0  1.0      0.0      0.0    0.0  0.0       0.0     0.0  0.0   \n",
       "3      1.0  0.0      1.0      0.0    0.0  0.0       0.0     0.0  0.0   \n",
       "4      1.0  0.0      0.0      0.0    0.0  0.0       0.0     0.0  0.0   \n",
       "\n",
       "   b_klasse  signum  jetta  156  c_klasse   a1  insignia  7er  147  z_reihe  \\\n",
       "0       0.0     0.0    0.0  0.0       0.0  0.0       0.0  0.0  0.0      0.0   \n",
       "1       0.0     0.0    0.0  0.0       0.0  0.0       0.0  0.0  0.0      0.0   \n",
       "2       0.0     0.0    0.0  0.0       0.0  0.0       0.0  0.0  0.0      0.0   \n",
       "3       0.0     0.0    0.0  0.0       0.0  0.0       0.0  0.0  0.0      0.0   \n",
       "4       0.0     0.0    0.0  0.0       0.0  0.0       0.0  0.0  0.0      0.0   \n",
       "\n",
       "   sorento  v40  mustang  eos  getz  almera  r19  m_klasse  i_reihe  espace  \\\n",
       "0      0.0  0.0      0.0  0.0   0.0     0.0  0.0       0.0      0.0     0.0   \n",
       "1      0.0  0.0      0.0  0.0   0.0     0.0  0.0       0.0      0.0     0.0   \n",
       "2      0.0  0.0      0.0  0.0   0.0     0.0  0.0       0.0      0.0     0.0   \n",
       "3      0.0  0.0      0.0  0.0   0.0     0.0  0.0       0.0      0.0     0.0   \n",
       "4      0.0  0.0      0.0  0.0   0.0     0.0  0.0       0.0      0.0     0.0   \n",
       "\n",
       "   6_reihe  a_klasse  5_reihe  yeti  rx_reihe  matiz  panda   c1  touareg  \\\n",
       "0      0.0       0.0      0.0   0.0       0.0    0.0    0.0  0.0      0.0   \n",
       "1      0.0       0.0      0.0   0.0       0.0    0.0    0.0  0.0      0.0   \n",
       "2      0.0       0.0      0.0   0.0       0.0    0.0    0.0  0.0      0.0   \n",
       "3      0.0       0.0      0.0   0.0       0.0    0.0    0.0  0.0      0.0   \n",
       "4      0.0       0.0      0.0   0.0       0.0    0.0    0.0  0.0      0.0   \n",
       "\n",
       "   logan  spider  cuore  s_max  modus  x_reihe  viano  1_reihe   c4  avensis  \\\n",
       "0    0.0     0.0    0.0    0.0    0.0      0.0    0.0      0.0  0.0      0.0   \n",
       "1    0.0     0.0    0.0    0.0    0.0      0.0    0.0      0.0  0.0      0.0   \n",
       "2    0.0     0.0    0.0    0.0    0.0      0.0    0.0      0.0  0.0      0.0   \n",
       "3    0.0     0.0    0.0    0.0    0.0      0.0    0.0      0.0  0.0      0.0   \n",
       "4    0.0     0.0    0.0    0.0    0.0      0.0    0.0      0.0  0.0      0.0   \n",
       "\n",
       "    sl   q5  kaefer  santa  sportage   a8  glk  primera  s_klasse   a2  \\\n",
       "0  0.0  0.0     0.0    0.0       0.0  0.0  0.0      0.0       0.0  0.0   \n",
       "1  0.0  0.0     0.0    0.0       0.0  0.0  0.0      0.0       0.0  0.0   \n",
       "2  0.0  0.0     0.0    0.0       0.0  0.0  0.0      0.0       0.0  0.0   \n",
       "3  0.0  0.0     0.0    0.0       0.0  0.0  0.0      0.0       0.0  0.0   \n",
       "4  0.0  0.0     0.0    0.0       0.0  0.0  0.0      0.0       0.0  0.0   \n",
       "\n",
       "   scirocco  159  qashqai  carisma  accord  phaeton  cordoba  verso  swift  \\\n",
       "0       0.0  0.0      0.0      0.0     0.0      0.0      0.0    0.0    0.0   \n",
       "1       0.0  0.0      0.0      0.0     0.0      0.0      0.0    0.0    0.0   \n",
       "2       0.0  0.0      0.0      0.0     0.0      0.0      0.0    0.0    0.0   \n",
       "3       0.0  0.0      0.0      0.0     0.0      0.0      0.0    0.0    0.0   \n",
       "4       0.0  0.0      0.0      0.0     0.0      0.0      0.0    0.0    0.0   \n",
       "\n",
       "   rav  kuga  picanto  boxster  superb  stilo  alhambra  911  mx_reihe  \\\n",
       "0  0.0   0.0      0.0      0.0     0.0    0.0       0.0  0.0       0.0   \n",
       "1  0.0   0.0      0.0      0.0     0.0    0.0       0.0  0.0       0.0   \n",
       "2  0.0   0.0      0.0      0.0     0.0    0.0       0.0  0.0       0.0   \n",
       "3  0.0   0.0      0.0      0.0     0.0    0.0       0.0  0.0       0.0   \n",
       "4  0.0   0.0      0.0      0.0     0.0    0.0       0.0  0.0       0.0   \n",
       "\n",
       "   m_reihe  transit  ypsilon  galant  justy   c3  agila  duster  4_reihe  v50  \\\n",
       "0      0.0      0.0      0.0     0.0    0.0  0.0    0.0     0.0      0.0  0.0   \n",
       "1      0.0      0.0      0.0     0.0    0.0  0.0    0.0     0.0      0.0  0.0   \n",
       "2      0.0      0.0      0.0     0.0    0.0  0.0    0.0     0.0      0.0  0.0   \n",
       "3      0.0      0.0      0.0     0.0    0.0  0.0    0.0     0.0      0.0  0.0   \n",
       "4      0.0      0.0      0.0     0.0    0.0  0.0    0.0     0.0      0.0  0.0   \n",
       "\n",
       "   c_reihe  v_klasse  rio  seicento   cc  carnival  forfour  sprinter  jazz  \\\n",
       "0      0.0       0.0  0.0       0.0  0.0       0.0      0.0       0.0   0.0   \n",
       "1      0.0       0.0  0.0       0.0  0.0       0.0      0.0       0.0   0.0   \n",
       "2      0.0       0.0  0.0       0.0  0.0       0.0      0.0       0.0   0.0   \n",
       "3      0.0       0.0  0.0       0.0  0.0       0.0      0.0       0.0   0.0   \n",
       "4      0.0       0.0  0.0       0.0  0.0       0.0      0.0       0.0   0.0   \n",
       "\n",
       "   ptcruiser   q3  cr_reihe  xc_reihe  spark  v70  impreza  ducato  x_trail  \\\n",
       "0        0.0  0.0       0.0       0.0    0.0  0.0      0.0     0.0      0.0   \n",
       "1        0.0  0.0       0.0       0.0    0.0  0.0      0.0     0.0      0.0   \n",
       "2        0.0  0.0       0.0       0.0    0.0  0.0      0.0     0.0      0.0   \n",
       "3        0.0  0.0       0.0       0.0    0.0  0.0      0.0     0.0      0.0   \n",
       "4        0.0  0.0       0.0       0.0    0.0  0.0      0.0     0.0      0.0   \n",
       "\n",
       "   toledo  altea  calibra  bravo   c5  ceed   q7  combo  s_type  captiva  \\\n",
       "0     0.0    0.0      0.0    0.0  0.0   0.0  0.0    0.0     0.0      0.0   \n",
       "1     0.0    0.0      0.0    0.0  0.0   0.0  0.0    0.0     0.0      0.0   \n",
       "2     0.0    0.0      0.0    0.0  0.0   0.0  0.0    0.0     0.0      0.0   \n",
       "3     0.0    0.0      0.0    0.0  0.0   0.0  0.0    0.0     0.0      0.0   \n",
       "4     0.0    0.0      0.0    0.0  0.0   0.0  0.0    0.0     0.0      0.0   \n",
       "\n",
       "   fusion  cayenne   c2  range_rover_evoque  freelander  aygo  sandero  note  \\\n",
       "0     0.0      0.0  0.0                 0.0         0.0   0.0      0.0   0.0   \n",
       "1     0.0      0.0  0.0                 0.0         0.0   0.0      0.0   0.0   \n",
       "2     0.0      0.0  0.0                 0.0         0.0   0.0      0.0   0.0   \n",
       "3     0.0      0.0  0.0                 0.0         0.0   0.0      0.0   0.0   \n",
       "4     0.0      0.0  0.0                 0.0         0.0   0.0      0.0   0.0   \n",
       "\n",
       "   mii  900  lancer  forester  601  pajero  cx_reihe  voyager  sirion  s60  \\\n",
       "0  0.0  0.0     0.0       0.0  0.0     0.0       0.0      0.0     0.0  0.0   \n",
       "1  0.0  0.0     0.0       0.0  0.0     0.0       0.0      0.0     0.0  0.0   \n",
       "2  0.0  0.0     0.0       0.0  0.0     0.0       0.0      0.0     0.0  0.0   \n",
       "3  0.0  0.0     0.0       0.0  0.0     0.0       0.0      0.0     0.0  0.0   \n",
       "4  0.0  0.0     0.0       0.0  0.0     0.0       0.0      0.0     0.0  0.0   \n",
       "\n",
       "   clubman  vivaro  lanos  tucson  auris  cherokee  jimny  roomster  x_type  \\\n",
       "0      0.0     0.0    0.0     0.0    0.0       0.0    0.0       0.0     0.0   \n",
       "1      0.0     0.0    0.0     0.0    0.0       0.0    0.0       0.0     0.0   \n",
       "2      0.0     0.0    0.0     0.0    0.0       0.0    0.0       0.0     0.0   \n",
       "3      0.0     0.0    0.0     0.0    0.0       0.0    0.0       0.0     0.0   \n",
       "4      0.0     0.0    0.0     0.0    0.0       0.0    0.0       0.0     0.0   \n",
       "\n",
       "   850  citigo  crossfire  juke  outlander  doblo  move  v60  145  6er  lybra  \\\n",
       "0  0.0     0.0        0.0   0.0        0.0    0.0   0.0  0.0  0.0  0.0    0.0   \n",
       "1  0.0     0.0        0.0   0.0        0.0    0.0   0.0  0.0  0.0  0.0    0.0   \n",
       "2  0.0     0.0        0.0   0.0        0.0    0.0   0.0  0.0  0.0  0.0    0.0   \n",
       "3  0.0     0.0        0.0   0.0        0.0    0.0   0.0  0.0  0.0  0.0    0.0   \n",
       "4  0.0     0.0        0.0   0.0        0.0    0.0   0.0  0.0  0.0  0.0    0.0   \n",
       "\n",
       "   niva  antara  b_max  300c  kalos  exeo  discovery  aveo  range_rover_sport  \\\n",
       "0   0.0     0.0    0.0   0.0    0.0   0.0        0.0   0.0                0.0   \n",
       "1   0.0     0.0    0.0   0.0    0.0   0.0        0.0   0.0                0.0   \n",
       "2   0.0     0.0    0.0   0.0    0.0   0.0        0.0   0.0                0.0   \n",
       "3   0.0     0.0    0.0   0.0    0.0   0.0        0.0   0.0                0.0   \n",
       "4   0.0     0.0    0.0   0.0    0.0   0.0        0.0   0.0                0.0   \n",
       "\n",
       "   nubira  croma  legacy  wrangler  navara  lodgy  amarok  g_klasse  defender  \\\n",
       "0     0.0    0.0     0.0       0.0     0.0    0.0     0.0       0.0       0.0   \n",
       "1     0.0    0.0     0.0       0.0     0.0    0.0     0.0       0.0       0.0   \n",
       "2     0.0    0.0     0.0       0.0     0.0    0.0     0.0       0.0       0.0   \n",
       "3     0.0    0.0     0.0       0.0     0.0    0.0     0.0       0.0       0.0   \n",
       "4     0.0    0.0     0.0       0.0     0.0    0.0     0.0       0.0       0.0   \n",
       "\n",
       "   musa  Bayern  Nordrhein-Westfalen  Rheinland-Pfalz  Niedersachsen  Hessen  \\\n",
       "0   0.0     1.0                  0.0              0.0            0.0     0.0   \n",
       "1   0.0     1.0                  0.0              0.0            0.0     0.0   \n",
       "2   0.0     0.0                  1.0              0.0            0.0     0.0   \n",
       "3   0.0     0.0                  0.0              1.0            0.0     0.0   \n",
       "4   0.0     0.0                  0.0              0.0            1.0     0.0   \n",
       "\n",
       "   Sachsen-Anhalt  Baden-Württemberg  Sachsen  Berlin  Mecklenburg-Vorpommern  \\\n",
       "0             0.0                0.0      0.0     0.0                     0.0   \n",
       "1             0.0                0.0      0.0     0.0                     0.0   \n",
       "2             0.0                0.0      0.0     0.0                     0.0   \n",
       "3             0.0                0.0      0.0     0.0                     0.0   \n",
       "4             0.0                0.0      0.0     0.0                     0.0   \n",
       "\n",
       "   Hamburg  Schleswig-Holstein  Thüringen  Saarland  Brandenburg  Bremen  \n",
       "0      0.0                 0.0        0.0       0.0          0.0     0.0  \n",
       "1      0.0                 0.0        0.0       0.0          0.0     0.0  \n",
       "2      0.0                 0.0        0.0       0.0          0.0     0.0  \n",
       "3      0.0                 0.0        0.0       0.0          0.0     0.0  \n",
       "4      0.0                 0.0        0.0       0.0          0.0     0.0  "
      ]
     },
     "execution_count": 154,
     "metadata": {},
     "output_type": "execute_result"
    }
   ],
   "source": [
    "df.head()"
   ]
  },
  {
   "cell_type": "markdown",
   "metadata": {},
   "source": [
    "### var: Label"
   ]
  },
  {
   "cell_type": "code",
   "execution_count": 155,
   "metadata": {},
   "outputs": [
    {
     "data": {
      "text/plain": [
       "250152"
      ]
     },
     "execution_count": 155,
     "metadata": {},
     "output_type": "execute_result"
    }
   ],
   "source": [
    "len(df)"
   ]
  },
  {
   "cell_type": "code",
   "execution_count": 156,
   "metadata": {},
   "outputs": [
    {
     "data": {
      "text/plain": [
       "0"
      ]
     },
     "execution_count": 156,
     "metadata": {},
     "output_type": "execute_result"
    }
   ],
   "source": [
    "sum(df.loc[:,'label'].isnull())"
   ]
  },
  {
   "cell_type": "code",
   "execution_count": 157,
   "metadata": {
    "scrolled": true
   },
   "outputs": [],
   "source": [
    "df.drop(df.loc[df.loc[:,'label'].isnull(),:].index,inplace=True)"
   ]
  },
  {
   "cell_type": "code",
   "execution_count": 158,
   "metadata": {},
   "outputs": [
    {
     "data": {
      "text/plain": [
       "0"
      ]
     },
     "execution_count": 158,
     "metadata": {},
     "output_type": "execute_result"
    }
   ],
   "source": [
    "sum(df.loc[:,'label'].isnull())"
   ]
  },
  {
   "cell_type": "markdown",
   "metadata": {},
   "source": [
    "## Clean dataset"
   ]
  },
  {
   "cell_type": "raw",
   "metadata": {},
   "source": [
    "from sklearn.model_selection import train_test_split"
   ]
  },
  {
   "cell_type": "code",
   "execution_count": 7,
   "metadata": {},
   "outputs": [],
   "source": [
    "var_target = 'label'\n",
    "variables = pd.read_csv('variables2.csv',names=['var'])\n",
    "variables = variables['var'].values.tolist()"
   ]
  },
  {
   "cell_type": "code",
   "execution_count": 5,
   "metadata": {},
   "outputs": [],
   "source": [
    "variables = pd.read_csv('variables2.csv',names=['var'])\n",
    "variables = variables['var'].values.tolist()\n",
    "var_target = 'label'"
   ]
  },
  {
   "cell_type": "code",
   "execution_count": 6,
   "metadata": {},
   "outputs": [],
   "source": [
    "df_train = pd.read_csv('df_train_clean.csv').astype(dtype=np.float32)\n",
    "df_test = pd.read_csv('df_test_clean.csv').astype(dtype=np.float32)\n",
    "fnames =  df_train[variables].columns.values.tolist()"
   ]
  },
  {
   "cell_type": "code",
   "execution_count": 7,
   "metadata": {},
   "outputs": [],
   "source": [
    "variables = df_train.columns.values.tolist()\n",
    "variables.remove('label')"
   ]
  },
  {
   "cell_type": "code",
   "execution_count": 8,
   "metadata": {},
   "outputs": [
    {
     "data": {
      "text/plain": [
       "541"
      ]
     },
     "execution_count": 8,
     "metadata": {},
     "output_type": "execute_result"
    }
   ],
   "source": [
    "len(variables)"
   ]
  },
  {
   "cell_type": "code",
   "execution_count": 9,
   "metadata": {},
   "outputs": [],
   "source": [
    "fnames =  df_train[variables].columns.values.tolist()"
   ]
  },
  {
   "cell_type": "code",
   "execution_count": 10,
   "metadata": {},
   "outputs": [],
   "source": [
    "train_dmatr = xgb.DMatrix(df_train[variables].values, label=df_train[var_target].values, feature_names = fnames)\n",
    "test_dmatr = xgb.DMatrix(df_test[variables].values, feature_names = fnames)"
   ]
  },
  {
   "cell_type": "code",
   "execution_count": 10,
   "metadata": {},
   "outputs": [],
   "source": [
    "#weight\n",
    "scale_pos_weight = np.sum(df_train.loc[:,[var_target]] == 0).values[0]/np.sum(df_train.loc[:,[var_target]] == 1).values[0]\n",
    "spw_lt = [scale_pos_weight*0.9,scale_pos_weight,scale_pos_weight*1.1]\n",
    "spw_exact = [scale_pos_weight]\n",
    "#manual\n",
    "spw_exact_tune = [scale_pos_weight*1.1]"
   ]
  },
  {
   "cell_type": "code",
   "execution_count": 5,
   "metadata": {},
   "outputs": [],
   "source": [
    "#df.to_csv('df_train_clean.csv',index=False)"
   ]
  },
  {
   "cell_type": "markdown",
   "metadata": {},
   "source": [
    "# XGBoost"
   ]
  },
  {
   "cell_type": "markdown",
   "metadata": {},
   "source": [
    "# Data"
   ]
  },
  {
   "cell_type": "code",
   "execution_count": null,
   "metadata": {},
   "outputs": [],
   "source": [
    "X = df.loc[:,[*variables]]\n",
    "y = df.loc[:,[var_target]].values.ravel()"
   ]
  },
  {
   "cell_type": "markdown",
   "metadata": {},
   "source": [
    "### Kfold"
   ]
  },
  {
   "cell_type": "code",
   "execution_count": 163,
   "metadata": {},
   "outputs": [],
   "source": [
    "kfold = StratifiedKFold(n_splits=3, shuffle=True, random_state=7)"
   ]
  },
  {
   "cell_type": "code",
   "execution_count": 164,
   "metadata": {},
   "outputs": [],
   "source": [
    "import sklearn.metrics.scorer\n",
    "from sklearn.metrics.scorer import recall_scorer\n",
    "from sklearn.metrics.scorer import precision_scorer\n",
    "from sklearn.metrics.scorer import roc_auc_scorer"
   ]
  },
  {
   "cell_type": "code",
   "execution_count": 165,
   "metadata": {},
   "outputs": [],
   "source": [
    "nomr = 0\n",
    "mnomr = 0\n",
    "pmrs = True\n",
    "\n",
    "lscorer = [recall_scorer,precision_scorer,roc_auc_scorer]\n",
    "dscorer = {0:'recall_scorer',1:'precision_scorer',2:'roc_auc_scorer'}\n",
    "scorer = 2\n",
    "\n",
    "def resetrcount():\n",
    "    global nomr\n",
    "    global mnomr\n",
    "    nomr = 0\n",
    "    mnomr = 0   \n",
    "def setmaxnomr(inmax):\n",
    "    global mnomr\n",
    "    mnomr = inmax\n",
    "\n",
    "def my_scorer(*args):\n",
    "    score = lscorer[scorer](*args)\n",
    "    global pmrs\n",
    "    if pmrs:\n",
    "        global nomr\n",
    "        nomr += 1\n",
    "        clear_output(wait=True)\n",
    "        print('{}/{} - {}:{}'.format(nomr,mnomr,dscorer[scorer],score))\n",
    "    pmrs = not pmrs\n",
    "    return score"
   ]
  },
  {
   "cell_type": "code",
   "execution_count": 166,
   "metadata": {},
   "outputs": [],
   "source": [
    "scale_pos_weight = np.sum(df.loc[:,[var_target]] == 0).values[0]/np.sum(df.loc[:,[var_target]] == 1).values[0]\n",
    "spw_lt = [scale_pos_weight*0.9,scale_pos_weight,scale_pos_weight*1.1]\n",
    "spw_exact = [scale_pos_weight]\n",
    "spw_exact_tune = [scale_pos_weight*1.1]"
   ]
  },
  {
   "cell_type": "code",
   "execution_count": 167,
   "metadata": {},
   "outputs": [],
   "source": [
    "### GPU\n",
    "xgb_param = {'objective':'binary:logistic','tree_method':'gpu_hist','predictor':'gpu_predictor','seed':52,'n_jobs':-1,'eval_metric':'logloss'}\n",
    "grid_params = {'cv' : kfold,'scoring':my_scorer, 'return_train_score':True}"
   ]
  },
  {
   "cell_type": "raw",
   "metadata": {},
   "source": [
    "### CPU\n",
    "xgb_param = {'objective':'binary:logistic','seed':52,'n_jobs':-1}\n",
    "grid_params = {'cv' : kfold, 'return_train_score' : True,'scoring':'recall', 'verbose':2}"
   ]
  },
  {
   "cell_type": "code",
   "execution_count": 168,
   "metadata": {},
   "outputs": [],
   "source": [
    "cv_params = {'n_estimators':[200],'max_depth': [10,12,15,17,20,25],'scale_pos_weight':spw_exact_tune,\n",
    "             'min_child_weight': [100],'learning_rate': [0.2],'subsample': [0.5],\n",
    "             'colsample_bytree': [0.5], 'gamma':[0.5]}"
   ]
  },
  {
   "cell_type": "code",
   "execution_count": 169,
   "metadata": {},
   "outputs": [],
   "source": [
    "def gkombfrlist(lov):\n",
    "    letrs = 'ABCDEFGHIJKLMNOPKRSTUVWXYZ'\n",
    "    glist = []\n",
    "    for i in range(len(lov)):\n",
    "        tgl = []\n",
    "        for n in range(lov[i]):\n",
    "            tgl.append('{}{}'.format(letrs[i],n))\n",
    "        glist.append(tgl)\n",
    "    return list(itertools.product(*glist))"
   ]
  },
  {
   "cell_type": "code",
   "execution_count": 170,
   "metadata": {},
   "outputs": [
    {
     "data": {
      "text/plain": [
       "6"
      ]
     },
     "execution_count": 170,
     "metadata": {},
     "output_type": "execute_result"
    }
   ],
   "source": [
    "len(gkombfrlist([len(x) for x in cv_params.values()]))"
   ]
  },
  {
   "cell_type": "markdown",
   "metadata": {},
   "source": [
    "### Model"
   ]
  },
  {
   "cell_type": "code",
   "execution_count": 171,
   "metadata": {},
   "outputs": [],
   "source": [
    "model = xgb.XGBClassifier(**xgb_param)\n",
    "optimized_GBM = GridSearchCV(model, cv_params, **grid_params)"
   ]
  },
  {
   "cell_type": "code",
   "execution_count": 172,
   "metadata": {},
   "outputs": [],
   "source": [
    "#Score hack\n",
    "resetrcount()\n",
    "setmaxnomr(len(gkombfrlist([len(x) for x in cv_params.values()]))*kfold.n_splits)"
   ]
  },
  {
   "cell_type": "code",
   "execution_count": null,
   "metadata": {},
   "outputs": [
    {
     "name": "stdout",
     "output_type": "stream",
     "text": [
      "9/18 - roc_auc_scorer:0.8189955911233131\n"
     ]
    }
   ],
   "source": [
    "tst = time.ctime()\n",
    "tmp = time.time()\n",
    "optimized_GBM.fit(X, y)\n",
    "tres = time.time() - tmp\n",
    "print(\"GPU Training Time: %s seconds\" % (str(tres)))\n",
    "print('Start: {}'.format(tst))\n",
    "print('Start: {}'.format(time.ctime()))"
   ]
  },
  {
   "cell_type": "markdown",
   "metadata": {},
   "source": [
    "### XGBoost fine tuning"
   ]
  },
  {
   "cell_type": "code",
   "execution_count": 782,
   "metadata": {},
   "outputs": [],
   "source": [
    "from xgboost.sklearn import XGBClassifier"
   ]
  },
  {
   "cell_type": "code",
   "execution_count": 783,
   "metadata": {
    "scrolled": true
   },
   "outputs": [
    {
     "name": "stdout",
     "output_type": "stream",
     "text": [
      "43 label\n"
     ]
    }
   ],
   "source": [
    "print(len(variables),var_target)"
   ]
  },
  {
   "cell_type": "code",
   "execution_count": 784,
   "metadata": {},
   "outputs": [],
   "source": [
    "scale_pos_weight = np.sum(df.loc[:,[var_target]] == 0).values[0]/np.sum(df.loc[:,[var_target]] == 1).values[0]\n",
    "spw_lt = [scale_pos_weight*0.9,scale_pos_weight,scale_pos_weight*1.1]\n",
    "spw_exact = [scale_pos_weight]"
   ]
  },
  {
   "cell_type": "code",
   "execution_count": 785,
   "metadata": {},
   "outputs": [],
   "source": [
    "scale_pos_weight = np.float32(spw_exact[0])"
   ]
  },
  {
   "cell_type": "code",
   "execution_count": 11,
   "metadata": {},
   "outputs": [],
   "source": [
    "fparams = {'eta': 0.1, 'seed':52, 'subsample': 0.9, 'colsample_bytree': 0.9,\n",
    "           'objective': 'binary:logistic', 'max_depth':16, 'min_child_weight':17,\n",
    "           'scale_pos_weight':1.5, 'tree_method' : 'auto', 'gamma':0.3\n",
    "          } "
   ]
  },
  {
   "cell_type": "code",
   "execution_count": 670,
   "metadata": {},
   "outputs": [
    {
     "name": "stdout",
     "output_type": "stream",
     "text": [
      "peak memory: 5457.99 MiB, increment: 0.00 MiB\n"
     ]
    }
   ],
   "source": [
    "%memit"
   ]
  },
  {
   "cell_type": "code",
   "execution_count": 671,
   "metadata": {},
   "outputs": [],
   "source": [
    "fnames =  df[variables].columns.values.tolist()\n",
    "xgmtr = xgb.DMatrix(df[variables].values, label=df[var_target].values, feature_names = fnames)"
   ]
  },
  {
   "cell_type": "code",
   "execution_count": 672,
   "metadata": {},
   "outputs": [
    {
     "name": "stdout",
     "output_type": "stream",
     "text": [
      "peak memory: 5458.01 MiB, increment: 0.00 MiB\n"
     ]
    }
   ],
   "source": [
    "%memit"
   ]
  },
  {
   "cell_type": "code",
   "execution_count": null,
   "metadata": {
    "scrolled": true
   },
   "outputs": [],
   "source": [
    "cv_xgbm = xgb.cv(params = fparams, dtrain = train_dmatr, num_boost_round = 3000, nfold = 5, metrics = ['auc'], \n",
    "                early_stopping_rounds = 100,  verbose_eval=True)"
   ]
  },
  {
   "cell_type": "code",
   "execution_count": 177,
   "metadata": {},
   "outputs": [
    {
     "data": {
      "text/plain": [
       "964    0.856624\n",
       "Name: test-auc-mean, dtype: float64"
      ]
     },
     "execution_count": 177,
     "metadata": {},
     "output_type": "execute_result"
    }
   ],
   "source": [
    "filt_cv_res = cv_xgbm['test-auc-mean'] == cv_xgbm['test-auc-mean'].max()\n",
    "cv_xgbm.loc[filt_cv_res,'test-auc-mean']"
   ]
  },
  {
   "cell_type": "code",
   "execution_count": 11,
   "metadata": {
    "scrolled": true
   },
   "outputs": [
    {
     "name": "stdout",
     "output_type": "stream",
     "text": [
      "[0]\teval-error:0.283648\n",
      "[1]\teval-error:0.272302\n",
      "[2]\teval-error:0.265083\n",
      "[3]\teval-error:0.262532\n",
      "[4]\teval-error:0.259858\n",
      "[5]\teval-error:0.259382\n",
      "[6]\teval-error:0.258135\n",
      "[7]\teval-error:0.257731\n",
      "[8]\teval-error:0.256224\n",
      "[9]\teval-error:0.254217\n",
      "[10]\teval-error:0.253206\n",
      "[11]\teval-error:0.251883\n",
      "[12]\teval-error:0.250995\n",
      "[13]\teval-error:0.249356\n",
      "[14]\teval-error:0.248457\n",
      "[15]\teval-error:0.247014\n",
      "[16]\teval-error:0.246282\n",
      "[17]\teval-error:0.245283\n",
      "[18]\teval-error:0.243784\n",
      "[19]\teval-error:0.243148\n",
      "[20]\teval-error:0.241805\n",
      "[21]\teval-error:0.241237\n",
      "[22]\teval-error:0.239454\n",
      "[23]\teval-error:0.238923\n",
      "[24]\teval-error:0.237296\n",
      "[25]\teval-error:0.23632\n",
      "[26]\teval-error:0.235617\n",
      "[27]\teval-error:0.234921\n",
      "[28]\teval-error:0.234182\n",
      "[29]\teval-error:0.233562\n",
      "[30]\teval-error:0.232846\n",
      "[31]\teval-error:0.232083\n",
      "[32]\teval-error:0.231691\n",
      "[33]\teval-error:0.231343\n",
      "[34]\teval-error:0.230612\n",
      "[35]\teval-error:0.23012\n",
      "[36]\teval-error:0.229293\n",
      "[37]\teval-error:0.229005\n",
      "[38]\teval-error:0.228681\n",
      "[39]\teval-error:0.228237\n",
      "[40]\teval-error:0.22751\n",
      "[41]\teval-error:0.226418\n",
      "[42]\teval-error:0.226015\n",
      "[43]\teval-error:0.225675\n",
      "[44]\teval-error:0.225339\n",
      "[45]\teval-error:0.224875\n",
      "[46]\teval-error:0.224448\n",
      "[47]\teval-error:0.223872\n",
      "[48]\teval-error:0.2234\n",
      "[49]\teval-error:0.222645\n",
      "[50]\teval-error:0.222037\n",
      "[51]\teval-error:0.221965\n",
      "[52]\teval-error:0.221457\n",
      "[53]\teval-error:0.220874\n",
      "[54]\teval-error:0.220486\n",
      "[55]\teval-error:0.220134\n",
      "[56]\teval-error:0.219738\n",
      "[57]\teval-error:0.219343\n",
      "[58]\teval-error:0.219083\n",
      "[59]\teval-error:0.217872\n",
      "[60]\teval-error:0.21722\n",
      "[61]\teval-error:0.216672\n",
      "[62]\teval-error:0.216145\n",
      "[63]\teval-error:0.215893\n",
      "[64]\teval-error:0.215481\n",
      "[65]\teval-error:0.214921\n",
      "[66]\teval-error:0.21461\n",
      "[67]\teval-error:0.214266\n",
      "[68]\teval-error:0.21363\n",
      "[69]\teval-error:0.213462\n",
      "[70]\teval-error:0.213542\n",
      "[71]\teval-error:0.213126\n",
      "[72]\teval-error:0.212923\n",
      "[73]\teval-error:0.212147\n",
      "[74]\teval-error:0.211423\n",
      "[75]\teval-error:0.211132\n",
      "[76]\teval-error:0.210908\n",
      "[77]\teval-error:0.210688\n",
      "[78]\teval-error:0.21038\n",
      "[79]\teval-error:0.210064\n",
      "[80]\teval-error:0.209637\n",
      "[81]\teval-error:0.209033\n",
      "[82]\teval-error:0.208641\n",
      "[83]\teval-error:0.208549\n",
      "[84]\teval-error:0.20789\n",
      "[85]\teval-error:0.20765\n",
      "[86]\teval-error:0.207242\n",
      "[87]\teval-error:0.206942\n",
      "[88]\teval-error:0.206486\n",
      "[89]\teval-error:0.206303\n",
      "[90]\teval-error:0.206035\n",
      "[91]\teval-error:0.205819\n",
      "[92]\teval-error:0.205651\n",
      "[93]\teval-error:0.205635\n",
      "[94]\teval-error:0.205399\n",
      "[95]\teval-error:0.204971\n",
      "[96]\teval-error:0.204855\n",
      "[97]\teval-error:0.204572\n",
      "[98]\teval-error:0.204148\n",
      "[99]\teval-error:0.203968\n",
      "[100]\teval-error:0.203644\n",
      "[101]\teval-error:0.203208\n",
      "[102]\teval-error:0.202917\n",
      "[103]\teval-error:0.202681\n",
      "[104]\teval-error:0.202081\n",
      "[105]\teval-error:0.201681\n",
      "[106]\teval-error:0.201517\n",
      "[107]\teval-error:0.201146\n",
      "[108]\teval-error:0.20099\n",
      "[109]\teval-error:0.20081\n",
      "[110]\teval-error:0.200658\n",
      "[111]\teval-error:0.20033\n",
      "[112]\teval-error:0.200238\n",
      "[113]\teval-error:0.199339\n",
      "[114]\teval-error:0.199231\n",
      "[115]\teval-error:0.199027\n",
      "[116]\teval-error:0.198683\n",
      "[117]\teval-error:0.198495\n",
      "[118]\teval-error:0.198052\n",
      "[119]\teval-error:0.197632\n",
      "[120]\teval-error:0.19728\n",
      "[121]\teval-error:0.196976\n",
      "[122]\teval-error:0.196828\n",
      "[123]\teval-error:0.196584\n",
      "[124]\teval-error:0.196257\n",
      "[125]\teval-error:0.196077\n",
      "[126]\teval-error:0.195841\n",
      "[127]\teval-error:0.195373\n",
      "[128]\teval-error:0.195237\n",
      "[129]\teval-error:0.195049\n",
      "[130]\teval-error:0.194818\n",
      "[131]\teval-error:0.194594\n",
      "[132]\teval-error:0.194286\n",
      "[133]\teval-error:0.193922\n",
      "[134]\teval-error:0.193902\n",
      "[135]\teval-error:0.193746\n",
      "[136]\teval-error:0.193614\n",
      "[137]\teval-error:0.19349\n",
      "[138]\teval-error:0.193258\n",
      "[139]\teval-error:0.193067\n",
      "[140]\teval-error:0.192731\n",
      "[141]\teval-error:0.192595\n",
      "[142]\teval-error:0.192383\n",
      "[143]\teval-error:0.192283\n",
      "[144]\teval-error:0.192027\n",
      "[145]\teval-error:0.192055\n",
      "[146]\teval-error:0.191975\n",
      "[147]\teval-error:0.191911\n",
      "[148]\teval-error:0.191743\n",
      "[149]\teval-error:0.191667\n",
      "[150]\teval-error:0.191508\n",
      "[151]\teval-error:0.191504\n",
      "[152]\teval-error:0.191172\n",
      "[153]\teval-error:0.191072\n",
      "[154]\teval-error:0.190944\n",
      "[155]\teval-error:0.190624\n",
      "[156]\teval-error:0.19038\n",
      "[157]\teval-error:0.189957\n",
      "[158]\teval-error:0.189633\n",
      "[159]\teval-error:0.189465\n",
      "[160]\teval-error:0.189301\n",
      "[161]\teval-error:0.189217\n",
      "[162]\teval-error:0.189081\n",
      "[163]\teval-error:0.188857\n",
      "[164]\teval-error:0.188797\n",
      "[165]\teval-error:0.188313\n",
      "[166]\teval-error:0.188218\n",
      "[167]\teval-error:0.188122\n",
      "[168]\teval-error:0.187846\n",
      "[169]\teval-error:0.187678\n",
      "[170]\teval-error:0.187578\n",
      "[171]\teval-error:0.187518\n",
      "[172]\teval-error:0.187322\n",
      "[173]\teval-error:0.187054\n",
      "[174]\teval-error:0.186794\n",
      "[175]\teval-error:0.18669\n",
      "[176]\teval-error:0.186619\n",
      "[177]\teval-error:0.186399\n",
      "[178]\teval-error:0.186283\n",
      "[179]\teval-error:0.185855\n",
      "[180]\teval-error:0.185467\n",
      "[181]\teval-error:0.185371\n",
      "[182]\teval-error:0.185327\n",
      "[183]\teval-error:0.185191\n",
      "[184]\teval-error:0.185024\n",
      "[185]\teval-error:0.184944\n",
      "[186]\teval-error:0.184868\n",
      "[187]\teval-error:0.184832\n",
      "[188]\teval-error:0.184696\n",
      "[189]\teval-error:0.18444\n",
      "[190]\teval-error:0.1843\n",
      "[191]\teval-error:0.1842\n",
      "[192]\teval-error:0.18406\n",
      "[193]\teval-error:0.183976\n",
      "[194]\teval-error:0.183908\n",
      "[195]\teval-error:0.183808\n",
      "[196]\teval-error:0.183724\n",
      "[197]\teval-error:0.183432\n",
      "[198]\teval-error:0.183181\n",
      "[199]\teval-error:0.183097\n",
      "[200]\teval-error:0.182957\n",
      "[201]\teval-error:0.182841\n",
      "[202]\teval-error:0.182513\n",
      "[203]\teval-error:0.182301\n",
      "[204]\teval-error:0.182193\n",
      "[205]\teval-error:0.182129\n",
      "[206]\teval-error:0.181574\n",
      "[207]\teval-error:0.181386\n",
      "[208]\teval-error:0.181322\n",
      "[209]\teval-error:0.181218\n",
      "[210]\teval-error:0.181182\n",
      "[211]\teval-error:0.181186\n",
      "[212]\teval-error:0.181134\n",
      "[213]\teval-error:0.181042\n",
      "[214]\teval-error:0.180902\n",
      "[215]\teval-error:0.180714\n",
      "[216]\teval-error:0.180486\n",
      "[217]\teval-error:0.18039\n",
      "[218]\teval-error:0.180338\n",
      "[219]\teval-error:0.180102\n",
      "[220]\teval-error:0.179923\n",
      "[221]\teval-error:0.179567\n",
      "[222]\teval-error:0.179535\n",
      "[223]\teval-error:0.179207\n",
      "[224]\teval-error:0.179055\n",
      "[225]\teval-error:0.178763\n",
      "[226]\teval-error:0.178747\n",
      "[227]\teval-error:0.178651\n",
      "[228]\teval-error:0.178436\n",
      "[229]\teval-error:0.178248\n",
      "[230]\teval-error:0.178\n",
      "[231]\teval-error:0.177916\n",
      "[232]\teval-error:0.177872\n",
      "[233]\teval-error:0.177792\n",
      "[234]\teval-error:0.17754\n",
      "[235]\teval-error:0.177392\n",
      "[236]\teval-error:0.177196\n",
      "[237]\teval-error:0.176721\n",
      "[238]\teval-error:0.176513\n",
      "[239]\teval-error:0.176557\n",
      "[240]\teval-error:0.176465\n",
      "[241]\teval-error:0.176213\n",
      "[242]\teval-error:0.175865\n",
      "[243]\teval-error:0.175889\n",
      "[244]\teval-error:0.175717\n",
      "[245]\teval-error:0.175485\n",
      "[246]\teval-error:0.175273\n",
      "[247]\teval-error:0.175185\n",
      "[248]\teval-error:0.174966\n",
      "[249]\teval-error:0.174686\n",
      "[250]\teval-error:0.174514\n",
      "[251]\teval-error:0.174522\n",
      "[252]\teval-error:0.174426\n",
      "[253]\teval-error:0.174398\n",
      "[254]\teval-error:0.174338\n",
      "[255]\teval-error:0.174134\n",
      "[256]\teval-error:0.17403\n",
      "[257]\teval-error:0.173854\n",
      "[258]\teval-error:0.173814\n",
      "[259]\teval-error:0.17375\n",
      "[260]\teval-error:0.173303\n",
      "[261]\teval-error:0.173211\n",
      "[262]\teval-error:0.173115\n",
      "[263]\teval-error:0.173067\n",
      "[264]\teval-error:0.172919\n",
      "[265]\teval-error:0.172643\n",
      "[266]\teval-error:0.172543\n",
      "[267]\teval-error:0.172515\n",
      "[268]\teval-error:0.172415\n",
      "[269]\teval-error:0.172379\n",
      "[270]\teval-error:0.172199\n",
      "[271]\teval-error:0.171971\n",
      "[272]\teval-error:0.171923\n",
      "[273]\teval-error:0.17152\n",
      "[274]\teval-error:0.17144\n",
      "[275]\teval-error:0.171216\n",
      "[276]\teval-error:0.171104\n",
      "[277]\teval-error:0.171124\n",
      "[278]\teval-error:0.171092\n",
      "[279]\teval-error:0.170824\n",
      "[280]\teval-error:0.170684\n",
      "[281]\teval-error:0.170732\n",
      "[282]\teval-error:0.170752\n",
      "[283]\teval-error:0.17062\n",
      "[284]\teval-error:0.170584\n",
      "[285]\teval-error:0.170464\n",
      "[286]\teval-error:0.170193\n",
      "[287]\teval-error:0.170089\n",
      "[288]\teval-error:0.170089\n",
      "[289]\teval-error:0.170001\n",
      "[290]\teval-error:0.169889\n",
      "[291]\teval-error:0.169781\n",
      "[292]\teval-error:0.169669\n",
      "[293]\teval-error:0.169665\n",
      "[294]\teval-error:0.169561\n",
      "[295]\teval-error:0.169445\n",
      "[296]\teval-error:0.169257\n",
      "[297]\teval-error:0.168913\n",
      "[298]\teval-error:0.168829\n",
      "[299]\teval-error:0.168689\n",
      "[300]\teval-error:0.168625\n",
      "[301]\teval-error:0.168286\n",
      "[302]\teval-error:0.168234\n",
      "[303]\teval-error:0.168154\n",
      "[304]\teval-error:0.16801\n",
      "[305]\teval-error:0.167842\n",
      "[306]\teval-error:0.167734\n",
      "[307]\teval-error:0.167678\n",
      "[308]\teval-error:0.167574\n",
      "[309]\teval-error:0.167498\n",
      "[310]\teval-error:0.167434\n",
      "[311]\teval-error:0.167354\n",
      "[312]\teval-error:0.167262\n",
      "[313]\teval-error:0.167034\n",
      "[314]\teval-error:0.166807\n",
      "[315]\teval-error:0.166783\n",
      "[316]\teval-error:0.166507\n",
      "[317]\teval-error:0.166263\n",
      "[318]\teval-error:0.166183\n",
      "[319]\teval-error:0.166203\n",
      "[320]\teval-error:0.166031\n"
     ]
    },
    {
     "name": "stdout",
     "output_type": "stream",
     "text": [
      "[321]\teval-error:0.165943\n",
      "[322]\teval-error:0.165791\n",
      "[323]\teval-error:0.165639\n",
      "[324]\teval-error:0.165675\n",
      "[325]\teval-error:0.165531\n",
      "[326]\teval-error:0.165423\n",
      "[327]\teval-error:0.165295\n",
      "[328]\teval-error:0.165196\n",
      "[329]\teval-error:0.16508\n",
      "[330]\teval-error:0.165076\n",
      "[331]\teval-error:0.165064\n",
      "[332]\teval-error:0.16478\n",
      "[333]\teval-error:0.164764\n",
      "[334]\teval-error:0.164584\n",
      "[335]\teval-error:0.164412\n",
      "[336]\teval-error:0.164348\n",
      "[337]\teval-error:0.164352\n",
      "[338]\teval-error:0.164324\n",
      "[339]\teval-error:0.164272\n",
      "[340]\teval-error:0.164176\n",
      "[341]\teval-error:0.163932\n",
      "[342]\teval-error:0.163896\n",
      "[343]\teval-error:0.163876\n",
      "[344]\teval-error:0.16376\n",
      "[345]\teval-error:0.163696\n",
      "[346]\teval-error:0.163621\n",
      "[347]\teval-error:0.163517\n",
      "[348]\teval-error:0.163165\n",
      "[349]\teval-error:0.163105\n",
      "[350]\teval-error:0.163009\n",
      "[351]\teval-error:0.162921\n",
      "[352]\teval-error:0.162797\n",
      "[353]\teval-error:0.162753\n",
      "[354]\teval-error:0.162625\n",
      "[355]\teval-error:0.162649\n",
      "[356]\teval-error:0.162505\n",
      "[357]\teval-error:0.162489\n",
      "[358]\teval-error:0.162433\n",
      "[359]\teval-error:0.162393\n",
      "[360]\teval-error:0.162285\n",
      "[361]\teval-error:0.162093\n",
      "[362]\teval-error:0.162041\n",
      "[363]\teval-error:0.161866\n",
      "[364]\teval-error:0.161682\n",
      "[365]\teval-error:0.161546\n",
      "[366]\teval-error:0.16133\n",
      "[367]\teval-error:0.161274\n",
      "[368]\teval-error:0.161178\n",
      "[369]\teval-error:0.161046\n",
      "[370]\teval-error:0.161006\n",
      "[371]\teval-error:0.16093\n",
      "[372]\teval-error:0.160962\n",
      "[373]\teval-error:0.160822\n",
      "[374]\teval-error:0.160566\n",
      "[375]\teval-error:0.160335\n",
      "[376]\teval-error:0.160271\n",
      "[377]\teval-error:0.160023\n",
      "[378]\teval-error:0.159931\n",
      "[379]\teval-error:0.159863\n",
      "[380]\teval-error:0.159715\n",
      "[381]\teval-error:0.159703\n",
      "[382]\teval-error:0.159487\n",
      "[383]\teval-error:0.159531\n",
      "[384]\teval-error:0.159395\n",
      "[385]\teval-error:0.159139\n",
      "[386]\teval-error:0.159075\n",
      "[387]\teval-error:0.159055\n",
      "[388]\teval-error:0.158927\n",
      "[389]\teval-error:0.158819\n",
      "[390]\teval-error:0.158799\n",
      "[391]\teval-error:0.158719\n",
      "[392]\teval-error:0.158536\n",
      "[393]\teval-error:0.158424\n",
      "[394]\teval-error:0.15824\n",
      "[395]\teval-error:0.158108\n",
      "[396]\teval-error:0.157944\n",
      "[397]\teval-error:0.157924\n",
      "[398]\teval-error:0.157896\n",
      "[399]\teval-error:0.157712\n",
      "[400]\teval-error:0.157596\n",
      "[401]\teval-error:0.15752\n",
      "[402]\teval-error:0.157472\n",
      "[403]\teval-error:0.157332\n",
      "[404]\teval-error:0.157296\n",
      "[405]\teval-error:0.157208\n",
      "[406]\teval-error:0.157092\n",
      "[407]\teval-error:0.156965\n",
      "[408]\teval-error:0.156853\n",
      "[409]\teval-error:0.156797\n",
      "[410]\teval-error:0.156625\n",
      "[411]\teval-error:0.156585\n",
      "[412]\teval-error:0.156497\n",
      "[413]\teval-error:0.156337\n",
      "[414]\teval-error:0.156153\n",
      "[415]\teval-error:0.155997\n",
      "[416]\teval-error:0.155817\n",
      "[417]\teval-error:0.155685\n",
      "[418]\teval-error:0.155693\n",
      "[419]\teval-error:0.155561\n",
      "[420]\teval-error:0.155457\n",
      "[421]\teval-error:0.155326\n",
      "[422]\teval-error:0.15531\n",
      "[423]\teval-error:0.155206\n",
      "[424]\teval-error:0.15513\n",
      "[425]\teval-error:0.154878\n",
      "[426]\teval-error:0.154802\n",
      "[427]\teval-error:0.15479\n",
      "[428]\teval-error:0.154706\n",
      "[429]\teval-error:0.154618\n",
      "[430]\teval-error:0.154522\n",
      "[431]\teval-error:0.15445\n",
      "[432]\teval-error:0.154322\n",
      "[433]\teval-error:0.154218\n",
      "[434]\teval-error:0.154114\n",
      "[435]\teval-error:0.153994\n",
      "[436]\teval-error:0.153798\n",
      "[437]\teval-error:0.153659\n",
      "[438]\teval-error:0.153575\n",
      "[439]\teval-error:0.153523\n",
      "[440]\teval-error:0.153427\n",
      "[441]\teval-error:0.153335\n",
      "[442]\teval-error:0.153107\n",
      "[443]\teval-error:0.153003\n",
      "[444]\teval-error:0.152867\n",
      "[445]\teval-error:0.152811\n",
      "[446]\teval-error:0.152675\n",
      "[447]\teval-error:0.152551\n",
      "[448]\teval-error:0.152495\n",
      "[449]\teval-error:0.152395\n",
      "[450]\teval-error:0.152315\n",
      "[451]\teval-error:0.152267\n",
      "[452]\teval-error:0.152187\n",
      "[453]\teval-error:0.152072\n",
      "[454]\teval-error:0.151848\n",
      "[455]\teval-error:0.151544\n",
      "[456]\teval-error:0.151508\n",
      "[457]\teval-error:0.151432\n",
      "[458]\teval-error:0.15138\n",
      "[459]\teval-error:0.15124\n",
      "[460]\teval-error:0.151208\n",
      "[461]\teval-error:0.151196\n",
      "[462]\teval-error:0.151132\n",
      "[463]\teval-error:0.150976\n",
      "[464]\teval-error:0.150824\n",
      "[465]\teval-error:0.150768\n",
      "[466]\teval-error:0.15062\n",
      "[467]\teval-error:0.150449\n",
      "[468]\teval-error:0.150365\n",
      "[469]\teval-error:0.150309\n",
      "[470]\teval-error:0.150221\n",
      "[471]\teval-error:0.150157\n",
      "[472]\teval-error:0.149897\n",
      "[473]\teval-error:0.149881\n",
      "[474]\teval-error:0.149861\n",
      "[475]\teval-error:0.149749\n",
      "[476]\teval-error:0.149709\n",
      "[477]\teval-error:0.149653\n",
      "[478]\teval-error:0.149513\n",
      "[479]\teval-error:0.149493\n",
      "[480]\teval-error:0.149461\n",
      "[481]\teval-error:0.149461\n",
      "[482]\teval-error:0.149257\n",
      "[483]\teval-error:0.149169\n",
      "[484]\teval-error:0.149049\n",
      "[485]\teval-error:0.148985\n",
      "[486]\teval-error:0.148941\n",
      "[487]\teval-error:0.14875\n",
      "[488]\teval-error:0.148666\n",
      "[489]\teval-error:0.148594\n",
      "[490]\teval-error:0.148674\n",
      "[491]\teval-error:0.148602\n",
      "[492]\teval-error:0.148518\n",
      "[493]\teval-error:0.148398\n",
      "[494]\teval-error:0.148354\n",
      "[495]\teval-error:0.148314\n",
      "[496]\teval-error:0.148282\n",
      "[497]\teval-error:0.148194\n",
      "[498]\teval-error:0.148102\n",
      "[499]\teval-error:0.147998\n",
      "[500]\teval-error:0.147942\n",
      "[501]\teval-error:0.14783\n",
      "[502]\teval-error:0.147714\n",
      "[503]\teval-error:0.14763\n",
      "[504]\teval-error:0.147514\n",
      "[505]\teval-error:0.147442\n",
      "[506]\teval-error:0.14731\n",
      "[507]\teval-error:0.147314\n",
      "[508]\teval-error:0.147298\n",
      "[509]\teval-error:0.147175\n",
      "[510]\teval-error:0.147083\n",
      "[511]\teval-error:0.146919\n",
      "[512]\teval-error:0.146975\n",
      "[513]\teval-error:0.146819\n",
      "[514]\teval-error:0.146807\n",
      "[515]\teval-error:0.146731\n",
      "[516]\teval-error:0.146715\n",
      "[517]\teval-error:0.146619\n",
      "[518]\teval-error:0.146527\n",
      "[519]\teval-error:0.146311\n",
      "[520]\teval-error:0.146195\n",
      "[521]\teval-error:0.145931\n",
      "[522]\teval-error:0.145915\n",
      "[523]\teval-error:0.145831\n",
      "[524]\teval-error:0.145771\n",
      "[525]\teval-error:0.145639\n",
      "[526]\teval-error:0.145476\n",
      "[527]\teval-error:0.145292\n",
      "[528]\teval-error:0.145164\n",
      "[529]\teval-error:0.145064\n",
      "[530]\teval-error:0.1451\n",
      "[531]\teval-error:0.145004\n",
      "[532]\teval-error:0.144936\n",
      "[533]\teval-error:0.144868\n",
      "[534]\teval-error:0.144852\n",
      "[535]\teval-error:0.144808\n",
      "[536]\teval-error:0.14478\n",
      "[537]\teval-error:0.144656\n",
      "[538]\teval-error:0.144568\n",
      "[539]\teval-error:0.144516\n",
      "[540]\teval-error:0.144444\n",
      "[541]\teval-error:0.144328\n",
      "[542]\teval-error:0.144212\n",
      "[543]\teval-error:0.144236\n",
      "[544]\teval-error:0.14412\n",
      "[545]\teval-error:0.144072\n",
      "[546]\teval-error:0.143845\n",
      "[547]\teval-error:0.143713\n",
      "[548]\teval-error:0.143669\n",
      "[549]\teval-error:0.143597\n",
      "[550]\teval-error:0.143541\n",
      "[551]\teval-error:0.143501\n",
      "[552]\teval-error:0.143429\n",
      "[553]\teval-error:0.143321\n",
      "[554]\teval-error:0.143221\n",
      "[555]\teval-error:0.143201\n",
      "[556]\teval-error:0.143141\n",
      "[557]\teval-error:0.143173\n",
      "[558]\teval-error:0.143025\n",
      "[559]\teval-error:0.142969\n",
      "[560]\teval-error:0.142865\n",
      "[561]\teval-error:0.142725\n",
      "[562]\teval-error:0.142597\n",
      "[563]\teval-error:0.142481\n",
      "[564]\teval-error:0.142409\n",
      "[565]\teval-error:0.142425\n",
      "[566]\teval-error:0.142357\n",
      "[567]\teval-error:0.142198\n",
      "[568]\teval-error:0.14215\n",
      "[569]\teval-error:0.142178\n",
      "[570]\teval-error:0.142042\n",
      "[571]\teval-error:0.142022\n",
      "[572]\teval-error:0.141906\n",
      "[573]\teval-error:0.141802\n",
      "[574]\teval-error:0.141762\n",
      "[575]\teval-error:0.141774\n",
      "[576]\teval-error:0.14157\n",
      "[577]\teval-error:0.141586\n",
      "[578]\teval-error:0.141446\n",
      "[579]\teval-error:0.141346\n",
      "[580]\teval-error:0.141342\n",
      "[581]\teval-error:0.141262\n",
      "[582]\teval-error:0.14125\n",
      "[583]\teval-error:0.141182\n",
      "[584]\teval-error:0.14113\n",
      "[585]\teval-error:0.141002\n",
      "[586]\teval-error:0.140962\n",
      "[587]\teval-error:0.140862\n",
      "[588]\teval-error:0.140786\n",
      "[589]\teval-error:0.140662\n",
      "[590]\teval-error:0.140459\n",
      "[591]\teval-error:0.140159\n",
      "[592]\teval-error:0.140135\n",
      "[593]\teval-error:0.140139\n",
      "[594]\teval-error:0.140083\n",
      "[595]\teval-error:0.139943\n",
      "[596]\teval-error:0.139939\n",
      "[597]\teval-error:0.139823\n",
      "[598]\teval-error:0.139751\n",
      "[599]\teval-error:0.139679\n",
      "[600]\teval-error:0.139731\n",
      "[601]\teval-error:0.139671\n",
      "[602]\teval-error:0.139631\n",
      "[603]\teval-error:0.139615\n",
      "[604]\teval-error:0.139595\n",
      "[605]\teval-error:0.139491\n",
      "[606]\teval-error:0.139407\n",
      "[607]\teval-error:0.139283\n",
      "[608]\teval-error:0.139275\n",
      "[609]\teval-error:0.139243\n",
      "[610]\teval-error:0.139107\n",
      "[611]\teval-error:0.139007\n",
      "[612]\teval-error:0.138968\n",
      "[613]\teval-error:0.13884\n",
      "[614]\teval-error:0.138736\n",
      "[615]\teval-error:0.138708\n",
      "[616]\teval-error:0.138568\n",
      "[617]\teval-error:0.138556\n",
      "[618]\teval-error:0.138456\n",
      "[619]\teval-error:0.138384\n",
      "[620]\teval-error:0.138416\n",
      "[621]\teval-error:0.1383\n",
      "[622]\teval-error:0.138216\n",
      "[623]\teval-error:0.138068\n",
      "[624]\teval-error:0.13782\n",
      "[625]\teval-error:0.13774\n",
      "[626]\teval-error:0.137712\n",
      "[627]\teval-error:0.137652\n",
      "[628]\teval-error:0.1376\n",
      "[629]\teval-error:0.137588\n",
      "[630]\teval-error:0.137496\n",
      "[631]\teval-error:0.137432\n",
      "[632]\teval-error:0.137344\n",
      "[633]\teval-error:0.137313\n",
      "[634]\teval-error:0.137029\n",
      "[635]\teval-error:0.137045\n",
      "[636]\teval-error:0.136893\n",
      "[637]\teval-error:0.136869\n"
     ]
    },
    {
     "name": "stdout",
     "output_type": "stream",
     "text": [
      "[638]\teval-error:0.136853\n",
      "[639]\teval-error:0.136669\n",
      "[640]\teval-error:0.136629\n",
      "[641]\teval-error:0.136521\n",
      "[642]\teval-error:0.136457\n",
      "[643]\teval-error:0.136353\n",
      "[644]\teval-error:0.136225\n",
      "[645]\teval-error:0.136005\n",
      "[646]\teval-error:0.135977\n",
      "[647]\teval-error:0.135841\n",
      "[648]\teval-error:0.135765\n",
      "[649]\teval-error:0.135713\n",
      "[650]\teval-error:0.135642\n",
      "[651]\teval-error:0.13563\n",
      "[652]\teval-error:0.135578\n",
      "[653]\teval-error:0.135526\n",
      "[654]\teval-error:0.135462\n",
      "[655]\teval-error:0.135354\n",
      "[656]\teval-error:0.135322\n",
      "[657]\teval-error:0.135242\n",
      "[658]\teval-error:0.135226\n",
      "[659]\teval-error:0.13519\n",
      "[660]\teval-error:0.134994\n",
      "[661]\teval-error:0.134806\n",
      "[662]\teval-error:0.134842\n",
      "[663]\teval-error:0.134666\n",
      "[664]\teval-error:0.134606\n",
      "[665]\teval-error:0.134338\n",
      "[666]\teval-error:0.134318\n",
      "[667]\teval-error:0.13429\n",
      "[668]\teval-error:0.134322\n",
      "[669]\teval-error:0.134242\n",
      "[670]\teval-error:0.134186\n",
      "[671]\teval-error:0.134039\n",
      "[672]\teval-error:0.133995\n",
      "[673]\teval-error:0.133891\n",
      "[674]\teval-error:0.133851\n",
      "[675]\teval-error:0.133859\n",
      "[676]\teval-error:0.133731\n",
      "[677]\teval-error:0.133655\n",
      "[678]\teval-error:0.133563\n",
      "[679]\teval-error:0.133535\n",
      "[680]\teval-error:0.133539\n",
      "[681]\teval-error:0.133443\n",
      "[682]\teval-error:0.133383\n",
      "[683]\teval-error:0.133291\n",
      "[684]\teval-error:0.133199\n",
      "[685]\teval-error:0.133211\n",
      "[686]\teval-error:0.133015\n",
      "[687]\teval-error:0.133011\n",
      "[688]\teval-error:0.132963\n",
      "[689]\teval-error:0.132899\n",
      "[690]\teval-error:0.132815\n",
      "[691]\teval-error:0.132795\n",
      "[692]\teval-error:0.132743\n",
      "[693]\teval-error:0.132647\n",
      "[694]\teval-error:0.132607\n",
      "[695]\teval-error:0.132463\n",
      "[696]\teval-error:0.132435\n",
      "[697]\teval-error:0.132256\n",
      "[698]\teval-error:0.132252\n",
      "[699]\teval-error:0.132204\n",
      "[700]\teval-error:0.132144\n",
      "[701]\teval-error:0.132112\n",
      "[702]\teval-error:0.132064\n",
      "[703]\teval-error:0.132056\n",
      "[704]\teval-error:0.132024\n",
      "[705]\teval-error:0.13194\n",
      "[706]\teval-error:0.131792\n",
      "[707]\teval-error:0.131716\n",
      "[708]\teval-error:0.131628\n",
      "[709]\teval-error:0.131532\n",
      "[710]\teval-error:0.131492\n",
      "[711]\teval-error:0.131476\n",
      "[712]\teval-error:0.131464\n",
      "[713]\teval-error:0.131364\n",
      "[714]\teval-error:0.131292\n",
      "[715]\teval-error:0.131212\n",
      "[716]\teval-error:0.131184\n",
      "[717]\teval-error:0.131172\n",
      "[718]\teval-error:0.131108\n",
      "[719]\teval-error:0.131056\n",
      "[720]\teval-error:0.130992\n",
      "[721]\teval-error:0.130896\n",
      "[722]\teval-error:0.130812\n",
      "[723]\teval-error:0.130685\n",
      "[724]\teval-error:0.130637\n",
      "[725]\teval-error:0.130665\n",
      "[726]\teval-error:0.130585\n",
      "[727]\teval-error:0.130589\n",
      "[728]\teval-error:0.130553\n",
      "[729]\teval-error:0.130513\n",
      "[730]\teval-error:0.130497\n",
      "[731]\teval-error:0.130453\n",
      "[732]\teval-error:0.130485\n",
      "[733]\teval-error:0.130425\n",
      "[734]\teval-error:0.130249\n",
      "[735]\teval-error:0.130113\n",
      "[736]\teval-error:0.130009\n",
      "[737]\teval-error:0.130005\n",
      "[738]\teval-error:0.129929\n",
      "[739]\teval-error:0.129789\n",
      "[740]\teval-error:0.129757\n",
      "[741]\teval-error:0.129649\n",
      "[742]\teval-error:0.129569\n",
      "[743]\teval-error:0.129465\n",
      "[744]\teval-error:0.129437\n",
      "[745]\teval-error:0.129425\n",
      "[746]\teval-error:0.129413\n",
      "[747]\teval-error:0.129393\n",
      "[748]\teval-error:0.129281\n",
      "[749]\teval-error:0.129185\n",
      "[750]\teval-error:0.128886\n",
      "[751]\teval-error:0.128838\n",
      "[752]\teval-error:0.128686\n",
      "[753]\teval-error:0.128646\n",
      "[754]\teval-error:0.128626\n",
      "[755]\teval-error:0.128478\n",
      "[756]\teval-error:0.12839\n",
      "[757]\teval-error:0.128354\n",
      "[758]\teval-error:0.128078\n",
      "[759]\teval-error:0.128098\n",
      "[760]\teval-error:0.12807\n",
      "[761]\teval-error:0.128018\n",
      "[762]\teval-error:0.127942\n",
      "[763]\teval-error:0.127874\n",
      "[764]\teval-error:0.12771\n",
      "[765]\teval-error:0.127518\n",
      "[766]\teval-error:0.127375\n",
      "[767]\teval-error:0.127271\n",
      "[768]\teval-error:0.127259\n",
      "[769]\teval-error:0.127207\n",
      "[770]\teval-error:0.127155\n",
      "[771]\teval-error:0.127159\n",
      "[772]\teval-error:0.127095\n",
      "[773]\teval-error:0.126907\n",
      "[774]\teval-error:0.126867\n",
      "[775]\teval-error:0.126763\n",
      "[776]\teval-error:0.126735\n",
      "[777]\teval-error:0.126599\n",
      "[778]\teval-error:0.126523\n",
      "[779]\teval-error:0.126491\n",
      "[780]\teval-error:0.126439\n",
      "[781]\teval-error:0.126455\n",
      "[782]\teval-error:0.126411\n",
      "[783]\teval-error:0.126399\n",
      "[784]\teval-error:0.126391\n",
      "[785]\teval-error:0.126299\n",
      "[786]\teval-error:0.126215\n",
      "[787]\teval-error:0.126247\n",
      "[788]\teval-error:0.126211\n",
      "[789]\teval-error:0.126083\n",
      "[790]\teval-error:0.126063\n",
      "[791]\teval-error:0.126035\n",
      "[792]\teval-error:0.125983\n",
      "[793]\teval-error:0.125883\n",
      "[794]\teval-error:0.125883\n",
      "[795]\teval-error:0.125724\n",
      "[796]\teval-error:0.12568\n",
      "[797]\teval-error:0.125552\n",
      "[798]\teval-error:0.125388\n",
      "[799]\teval-error:0.125384\n",
      "[800]\teval-error:0.12538\n",
      "[801]\teval-error:0.125336\n",
      "[802]\teval-error:0.125236\n",
      "[803]\teval-error:0.125144\n",
      "[804]\teval-error:0.125\n",
      "[805]\teval-error:0.124924\n",
      "[806]\teval-error:0.124868\n",
      "[807]\teval-error:0.124832\n",
      "[808]\teval-error:0.124756\n",
      "[809]\teval-error:0.124712\n",
      "[810]\teval-error:0.124712\n",
      "[811]\teval-error:0.12468\n",
      "[812]\teval-error:0.124664\n",
      "[813]\teval-error:0.124488\n",
      "[814]\teval-error:0.124392\n",
      "[815]\teval-error:0.124316\n",
      "[816]\teval-error:0.12428\n",
      "[817]\teval-error:0.124272\n",
      "[818]\teval-error:0.124272\n",
      "[819]\teval-error:0.124248\n",
      "[820]\teval-error:0.124097\n",
      "[821]\teval-error:0.124105\n",
      "[822]\teval-error:0.124005\n",
      "[823]\teval-error:0.124021\n",
      "[824]\teval-error:0.123857\n",
      "[825]\teval-error:0.123813\n",
      "[826]\teval-error:0.123793\n",
      "[827]\teval-error:0.123753\n",
      "[828]\teval-error:0.123709\n",
      "[829]\teval-error:0.123713\n",
      "[830]\teval-error:0.123533\n",
      "[831]\teval-error:0.123433\n",
      "[832]\teval-error:0.123309\n",
      "[833]\teval-error:0.123181\n",
      "[834]\teval-error:0.123053\n",
      "[835]\teval-error:0.122973\n",
      "[836]\teval-error:0.122941\n",
      "[837]\teval-error:0.122953\n",
      "[838]\teval-error:0.122949\n",
      "[839]\teval-error:0.122905\n",
      "[840]\teval-error:0.122789\n",
      "[841]\teval-error:0.122689\n",
      "[842]\teval-error:0.122629\n",
      "[843]\teval-error:0.122593\n",
      "[844]\teval-error:0.122609\n",
      "[845]\teval-error:0.122518\n",
      "[846]\teval-error:0.122534\n",
      "[847]\teval-error:0.122534\n",
      "[848]\teval-error:0.122466\n",
      "[849]\teval-error:0.12247\n",
      "[850]\teval-error:0.122354\n",
      "[851]\teval-error:0.122306\n",
      "[852]\teval-error:0.122258\n",
      "[853]\teval-error:0.122118\n",
      "[854]\teval-error:0.122038\n",
      "[855]\teval-error:0.122018\n",
      "[856]\teval-error:0.12201\n",
      "[857]\teval-error:0.121966\n",
      "[858]\teval-error:0.12195\n",
      "[859]\teval-error:0.121826\n",
      "[860]\teval-error:0.121806\n",
      "[861]\teval-error:0.121726\n",
      "[862]\teval-error:0.121614\n",
      "[863]\teval-error:0.12151\n",
      "[864]\teval-error:0.121386\n",
      "[865]\teval-error:0.121302\n",
      "[866]\teval-error:0.121322\n",
      "[867]\teval-error:0.121206\n",
      "[868]\teval-error:0.121166\n",
      "[869]\teval-error:0.121106\n",
      "[870]\teval-error:0.121094\n",
      "[871]\teval-error:0.121126\n",
      "[872]\teval-error:0.12113\n",
      "[873]\teval-error:0.12097\n",
      "[874]\teval-error:0.120851\n",
      "[875]\teval-error:0.120867\n",
      "[876]\teval-error:0.120711\n",
      "[877]\teval-error:0.120615\n",
      "[878]\teval-error:0.120571\n",
      "[879]\teval-error:0.120499\n",
      "[880]\teval-error:0.120531\n",
      "[881]\teval-error:0.120523\n",
      "[882]\teval-error:0.120347\n",
      "[883]\teval-error:0.120251\n",
      "[884]\teval-error:0.120259\n",
      "[885]\teval-error:0.120263\n",
      "[886]\teval-error:0.120259\n",
      "[887]\teval-error:0.120171\n",
      "[888]\teval-error:0.120111\n",
      "[889]\teval-error:0.120091\n",
      "[890]\teval-error:0.120027\n",
      "[891]\teval-error:0.119899\n"
     ]
    }
   ],
   "source": [
    "fparams = {'eta': 0.1, 'seed':52, 'subsample': 0.9, 'colsample_bytree': 0.9,\n",
    "           'objective': 'binary:logistic', 'max_depth':16, 'min_child_weight':17,\n",
    "           'scale_pos_weight':1.5, 'tree_method' : 'auto', 'gamma':0.3\n",
    "          }\n",
    "watchlist = [(train_dmatr, 'eval')]\n",
    "num_round = 892\n",
    "final_gb = xgb.train(fparams,\n",
    "                     train_dmatr,\n",
    "                     num_round ,\n",
    "                     watchlist,\n",
    "                     verbose_eval = True,\n",
    "                    )   "
   ]
  },
  {
   "cell_type": "code",
   "execution_count": 12,
   "metadata": {
    "scrolled": true
   },
   "outputs": [],
   "source": [
    "final_gb.save_model('DAP_xgboost_2_1.model')\n",
    "final_gb.dump_model('DAP_xgboost_2_1.raw.txt')# dump model with feature map"
   ]
  },
  {
   "cell_type": "code",
   "execution_count": null,
   "metadata": {},
   "outputs": [],
   "source": [
    "# https://github.com/dmlc/xgboost/tree/master/demo/binary_classification"
   ]
  },
  {
   "cell_type": "code",
   "execution_count": 13,
   "metadata": {},
   "outputs": [],
   "source": [
    "xfm1res = final_gb.get_fscore()"
   ]
  },
  {
   "cell_type": "code",
   "execution_count": 14,
   "metadata": {},
   "outputs": [],
   "source": [
    "pd.set_option('display.max_rows', 500)\n",
    "xfm1resdf = pd.DataFrame()\n",
    "xfm1resdf['res'] = pd.Series(xfm1res,index=xfm1res.keys())\n",
    "xfm1resdf.sort_values(by='res',ascending=False, inplace=True)"
   ]
  },
  {
   "cell_type": "code",
   "execution_count": 16,
   "metadata": {
    "scrolled": true
   },
   "outputs": [
    {
     "data": {
      "text/plain": [
       "275"
      ]
     },
     "execution_count": 16,
     "metadata": {},
     "output_type": "execute_result"
    }
   ],
   "source": [
    "len(xfm1resdf.loc[xfm1resdf.loc[:,'res'] > 40,:])"
   ]
  },
  {
   "cell_type": "code",
   "execution_count": 17,
   "metadata": {},
   "outputs": [],
   "source": [
    "variables2series = pd.Series(xfm1resdf.loc[xfm1resdf.loc[:,'res'] > 40,:].index.values)\n",
    "variables2series.to_csv('variables3.csv',index=False)"
   ]
  },
  {
   "cell_type": "markdown",
   "metadata": {},
   "source": [
    "## Test data"
   ]
  },
  {
   "cell_type": "code",
   "execution_count": 244,
   "metadata": {},
   "outputs": [],
   "source": [
    "# dateCrawled"
   ]
  },
  {
   "cell_type": "code",
   "execution_count": 245,
   "metadata": {},
   "outputs": [],
   "source": [
    "df2 = pd.read_csv(\"/home/longa/03_tarolo/BME/dap/nagyhazi/autos_testing_final.csv\",sep='|')"
   ]
  },
  {
   "cell_type": "code",
   "execution_count": 246,
   "metadata": {},
   "outputs": [],
   "source": [
    "df2['dateCrawled'] = pd.to_datetime(df2['dateCrawled'],format = \"%Y/%m/%d %H:%M:%S\")"
   ]
  },
  {
   "cell_type": "code",
   "execution_count": 247,
   "metadata": {},
   "outputs": [],
   "source": [
    "#name"
   ]
  },
  {
   "cell_type": "code",
   "execution_count": 248,
   "metadata": {},
   "outputs": [
    {
     "data": {
      "text/plain": [
       "107208"
      ]
     },
     "execution_count": 248,
     "metadata": {},
     "output_type": "execute_result"
    }
   ],
   "source": [
    "df2_name = df2.loc[:,'name'].tolist()\n",
    "len(df2_name)"
   ]
  },
  {
   "cell_type": "code",
   "execution_count": 249,
   "metadata": {},
   "outputs": [
    {
     "data": {
      "text/plain": [
       "107208"
      ]
     },
     "execution_count": 249,
     "metadata": {},
     "output_type": "execute_result"
    }
   ],
   "source": [
    "df2_name_uniq = df2.loc[:,'name'].tolist()\n",
    "tt = [(x.lower()) for x in df2_name]\n",
    "cml = [\"'\",\"!\",\"#\",\"$\",\"%\",\"&\",\"*\",\"+\",\"/\",\"~\",\"|\",\";\",\" \"]\n",
    "for m in cml:\n",
    "    tt = [x.replace(m,\" \") for x in tt]\n",
    "len(tt)"
   ]
  },
  {
   "cell_type": "code",
   "execution_count": 250,
   "metadata": {},
   "outputs": [
    {
     "data": {
      "text/plain": [
       "107208"
      ]
     },
     "execution_count": 250,
     "metadata": {},
     "output_type": "execute_result"
    }
   ],
   "source": [
    "t2 = [x.replace(\"benz\",\"\") for x in t2]\n",
    "t2 = [x.replace(\"romeo\",\"\") for x in t2]\n",
    "t2 = [x.replace(\"20_v\",\"20v\") for x in t2]\n",
    "t2 = [x.replace(\"12_v\",\"12v\") for x in t2]\n",
    "t2 = [x.replace(\"1_hand\",\"1.hand\") for x in t2]\n",
    "t2 = [x.replace(\"2._hand\",\"2.hand\") for x in t2]\n",
    "t2 = [x.replace(\"2_hand\",\"2.hand\") for x in t2]\n",
    "t2 = [x.replace(\"neu.\",\"neu\") for x in t2]\n",
    "t2 = [x.replace(\"golf4\",\"golf\") for x in t2]\n",
    "t2 = [x.replace(\"3.0tdi\",\"3.0_tdi\") for x in t2]\n",
    "t2 = [x.replace(\"neues\",\"neue\") for x in t2]\n",
    "t2 = [x.replace(\"2.5tdi\",\"2.5 tdi\") for x in t2]\n",
    "t2 = [x.replace(\"sportfahrwerk\",\"sport\") for x in t2]\n",
    "t2 = [x.replace(\"1.8l\",\"1.8\") for x in t2]\n",
    "t2 = [x.replace(\"2.2i\",\"2.0\") for x in t2\n",
    "t2 = [x.replace(\"neuer\",\"neue\") for x in t2]\n",
    "t2 = [x.replace(\"new\",\"neue\") for x in t2]\n",
    "t2 = [x.replace(\"1.6i\",\"1.6\") for x in t2]\n",
    "t2 = [x.replace(\"2.0t\",\"2.0\") for x in t2]\n",
    "t2 = [x.replace(\"neuem\",\"neue\") for x in t2]\n",
    "t2 = [x.replace(\"sportline\",\"sport\") for x in t2]\n",
    "t2 = [x.replace(\"klimaanlage\",\"klima\") for x in t2]\n",
    "t2 = [x.replace(\"klimaautomatik\",\"klima\") for x in t2]\n",
    "t2 = [x.replace(\"citro?n\",\"citroen\") for x in t2]\n",
    "t2 = [x.replace(\"vw\",\"volkswagen\") for x in t2]\n",
    "t2 = [x.replace(\"tuv.\",\"tuev\") for x in t2]\n",
    "t2 = [x.replace(\"cabriolet\",\"cabrio\") for x in t2]\n",
    "t2 = [x.replace(\"limousineusine\",\"limousine\") for x in t2]\n",
    "t2 = [x.replace(\"aut.\",\"automatik\") for x in t2]\n",
    "t2 = [x.split('_') for x in t2]\n",
    "len(t2)"
   ]
  },
  {
   "cell_type": "code",
   "execution_count": 251,
   "metadata": {},
   "outputs": [],
   "source": [
    "tt2 = [rvil(x,\"mercedes\",\"mercedes_benz\") for x in tt2]\n",
    "tt2 = [rvil(x,\"alfa\",\"alfa_romeo\") for x in tt2]"
   ]
  },
  {
   "cell_type": "code",
   "execution_count": 252,
   "metadata": {},
   "outputs": [],
   "source": [
    "for nstr in fin_wrd_lt:\n",
    "    df2.loc[:,nstr] = np.float32(0)\n",
    "    df2.loc[[string_in_row(nstr,r) for r in tt2],nstr] = np.float32(1)"
   ]
  },
  {
   "cell_type": "code",
   "execution_count": 253,
   "metadata": {},
   "outputs": [],
   "source": [
    "del df2['name']"
   ]
  },
  {
   "cell_type": "code",
   "execution_count": 254,
   "metadata": {},
   "outputs": [],
   "source": [
    "# seller"
   ]
  },
  {
   "cell_type": "code",
   "execution_count": 255,
   "metadata": {},
   "outputs": [],
   "source": [
    "df2.loc[:,'seller'] = df2.loc[:,'seller'].replace(df_seller).astype(dtype=np.float32)"
   ]
  },
  {
   "cell_type": "code",
   "execution_count": 256,
   "metadata": {},
   "outputs": [],
   "source": [
    "# offerType"
   ]
  },
  {
   "cell_type": "code",
   "execution_count": 257,
   "metadata": {},
   "outputs": [],
   "source": [
    "df2.loc[:,'offerType'] = df2.loc[:,'offerType'].replace(df_offertype).astype(dtype=np.float32)"
   ]
  },
  {
   "cell_type": "code",
   "execution_count": 258,
   "metadata": {},
   "outputs": [],
   "source": [
    "# brand"
   ]
  },
  {
   "cell_type": "code",
   "execution_count": 259,
   "metadata": {},
   "outputs": [],
   "source": [
    "df2.loc[:,'helper'] = np.float32(1)"
   ]
  },
  {
   "cell_type": "code",
   "execution_count": 260,
   "metadata": {},
   "outputs": [],
   "source": [
    "for nstr in list(df_brand.keys()):\n",
    "    df2.loc[:,nstr] = np.float32(0)\n",
    "    df2.loc[df2.loc[:,'brand'] == nstr,nstr] = np.float32(1)"
   ]
  },
  {
   "cell_type": "code",
   "execution_count": 261,
   "metadata": {},
   "outputs": [],
   "source": [
    "del df2['brand']"
   ]
  },
  {
   "cell_type": "code",
   "execution_count": 263,
   "metadata": {},
   "outputs": [],
   "source": [
    "# vehicleType"
   ]
  },
  {
   "cell_type": "code",
   "execution_count": 264,
   "metadata": {},
   "outputs": [],
   "source": [
    "for nstr in list(df_vehicletype.keys()):\n",
    "    df2.loc[df2.loc[:,'vehicleType'] == nstr,nstr] = np.float32(1)"
   ]
  },
  {
   "cell_type": "code",
   "execution_count": 265,
   "metadata": {},
   "outputs": [],
   "source": [
    "del df2['vehicleType']"
   ]
  },
  {
   "cell_type": "code",
   "execution_count": 266,
   "metadata": {},
   "outputs": [],
   "source": [
    "# monthOfRegistration - yearOfRegistration"
   ]
  },
  {
   "cell_type": "code",
   "execution_count": 267,
   "metadata": {},
   "outputs": [],
   "source": [
    "df2.loc[df2.loc[:,'monthOfRegistration'] == 0,'monthOfRegistration'] = 1"
   ]
  },
  {
   "cell_type": "code",
   "execution_count": 268,
   "metadata": {},
   "outputs": [],
   "source": [
    "df2.loc[\n",
    "    df2.loc[:,'yearOfRegistration'] < 1678,'yearOfRegistration'\n",
    "] = 1678"
   ]
  },
  {
   "cell_type": "code",
   "execution_count": 269,
   "metadata": {},
   "outputs": [],
   "source": [
    "df2['Registration'] = df2.loc[:,'yearOfRegistration'].astype(dtype=np.int16).map(str) + '-' + df2.loc[:,'monthOfRegistration'].astype(dtype=np.int16).map(str) + '-' + '1 00:00:00'"
   ]
  },
  {
   "cell_type": "code",
   "execution_count": 270,
   "metadata": {},
   "outputs": [],
   "source": [
    "df2['Registration'] = df2['Registration'].apply(lambda x: pd.to_datetime(dt.datetime.strptime(x,\"%Y-%m-%d %H:%M:%S\"),format = \"%Y-%m-%d %H:%M:%S\"))"
   ]
  },
  {
   "cell_type": "code",
   "execution_count": 271,
   "metadata": {},
   "outputs": [],
   "source": [
    "ddict = {}\n",
    "n = 0\n",
    "for n in range(len(df2['dateCrawled'])):\n",
    "    t = df2['dateCrawled'][n] - df2['Registration'][n]\n",
    "    ddict[n] = t.days"
   ]
  },
  {
   "cell_type": "code",
   "execution_count": 272,
   "metadata": {},
   "outputs": [],
   "source": [
    "pds_ddict = pd.Series(ddict)"
   ]
  },
  {
   "cell_type": "code",
   "execution_count": 273,
   "metadata": {},
   "outputs": [],
   "source": [
    "df2['Registration'] = pds_ddict.astype(dtype=np.float32)"
   ]
  },
  {
   "cell_type": "code",
   "execution_count": 274,
   "metadata": {},
   "outputs": [],
   "source": [
    "del df2['yearOfRegistration']\n",
    "del df2['monthOfRegistration']"
   ]
  },
  {
   "cell_type": "code",
   "execution_count": 275,
   "metadata": {},
   "outputs": [],
   "source": [
    "# gearbox"
   ]
  },
  {
   "cell_type": "code",
   "execution_count": 277,
   "metadata": {},
   "outputs": [],
   "source": [
    "for nstr in list(df_gearbox.keys()):\n",
    "    if nstr in df2.columns.values.tolist():\n",
    "        df2.loc[df2.loc[:,'gearbox'] == nstr,nstr] = np.float32(1)\n",
    "    else:\n",
    "        df2[nstr] = np.float32(0)\n",
    "        df2.loc[df2.loc[:,'gearbox'] == nstr,nstr] = np.float32(1)"
   ]
  },
  {
   "cell_type": "code",
   "execution_count": 280,
   "metadata": {},
   "outputs": [],
   "source": [
    "del df2['gearbox']"
   ]
  },
  {
   "cell_type": "code",
   "execution_count": 281,
   "metadata": {},
   "outputs": [],
   "source": [
    "# powerps"
   ]
  },
  {
   "cell_type": "code",
   "execution_count": 282,
   "metadata": {},
   "outputs": [],
   "source": [
    "df2.loc[:,'powerPS'] = df2.loc[:,'powerPS'].astype(dtype=np.float32)"
   ]
  },
  {
   "cell_type": "code",
   "execution_count": 283,
   "metadata": {},
   "outputs": [],
   "source": [
    "df2.loc[df2.loc[:,'powerPS'] < 30,'powerPS'] = np.nan\n",
    "df2.loc[df2.loc[:,'powerPS'] > 2200,'powerPS'] = np.nan"
   ]
  },
  {
   "cell_type": "code",
   "execution_count": 285,
   "metadata": {},
   "outputs": [],
   "source": [
    "# model"
   ]
  },
  {
   "cell_type": "code",
   "execution_count": 286,
   "metadata": {},
   "outputs": [],
   "source": [
    "for nstr in list(df_model.keys()):\n",
    "    if nstr in df2.columns.values.tolist():\n",
    "        df2.loc[df2.loc[:,'model'] == nstr,nstr] = np.float32(1)\n",
    "    else:\n",
    "        df2[nstr] = np.float32(0)\n",
    "        df2.loc[df2.loc[:,'model'] == nstr,nstr] = np.float32(1)"
   ]
  },
  {
   "cell_type": "code",
   "execution_count": 287,
   "metadata": {},
   "outputs": [],
   "source": [
    "del df2['model']"
   ]
  },
  {
   "cell_type": "code",
   "execution_count": 288,
   "metadata": {},
   "outputs": [],
   "source": [
    "# kilometer"
   ]
  },
  {
   "cell_type": "code",
   "execution_count": 289,
   "metadata": {},
   "outputs": [],
   "source": [
    "df2.loc[:,'kilometer'] = df2.loc[:,'kilometer'].astype(dtype=np.float32)"
   ]
  },
  {
   "cell_type": "code",
   "execution_count": 290,
   "metadata": {},
   "outputs": [],
   "source": [
    "#fueltype"
   ]
  },
  {
   "cell_type": "code",
   "execution_count": 291,
   "metadata": {},
   "outputs": [],
   "source": [
    "for nstr in list(df_fuelType.keys()):\n",
    "    if nstr in df2.columns.values.tolist():\n",
    "        df2.loc[df2.loc[:,'fuelType'] == nstr,nstr] = np.float32(1)\n",
    "    else:\n",
    "        df2[nstr] = np.float32(0)\n",
    "        df2.loc[df2.loc[:,'fuelType'] == nstr,nstr] = np.float32(1)"
   ]
  },
  {
   "cell_type": "code",
   "execution_count": 292,
   "metadata": {},
   "outputs": [],
   "source": [
    "del df2['fuelType']"
   ]
  },
  {
   "cell_type": "code",
   "execution_count": 293,
   "metadata": {},
   "outputs": [],
   "source": [
    "# notRepairedDamage"
   ]
  },
  {
   "cell_type": "code",
   "execution_count": 294,
   "metadata": {},
   "outputs": [],
   "source": [
    "df2.loc[:,'notRepairedDamage'] = df2.loc[:,'notRepairedDamage'].replace(df_notRepairedDamage)"
   ]
  },
  {
   "cell_type": "code",
   "execution_count": 295,
   "metadata": {},
   "outputs": [],
   "source": [
    "df2.loc[:,'notRepairedDamage'] = df2.loc[:,'notRepairedDamage'].astype(dtype=np.float32)"
   ]
  },
  {
   "cell_type": "code",
   "execution_count": 296,
   "metadata": {},
   "outputs": [],
   "source": [
    "# dateCreated"
   ]
  },
  {
   "cell_type": "code",
   "execution_count": 297,
   "metadata": {},
   "outputs": [],
   "source": [
    "df2['dateCreated'] = pd.to_datetime(df2['dateCreated'],format = \"%Y/%m/%d %H:%M:%S\")"
   ]
  },
  {
   "cell_type": "code",
   "execution_count": 298,
   "metadata": {},
   "outputs": [],
   "source": [
    "df_dateCreated = df2['dateCreated'] - df2['dateCrawled']\n",
    "df_dateCreated = df_dateCreated.dt.days"
   ]
  },
  {
   "cell_type": "code",
   "execution_count": 299,
   "metadata": {},
   "outputs": [],
   "source": [
    "df2.loc[:,'dateCreated'] = df_dateCreated.astype(dtype=np.float32)"
   ]
  },
  {
   "cell_type": "code",
   "execution_count": 300,
   "metadata": {},
   "outputs": [],
   "source": [
    "# postalCode"
   ]
  },
  {
   "cell_type": "code",
   "execution_count": 301,
   "metadata": {},
   "outputs": [],
   "source": [
    "df2.loc[:,'postalCode'] = df2.loc[:,'postalCode'].replace(depostaldict)"
   ]
  },
  {
   "cell_type": "code",
   "execution_count": 302,
   "metadata": {},
   "outputs": [],
   "source": [
    "for nstr in df1_postal_vars:\n",
    "    df2[nstr] = np.float32(0)\n",
    "    df2.loc[df2.loc[:,'postalCode'] == nstr,nstr] = np.float32(1)"
   ]
  },
  {
   "cell_type": "code",
   "execution_count": 303,
   "metadata": {},
   "outputs": [],
   "source": [
    "del df2['postalCode']"
   ]
  },
  {
   "cell_type": "code",
   "execution_count": 304,
   "metadata": {},
   "outputs": [],
   "source": [
    "# lastSeen"
   ]
  },
  {
   "cell_type": "code",
   "execution_count": 305,
   "metadata": {
    "scrolled": true
   },
   "outputs": [],
   "source": [
    "df2['lastSeen'] = pd.to_datetime(df2['lastSeen'],format = \"%Y/%m/%d %H:%M:%S\")"
   ]
  },
  {
   "cell_type": "code",
   "execution_count": 306,
   "metadata": {},
   "outputs": [],
   "source": [
    "df_lastSeen = df2['dateCrawled'] - df2['lastSeen']"
   ]
  },
  {
   "cell_type": "code",
   "execution_count": 307,
   "metadata": {},
   "outputs": [],
   "source": [
    "df_lastSeen = df_lastSeen.dt.days*24 + df_lastSeen.dt.seconds/60/60/60"
   ]
  },
  {
   "cell_type": "code",
   "execution_count": 308,
   "metadata": {},
   "outputs": [],
   "source": [
    "df2['lastSeen'] = df_lastSeen"
   ]
  },
  {
   "cell_type": "code",
   "execution_count": 309,
   "metadata": {},
   "outputs": [],
   "source": [
    "del df2['dateCrawled']"
   ]
  },
  {
   "cell_type": "code",
   "execution_count": 310,
   "metadata": {},
   "outputs": [],
   "source": [
    "#id"
   ]
  },
  {
   "cell_type": "code",
   "execution_count": 311,
   "metadata": {},
   "outputs": [],
   "source": [
    "# del df['id']"
   ]
  },
  {
   "cell_type": "code",
   "execution_count": 314,
   "metadata": {},
   "outputs": [
    {
     "data": {
      "text/plain": [
       "543"
      ]
     },
     "execution_count": 314,
     "metadata": {},
     "output_type": "execute_result"
    }
   ],
   "source": [
    "len(df2.columns.values)"
   ]
  },
  {
   "cell_type": "code",
   "execution_count": 313,
   "metadata": {},
   "outputs": [
    {
     "data": {
      "text/plain": [
       "542"
      ]
     },
     "execution_count": 313,
     "metadata": {},
     "output_type": "execute_result"
    }
   ],
   "source": [
    "len(df.columns.values)"
   ]
  },
  {
   "cell_type": "code",
   "execution_count": 323,
   "metadata": {},
   "outputs": [],
   "source": [
    "df2.to_csv('df_test_clean.csv',index=False)"
   ]
  },
  {
   "cell_type": "code",
   "execution_count": 315,
   "metadata": {
    "scrolled": true
   },
   "outputs": [
    {
     "data": {
      "text/plain": [
       "126"
      ]
     },
     "execution_count": 315,
     "metadata": {},
     "output_type": "execute_result"
    }
   ],
   "source": [
    "len(df[variables].columns.values)"
   ]
  },
  {
   "cell_type": "code",
   "execution_count": 316,
   "metadata": {
    "scrolled": true
   },
   "outputs": [
    {
     "data": {
      "text/plain": [
       "126"
      ]
     },
     "execution_count": 316,
     "metadata": {},
     "output_type": "execute_result"
    }
   ],
   "source": [
    "len(df2[variables].columns.values)"
   ]
  },
  {
   "cell_type": "markdown",
   "metadata": {},
   "source": [
    "# Prediction"
   ]
  },
  {
   "cell_type": "code",
   "execution_count": 756,
   "metadata": {
    "scrolled": true
   },
   "outputs": [],
   "source": [
    "fnames =  df[variables].columns.values.tolist()\n",
    "xgmte = xgb.DMatrix(df2[variables].values, feature_names = fnames)"
   ]
  },
  {
   "cell_type": "code",
   "execution_count": 758,
   "metadata": {},
   "outputs": [],
   "source": [
    "y_pred = final_gb.predict(xgmte)"
   ]
  },
  {
   "cell_type": "code",
   "execution_count": 759,
   "metadata": {
    "scrolled": true
   },
   "outputs": [],
   "source": [
    "dfres = pd.DataFrame()\n",
    "dfres['id'] = df2['id']"
   ]
  },
  {
   "cell_type": "code",
   "execution_count": 760,
   "metadata": {},
   "outputs": [],
   "source": [
    "dfres.loc[:,'label'] = y_pred"
   ]
  },
  {
   "cell_type": "code",
   "execution_count": 761,
   "metadata": {},
   "outputs": [],
   "source": [
    "dfres.to_csv('autos_submission2.csv',index=False)"
   ]
  },
  {
   "cell_type": "code",
   "execution_count": 762,
   "metadata": {},
   "outputs": [],
   "source": [
    "dfsub = pd.read_csv(\"autos_submission.csv\")"
   ]
  },
  {
   "cell_type": "code",
   "execution_count": 763,
   "metadata": {},
   "outputs": [
    {
     "data": {
      "text/html": [
       "<div>\n",
       "<style scoped>\n",
       "    .dataframe tbody tr th:only-of-type {\n",
       "        vertical-align: middle;\n",
       "    }\n",
       "\n",
       "    .dataframe tbody tr th {\n",
       "        vertical-align: top;\n",
       "    }\n",
       "\n",
       "    .dataframe thead th {\n",
       "        text-align: right;\n",
       "    }\n",
       "</style>\n",
       "<table border=\"1\" class=\"dataframe\">\n",
       "  <thead>\n",
       "    <tr style=\"text-align: right;\">\n",
       "      <th></th>\n",
       "      <th>id</th>\n",
       "      <th>label</th>\n",
       "    </tr>\n",
       "  </thead>\n",
       "  <tbody>\n",
       "    <tr>\n",
       "      <th>0</th>\n",
       "      <td>1.0</td>\n",
       "      <td>0.141615</td>\n",
       "    </tr>\n",
       "    <tr>\n",
       "      <th>1</th>\n",
       "      <td>5.0</td>\n",
       "      <td>0.319741</td>\n",
       "    </tr>\n",
       "    <tr>\n",
       "      <th>2</th>\n",
       "      <td>8.0</td>\n",
       "      <td>0.334041</td>\n",
       "    </tr>\n",
       "    <tr>\n",
       "      <th>3</th>\n",
       "      <td>9.0</td>\n",
       "      <td>0.547345</td>\n",
       "    </tr>\n",
       "    <tr>\n",
       "      <th>4</th>\n",
       "      <td>15.0</td>\n",
       "      <td>0.444139</td>\n",
       "    </tr>\n",
       "  </tbody>\n",
       "</table>\n",
       "</div>"
      ],
      "text/plain": [
       "     id     label\n",
       "0   1.0  0.141615\n",
       "1   5.0  0.319741\n",
       "2   8.0  0.334041\n",
       "3   9.0  0.547345\n",
       "4  15.0  0.444139"
      ]
     },
     "execution_count": 763,
     "metadata": {},
     "output_type": "execute_result"
    }
   ],
   "source": [
    "dfsub.head()"
   ]
  }
 ],
 "metadata": {
  "kernelspec": {
   "display_name": "Python [default]",
   "language": "python",
   "name": "python3"
  },
  "language_info": {
   "codemirror_mode": {
    "name": "ipython",
    "version": 3
   },
   "file_extension": ".py",
   "mimetype": "text/x-python",
   "name": "python",
   "nbconvert_exporter": "python",
   "pygments_lexer": "ipython3",
   "version": "3.6.7"
  }
 },
 "nbformat": 4,
 "nbformat_minor": 2
}
